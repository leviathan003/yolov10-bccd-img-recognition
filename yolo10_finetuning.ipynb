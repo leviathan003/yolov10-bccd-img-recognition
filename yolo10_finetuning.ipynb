{
 "cells": [
  {
   "cell_type": "code",
   "execution_count": 1,
   "metadata": {
    "colab": {
     "base_uri": "https://localhost:8080/"
    },
    "collapsed": true,
    "id": "a4yBY-1unZe7",
    "outputId": "976ce206-574c-4c0d-f99e-efbe6c92bb3a"
   },
   "outputs": [
    {
     "name": "stdout",
     "output_type": "stream",
     "text": [
      "Archive:  /content/data.zip\n",
      "   creating: /content/data/\n",
      "   creating: /content/data/images/\n",
      "   creating: /content/data/images/train/\n",
      "  inflating: /content/data/images/train/BloodImage_00000.jpg  \n",
      "  inflating: /content/data/images/train/BloodImage_00001.jpg  \n",
      "  inflating: /content/data/images/train/BloodImage_00002.jpg  \n",
      "  inflating: /content/data/images/train/BloodImage_00003.jpg  \n",
      "  inflating: /content/data/images/train/BloodImage_00004.jpg  \n",
      "  inflating: /content/data/images/train/BloodImage_00005.jpg  \n",
      "  inflating: /content/data/images/train/BloodImage_00006.jpg  \n",
      "  inflating: /content/data/images/train/BloodImage_00007.jpg  \n",
      "  inflating: /content/data/images/train/BloodImage_00008.jpg  \n",
      "  inflating: /content/data/images/train/BloodImage_00009.jpg  \n",
      "  inflating: /content/data/images/train/BloodImage_00010.jpg  \n",
      "  inflating: /content/data/images/train/BloodImage_00011.jpg  \n",
      "  inflating: /content/data/images/train/BloodImage_00012.jpg  \n",
      "  inflating: /content/data/images/train/BloodImage_00013.jpg  \n",
      "  inflating: /content/data/images/train/BloodImage_00014.jpg  \n",
      "  inflating: /content/data/images/train/BloodImage_00015.jpg  \n",
      "  inflating: /content/data/images/train/BloodImage_00016.jpg  \n",
      "  inflating: /content/data/images/train/BloodImage_00017.jpg  \n",
      "  inflating: /content/data/images/train/BloodImage_00018.jpg  \n",
      "  inflating: /content/data/images/train/BloodImage_00019.jpg  \n",
      "  inflating: /content/data/images/train/BloodImage_00020.jpg  \n",
      "  inflating: /content/data/images/train/BloodImage_00021.jpg  \n",
      "  inflating: /content/data/images/train/BloodImage_00022.jpg  \n",
      "  inflating: /content/data/images/train/BloodImage_00023.jpg  \n",
      "  inflating: /content/data/images/train/BloodImage_00024.jpg  \n",
      "  inflating: /content/data/images/train/BloodImage_00026.jpg  \n",
      "  inflating: /content/data/images/train/BloodImage_00028.jpg  \n",
      "  inflating: /content/data/images/train/BloodImage_00029.jpg  \n",
      "  inflating: /content/data/images/train/BloodImage_00030.jpg  \n",
      "  inflating: /content/data/images/train/BloodImage_00031.jpg  \n",
      "  inflating: /content/data/images/train/BloodImage_00032.jpg  \n",
      "  inflating: /content/data/images/train/BloodImage_00033.jpg  \n",
      "  inflating: /content/data/images/train/BloodImage_00034.jpg  \n",
      "  inflating: /content/data/images/train/BloodImage_00035.jpg  \n",
      "  inflating: /content/data/images/train/BloodImage_00036.jpg  \n",
      "  inflating: /content/data/images/train/BloodImage_00037.jpg  \n",
      "  inflating: /content/data/images/train/BloodImage_00038.jpg  \n",
      "  inflating: /content/data/images/train/BloodImage_00039.jpg  \n",
      "  inflating: /content/data/images/train/BloodImage_00040.jpg  \n",
      "  inflating: /content/data/images/train/BloodImage_00041.jpg  \n",
      "  inflating: /content/data/images/train/BloodImage_00042.jpg  \n",
      "  inflating: /content/data/images/train/BloodImage_00043.jpg  \n",
      "  inflating: /content/data/images/train/BloodImage_00044.jpg  \n",
      "  inflating: /content/data/images/train/BloodImage_00045.jpg  \n",
      "  inflating: /content/data/images/train/BloodImage_00046.jpg  \n",
      "  inflating: /content/data/images/train/BloodImage_00047.jpg  \n",
      "  inflating: /content/data/images/train/BloodImage_00048.jpg  \n",
      "  inflating: /content/data/images/train/BloodImage_00049.jpg  \n",
      "  inflating: /content/data/images/train/BloodImage_00050.jpg  \n",
      "  inflating: /content/data/images/train/BloodImage_00052.jpg  \n",
      "  inflating: /content/data/images/train/BloodImage_00053.jpg  \n",
      "  inflating: /content/data/images/train/BloodImage_00054.jpg  \n",
      "  inflating: /content/data/images/train/BloodImage_00055.jpg  \n",
      "  inflating: /content/data/images/train/BloodImage_00056.jpg  \n",
      "  inflating: /content/data/images/train/BloodImage_00057.jpg  \n",
      "  inflating: /content/data/images/train/BloodImage_00058.jpg  \n",
      "  inflating: /content/data/images/train/BloodImage_00059.jpg  \n",
      "  inflating: /content/data/images/train/BloodImage_00062.jpg  \n",
      "  inflating: /content/data/images/train/BloodImage_00063.jpg  \n",
      "  inflating: /content/data/images/train/BloodImage_00064.jpg  \n",
      "  inflating: /content/data/images/train/BloodImage_00065.jpg  \n",
      "  inflating: /content/data/images/train/BloodImage_00066.jpg  \n",
      "  inflating: /content/data/images/train/BloodImage_00067.jpg  \n",
      "  inflating: /content/data/images/train/BloodImage_00068.jpg  \n",
      "  inflating: /content/data/images/train/BloodImage_00069.jpg  \n",
      "  inflating: /content/data/images/train/BloodImage_00070.jpg  \n",
      "  inflating: /content/data/images/train/BloodImage_00071.jpg  \n",
      "  inflating: /content/data/images/train/BloodImage_00072.jpg  \n",
      "  inflating: /content/data/images/train/BloodImage_00073.jpg  \n",
      "  inflating: /content/data/images/train/BloodImage_00074.jpg  \n",
      "  inflating: /content/data/images/train/BloodImage_00075.jpg  \n",
      "  inflating: /content/data/images/train/BloodImage_00076.jpg  \n",
      "  inflating: /content/data/images/train/BloodImage_00077.jpg  \n",
      "  inflating: /content/data/images/train/BloodImage_00078.jpg  \n",
      "  inflating: /content/data/images/train/BloodImage_00079.jpg  \n",
      "  inflating: /content/data/images/train/BloodImage_00081.jpg  \n",
      "  inflating: /content/data/images/train/BloodImage_00082.jpg  \n",
      "  inflating: /content/data/images/train/BloodImage_00083.jpg  \n",
      "  inflating: /content/data/images/train/BloodImage_00086.jpg  \n",
      "  inflating: /content/data/images/train/BloodImage_00087.jpg  \n",
      "  inflating: /content/data/images/train/BloodImage_00088.jpg  \n",
      "  inflating: /content/data/images/train/BloodImage_00089.jpg  \n",
      "  inflating: /content/data/images/train/BloodImage_00090.jpg  \n",
      "  inflating: /content/data/images/train/BloodImage_00091.jpg  \n",
      "  inflating: /content/data/images/train/BloodImage_00092.jpg  \n",
      "  inflating: /content/data/images/train/BloodImage_00093.jpg  \n",
      "  inflating: /content/data/images/train/BloodImage_00094.jpg  \n",
      "  inflating: /content/data/images/train/BloodImage_00095.jpg  \n",
      "  inflating: /content/data/images/train/BloodImage_00097.jpg  \n",
      "  inflating: /content/data/images/train/BloodImage_00098.jpg  \n",
      "  inflating: /content/data/images/train/BloodImage_00099.jpg  \n",
      "  inflating: /content/data/images/train/BloodImage_00100.jpg  \n",
      "  inflating: /content/data/images/train/BloodImage_00101.jpg  \n",
      "  inflating: /content/data/images/train/BloodImage_00103.jpg  \n",
      "  inflating: /content/data/images/train/BloodImage_00104.jpg  \n",
      "  inflating: /content/data/images/train/BloodImage_00106.jpg  \n",
      "  inflating: /content/data/images/train/BloodImage_00107.jpg  \n",
      "  inflating: /content/data/images/train/BloodImage_00108.jpg  \n",
      "  inflating: /content/data/images/train/BloodImage_00109.jpg  \n",
      "  inflating: /content/data/images/train/BloodImage_00110.jpg  \n",
      "  inflating: /content/data/images/train/BloodImage_00111.jpg  \n",
      "  inflating: /content/data/images/train/BloodImage_00112.jpg  \n",
      "  inflating: /content/data/images/train/BloodImage_00113.jpg  \n",
      "  inflating: /content/data/images/train/BloodImage_00114.jpg  \n",
      "  inflating: /content/data/images/train/BloodImage_00115.jpg  \n",
      "  inflating: /content/data/images/train/BloodImage_00117.jpg  \n",
      "  inflating: /content/data/images/train/BloodImage_00120.jpg  \n",
      "  inflating: /content/data/images/train/BloodImage_00123.jpg  \n",
      "  inflating: /content/data/images/train/BloodImage_00124.jpg  \n",
      "  inflating: /content/data/images/train/BloodImage_00125.jpg  \n",
      "  inflating: /content/data/images/train/BloodImage_00126.jpg  \n",
      "  inflating: /content/data/images/train/BloodImage_00127.jpg  \n",
      "  inflating: /content/data/images/train/BloodImage_00130.jpg  \n",
      "  inflating: /content/data/images/train/BloodImage_00132.jpg  \n",
      "  inflating: /content/data/images/train/BloodImage_00133.jpg  \n",
      "  inflating: /content/data/images/train/BloodImage_00134.jpg  \n",
      "  inflating: /content/data/images/train/BloodImage_00135.jpg  \n",
      "  inflating: /content/data/images/train/BloodImage_00136.jpg  \n",
      "  inflating: /content/data/images/train/BloodImage_00137.jpg  \n",
      "  inflating: /content/data/images/train/BloodImage_00139.jpg  \n",
      "  inflating: /content/data/images/train/BloodImage_00140.jpg  \n",
      "  inflating: /content/data/images/train/BloodImage_00141.jpg  \n",
      "  inflating: /content/data/images/train/BloodImage_00142.jpg  \n",
      "  inflating: /content/data/images/train/BloodImage_00143.jpg  \n",
      "  inflating: /content/data/images/train/BloodImage_00144.jpg  \n",
      "  inflating: /content/data/images/train/BloodImage_00145.jpg  \n",
      "  inflating: /content/data/images/train/BloodImage_00147.jpg  \n",
      "  inflating: /content/data/images/train/BloodImage_00148.jpg  \n",
      "  inflating: /content/data/images/train/BloodImage_00149.jpg  \n",
      "  inflating: /content/data/images/train/BloodImage_00150.jpg  \n",
      "  inflating: /content/data/images/train/BloodImage_00152.jpg  \n",
      "  inflating: /content/data/images/train/BloodImage_00154.jpg  \n",
      "  inflating: /content/data/images/train/BloodImage_00156.jpg  \n",
      "  inflating: /content/data/images/train/BloodImage_00157.jpg  \n",
      "  inflating: /content/data/images/train/BloodImage_00158.jpg  \n",
      "  inflating: /content/data/images/train/BloodImage_00159.jpg  \n",
      "  inflating: /content/data/images/train/BloodImage_00160.jpg  \n",
      "  inflating: /content/data/images/train/BloodImage_00161.jpg  \n",
      "  inflating: /content/data/images/train/BloodImage_00162.jpg  \n",
      "  inflating: /content/data/images/train/BloodImage_00163.jpg  \n",
      "  inflating: /content/data/images/train/BloodImage_00164.jpg  \n",
      "  inflating: /content/data/images/train/BloodImage_00165.jpg  \n",
      "  inflating: /content/data/images/train/BloodImage_00166.jpg  \n",
      "  inflating: /content/data/images/train/BloodImage_00167.jpg  \n",
      "  inflating: /content/data/images/train/BloodImage_00168.jpg  \n",
      "  inflating: /content/data/images/train/BloodImage_00169.jpg  \n",
      "  inflating: /content/data/images/train/BloodImage_00170.jpg  \n",
      "  inflating: /content/data/images/train/BloodImage_00171.jpg  \n",
      "  inflating: /content/data/images/train/BloodImage_00172.jpg  \n",
      "  inflating: /content/data/images/train/BloodImage_00174.jpg  \n",
      "  inflating: /content/data/images/train/BloodImage_00175.jpg  \n",
      "  inflating: /content/data/images/train/BloodImage_00176.jpg  \n",
      "  inflating: /content/data/images/train/BloodImage_00177.jpg  \n",
      "  inflating: /content/data/images/train/BloodImage_00178.jpg  \n",
      "  inflating: /content/data/images/train/BloodImage_00179.jpg  \n",
      "  inflating: /content/data/images/train/BloodImage_00180.jpg  \n",
      "  inflating: /content/data/images/train/BloodImage_00182.jpg  \n",
      "  inflating: /content/data/images/train/BloodImage_00183.jpg  \n",
      "  inflating: /content/data/images/train/BloodImage_00184.jpg  \n",
      "  inflating: /content/data/images/train/BloodImage_00187.jpg  \n",
      "  inflating: /content/data/images/train/BloodImage_00189.jpg  \n",
      "  inflating: /content/data/images/train/BloodImage_00190.jpg  \n",
      "  inflating: /content/data/images/train/BloodImage_00191.jpg  \n",
      "  inflating: /content/data/images/train/BloodImage_00192.jpg  \n",
      "  inflating: /content/data/images/train/BloodImage_00193.jpg  \n",
      "  inflating: /content/data/images/train/BloodImage_00195.jpg  \n",
      "  inflating: /content/data/images/train/BloodImage_00196.jpg  \n",
      "  inflating: /content/data/images/train/BloodImage_00197.jpg  \n",
      "  inflating: /content/data/images/train/BloodImage_00198.jpg  \n",
      "  inflating: /content/data/images/train/BloodImage_00199.jpg  \n",
      "  inflating: /content/data/images/train/BloodImage_00200.jpg  \n",
      "  inflating: /content/data/images/train/BloodImage_00201.jpg  \n",
      "  inflating: /content/data/images/train/BloodImage_00202.jpg  \n",
      "  inflating: /content/data/images/train/BloodImage_00203.jpg  \n",
      "  inflating: /content/data/images/train/BloodImage_00204.jpg  \n",
      "  inflating: /content/data/images/train/BloodImage_00205.jpg  \n",
      "  inflating: /content/data/images/train/BloodImage_00206.jpg  \n",
      "  inflating: /content/data/images/train/BloodImage_00207.jpg  \n",
      "  inflating: /content/data/images/train/BloodImage_00208.jpg  \n",
      "  inflating: /content/data/images/train/BloodImage_00209.jpg  \n",
      "  inflating: /content/data/images/train/BloodImage_00210.jpg  \n",
      "  inflating: /content/data/images/train/BloodImage_00211.jpg  \n",
      "  inflating: /content/data/images/train/BloodImage_00212.jpg  \n",
      "  inflating: /content/data/images/train/BloodImage_00214.jpg  \n",
      "  inflating: /content/data/images/train/BloodImage_00215.jpg  \n",
      "  inflating: /content/data/images/train/BloodImage_00216.jpg  \n",
      "  inflating: /content/data/images/train/BloodImage_00217.jpg  \n",
      "  inflating: /content/data/images/train/BloodImage_00218.jpg  \n",
      "  inflating: /content/data/images/train/BloodImage_00219.jpg  \n",
      "  inflating: /content/data/images/train/BloodImage_00220.jpg  \n",
      "  inflating: /content/data/images/train/BloodImage_00221.jpg  \n",
      "  inflating: /content/data/images/train/BloodImage_00222.jpg  \n",
      "  inflating: /content/data/images/train/BloodImage_00223.jpg  \n",
      "  inflating: /content/data/images/train/BloodImage_00224.jpg  \n",
      "  inflating: /content/data/images/train/BloodImage_00225.jpg  \n",
      "  inflating: /content/data/images/train/BloodImage_00226.jpg  \n",
      "  inflating: /content/data/images/train/BloodImage_00227.jpg  \n",
      "  inflating: /content/data/images/train/BloodImage_00228.jpg  \n",
      "  inflating: /content/data/images/train/BloodImage_00229.jpg  \n",
      "  inflating: /content/data/images/train/BloodImage_00230.jpg  \n",
      "  inflating: /content/data/images/train/BloodImage_00231.jpg  \n",
      "  inflating: /content/data/images/train/BloodImage_00232.jpg  \n",
      "  inflating: /content/data/images/train/BloodImage_00233.jpg  \n",
      "  inflating: /content/data/images/train/BloodImage_00234.jpg  \n",
      "  inflating: /content/data/images/train/BloodImage_00235.jpg  \n",
      "  inflating: /content/data/images/train/BloodImage_00236.jpg  \n",
      "  inflating: /content/data/images/train/BloodImage_00237.jpg  \n",
      "  inflating: /content/data/images/train/BloodImage_00239.jpg  \n",
      "  inflating: /content/data/images/train/BloodImage_00240.jpg  \n",
      "  inflating: /content/data/images/train/BloodImage_00241.jpg  \n",
      "  inflating: /content/data/images/train/BloodImage_00242.jpg  \n",
      "  inflating: /content/data/images/train/BloodImage_00243.jpg  \n",
      "  inflating: /content/data/images/train/BloodImage_00244.jpg  \n",
      "  inflating: /content/data/images/train/BloodImage_00245.jpg  \n",
      "  inflating: /content/data/images/train/BloodImage_00246.jpg  \n",
      "  inflating: /content/data/images/train/BloodImage_00247.jpg  \n",
      "  inflating: /content/data/images/train/BloodImage_00248.jpg  \n",
      "  inflating: /content/data/images/train/BloodImage_00249.jpg  \n",
      "  inflating: /content/data/images/train/BloodImage_00250.jpg  \n",
      "  inflating: /content/data/images/train/BloodImage_00251.jpg  \n",
      "  inflating: /content/data/images/train/BloodImage_00252.jpg  \n",
      "  inflating: /content/data/images/train/BloodImage_00253.jpg  \n",
      "  inflating: /content/data/images/train/BloodImage_00254.jpg  \n",
      "  inflating: /content/data/images/train/BloodImage_00255.jpg  \n",
      "  inflating: /content/data/images/train/BloodImage_00256.jpg  \n",
      "  inflating: /content/data/images/train/BloodImage_00257.jpg  \n",
      "  inflating: /content/data/images/train/BloodImage_00258.jpg  \n",
      "  inflating: /content/data/images/train/BloodImage_00259.jpg  \n",
      "  inflating: /content/data/images/train/BloodImage_00260.jpg  \n",
      "  inflating: /content/data/images/train/BloodImage_00261.jpg  \n",
      "  inflating: /content/data/images/train/BloodImage_00262.jpg  \n",
      "  inflating: /content/data/images/train/BloodImage_00263.jpg  \n",
      "  inflating: /content/data/images/train/BloodImage_00264.jpg  \n",
      "  inflating: /content/data/images/train/BloodImage_00265.jpg  \n",
      "  inflating: /content/data/images/train/BloodImage_00266.jpg  \n",
      "  inflating: /content/data/images/train/BloodImage_00267.jpg  \n",
      "  inflating: /content/data/images/train/BloodImage_00268.jpg  \n",
      "  inflating: /content/data/images/train/BloodImage_00269.jpg  \n",
      "  inflating: /content/data/images/train/BloodImage_00270.jpg  \n",
      "  inflating: /content/data/images/train/BloodImage_00271.jpg  \n",
      "  inflating: /content/data/images/train/BloodImage_00272.jpg  \n",
      "  inflating: /content/data/images/train/BloodImage_00273.jpg  \n",
      "  inflating: /content/data/images/train/BloodImage_00274.jpg  \n",
      "  inflating: /content/data/images/train/BloodImage_00275.jpg  \n",
      "  inflating: /content/data/images/train/BloodImage_00276.jpg  \n",
      "  inflating: /content/data/images/train/BloodImage_00277.jpg  \n",
      "  inflating: /content/data/images/train/BloodImage_00278.jpg  \n",
      "  inflating: /content/data/images/train/BloodImage_00279.jpg  \n",
      "  inflating: /content/data/images/train/BloodImage_00281.jpg  \n",
      "  inflating: /content/data/images/train/BloodImage_00282.jpg  \n",
      "  inflating: /content/data/images/train/BloodImage_00283.jpg  \n",
      "  inflating: /content/data/images/train/BloodImage_00284.jpg  \n",
      "  inflating: /content/data/images/train/BloodImage_00285.jpg  \n",
      "  inflating: /content/data/images/train/BloodImage_00287.jpg  \n",
      "  inflating: /content/data/images/train/BloodImage_00288.jpg  \n",
      "  inflating: /content/data/images/train/BloodImage_00289.jpg  \n",
      "  inflating: /content/data/images/train/BloodImage_00290.jpg  \n",
      "  inflating: /content/data/images/train/BloodImage_00291.jpg  \n",
      "  inflating: /content/data/images/train/BloodImage_00292.jpg  \n",
      "  inflating: /content/data/images/train/BloodImage_00293.jpg  \n",
      "  inflating: /content/data/images/train/BloodImage_00294.jpg  \n",
      "  inflating: /content/data/images/train/BloodImage_00295.jpg  \n",
      "  inflating: /content/data/images/train/BloodImage_00296.jpg  \n",
      "  inflating: /content/data/images/train/BloodImage_00297.jpg  \n",
      "  inflating: /content/data/images/train/BloodImage_00298.jpg  \n",
      "  inflating: /content/data/images/train/BloodImage_00299.jpg  \n",
      "  inflating: /content/data/images/train/BloodImage_00300.jpg  \n",
      "  inflating: /content/data/images/train/BloodImage_00301.jpg  \n",
      "  inflating: /content/data/images/train/BloodImage_00302.jpg  \n",
      "  inflating: /content/data/images/train/BloodImage_00303.jpg  \n",
      "  inflating: /content/data/images/train/BloodImage_00304.jpg  \n",
      "  inflating: /content/data/images/train/BloodImage_00305.jpg  \n",
      "  inflating: /content/data/images/train/BloodImage_00307.jpg  \n",
      "  inflating: /content/data/images/train/BloodImage_00308.jpg  \n",
      "  inflating: /content/data/images/train/BloodImage_00309.jpg  \n",
      "  inflating: /content/data/images/train/BloodImage_00310.jpg  \n",
      "  inflating: /content/data/images/train/BloodImage_00311.jpg  \n",
      "  inflating: /content/data/images/train/BloodImage_00312.jpg  \n",
      "  inflating: /content/data/images/train/BloodImage_00313.jpg  \n",
      "  inflating: /content/data/images/train/BloodImage_00314.jpg  \n",
      "  inflating: /content/data/images/train/BloodImage_00315.jpg  \n",
      "  inflating: /content/data/images/train/BloodImage_00317.jpg  \n",
      "  inflating: /content/data/images/train/BloodImage_00318.jpg  \n",
      "  inflating: /content/data/images/train/BloodImage_00319.jpg  \n",
      "  inflating: /content/data/images/train/BloodImage_00320.jpg  \n",
      "  inflating: /content/data/images/train/BloodImage_00322.jpg  \n",
      "  inflating: /content/data/images/train/BloodImage_00323.jpg  \n",
      "  inflating: /content/data/images/train/BloodImage_00324.jpg  \n",
      "  inflating: /content/data/images/train/BloodImage_00325.jpg  \n",
      "  inflating: /content/data/images/train/BloodImage_00326.jpg  \n",
      "  inflating: /content/data/images/train/BloodImage_00327.jpg  \n",
      "  inflating: /content/data/images/train/BloodImage_00330.jpg  \n",
      "  inflating: /content/data/images/train/BloodImage_00331.jpg  \n",
      "  inflating: /content/data/images/train/BloodImage_00332.jpg  \n",
      "  inflating: /content/data/images/train/BloodImage_00333.jpg  \n",
      "  inflating: /content/data/images/train/BloodImage_00334.jpg  \n",
      "  inflating: /content/data/images/train/BloodImage_00335.jpg  \n",
      "  inflating: /content/data/images/train/BloodImage_00336.jpg  \n",
      "  inflating: /content/data/images/train/BloodImage_00337.jpg  \n",
      "  inflating: /content/data/images/train/BloodImage_00338.jpg  \n",
      "  inflating: /content/data/images/train/BloodImage_00339.jpg  \n",
      "  inflating: /content/data/images/train/BloodImage_00340.jpg  \n",
      "  inflating: /content/data/images/train/BloodImage_00341.jpg  \n",
      "  inflating: /content/data/images/train/BloodImage_00342.jpg  \n",
      "  inflating: /content/data/images/train/BloodImage_00343.jpg  \n",
      "  inflating: /content/data/images/train/BloodImage_00344.jpg  \n",
      "  inflating: /content/data/images/train/BloodImage_00345.jpg  \n",
      "  inflating: /content/data/images/train/BloodImage_00346.jpg  \n",
      "  inflating: /content/data/images/train/BloodImage_00347.jpg  \n",
      "  inflating: /content/data/images/train/BloodImage_00348.jpg  \n",
      "  inflating: /content/data/images/train/BloodImage_00349.jpg  \n",
      "  inflating: /content/data/images/train/BloodImage_00350.jpg  \n",
      "  inflating: /content/data/images/train/BloodImage_00351.jpg  \n",
      "  inflating: /content/data/images/train/BloodImage_00352.jpg  \n",
      "  inflating: /content/data/images/train/BloodImage_00353.jpg  \n",
      "  inflating: /content/data/images/train/BloodImage_00354.jpg  \n",
      "  inflating: /content/data/images/train/BloodImage_00355.jpg  \n",
      "  inflating: /content/data/images/train/BloodImage_00356.jpg  \n",
      "  inflating: /content/data/images/train/BloodImage_00357.jpg  \n",
      "  inflating: /content/data/images/train/BloodImage_00359.jpg  \n",
      "  inflating: /content/data/images/train/BloodImage_00360.jpg  \n",
      "  inflating: /content/data/images/train/BloodImage_00361.jpg  \n",
      "  inflating: /content/data/images/train/BloodImage_00362.jpg  \n",
      "  inflating: /content/data/images/train/BloodImage_00364.jpg  \n",
      "  inflating: /content/data/images/train/BloodImage_00365.jpg  \n",
      "  inflating: /content/data/images/train/BloodImage_00366.jpg  \n",
      "  inflating: /content/data/images/train/BloodImage_00367.jpg  \n",
      "  inflating: /content/data/images/train/BloodImage_00368.jpg  \n",
      "  inflating: /content/data/images/train/BloodImage_00369.jpg  \n",
      "  inflating: /content/data/images/train/BloodImage_00370.jpg  \n",
      "  inflating: /content/data/images/train/BloodImage_00371.jpg  \n",
      "  inflating: /content/data/images/train/BloodImage_00372.jpg  \n",
      "  inflating: /content/data/images/train/BloodImage_00374.jpg  \n",
      "  inflating: /content/data/images/train/BloodImage_00375.jpg  \n",
      "  inflating: /content/data/images/train/BloodImage_00376.jpg  \n",
      "  inflating: /content/data/images/train/BloodImage_00377.jpg  \n",
      "  inflating: /content/data/images/train/BloodImage_00378.jpg  \n",
      "  inflating: /content/data/images/train/BloodImage_00379.jpg  \n",
      "  inflating: /content/data/images/train/BloodImage_00381.jpg  \n",
      "  inflating: /content/data/images/train/BloodImage_00382.jpg  \n",
      "  inflating: /content/data/images/train/BloodImage_00383.jpg  \n",
      "  inflating: /content/data/images/train/BloodImage_00384.jpg  \n",
      "  inflating: /content/data/images/train/BloodImage_00385.jpg  \n",
      "  inflating: /content/data/images/train/BloodImage_00386.jpg  \n",
      "  inflating: /content/data/images/train/BloodImage_00387.jpg  \n",
      "  inflating: /content/data/images/train/BloodImage_00388.jpg  \n",
      "  inflating: /content/data/images/train/BloodImage_00389.jpg  \n",
      "  inflating: /content/data/images/train/BloodImage_00390.jpg  \n",
      "  inflating: /content/data/images/train/BloodImage_00391.jpg  \n",
      "  inflating: /content/data/images/train/BloodImage_00392.jpg  \n",
      "  inflating: /content/data/images/train/BloodImage_00393.jpg  \n",
      "  inflating: /content/data/images/train/BloodImage_00395.jpg  \n",
      "  inflating: /content/data/images/train/BloodImage_00396.jpg  \n",
      "  inflating: /content/data/images/train/BloodImage_00397.jpg  \n",
      "  inflating: /content/data/images/train/BloodImage_00398.jpg  \n",
      "  inflating: /content/data/images/train/BloodImage_00400.jpg  \n",
      "  inflating: /content/data/images/train/BloodImage_00402.jpg  \n",
      "  inflating: /content/data/images/train/BloodImage_00403.jpg  \n",
      "  inflating: /content/data/images/train/BloodImage_00404.jpg  \n",
      "  inflating: /content/data/images/train/BloodImage_00405.jpg  \n",
      "  inflating: /content/data/images/train/BloodImage_00407.jpg  \n",
      "  inflating: /content/data/images/train/BloodImage_00408.jpg  \n",
      "  inflating: /content/data/images/train/BloodImage_00409.jpg  \n",
      "  inflating: /content/data/images/train/BloodImage_00410.jpg  \n",
      "   creating: /content/data/images/val/\n",
      "  inflating: /content/data/images/val/BloodImage_00000.jpg  \n",
      "  inflating: /content/data/images/val/BloodImage_00002.jpg  \n",
      "  inflating: /content/data/images/val/BloodImage_00014.jpg  \n",
      "  inflating: /content/data/images/val/BloodImage_00017.jpg  \n",
      "  inflating: /content/data/images/val/BloodImage_00028.jpg  \n",
      "  inflating: /content/data/images/val/BloodImage_00029.jpg  \n",
      "  inflating: /content/data/images/val/BloodImage_00030.jpg  \n",
      "  inflating: /content/data/images/val/BloodImage_00035.jpg  \n",
      "  inflating: /content/data/images/val/BloodImage_00037.jpg  \n",
      "  inflating: /content/data/images/val/BloodImage_00053.jpg  \n",
      "  inflating: /content/data/images/val/BloodImage_00055.jpg  \n",
      "  inflating: /content/data/images/val/BloodImage_00064.jpg  \n",
      "  inflating: /content/data/images/val/BloodImage_00066.jpg  \n",
      "  inflating: /content/data/images/val/BloodImage_00072.jpg  \n",
      "  inflating: /content/data/images/val/BloodImage_00073.jpg  \n",
      "  inflating: /content/data/images/val/BloodImage_00089.jpg  \n",
      "  inflating: /content/data/images/val/BloodImage_00099.jpg  \n",
      "  inflating: /content/data/images/val/BloodImage_00104.jpg  \n",
      "  inflating: /content/data/images/val/BloodImage_00109.jpg  \n",
      "  inflating: /content/data/images/val/BloodImage_00111.jpg  \n",
      "  inflating: /content/data/images/val/BloodImage_00115.jpg  \n",
      "  inflating: /content/data/images/val/BloodImage_00125.jpg  \n",
      "  inflating: /content/data/images/val/BloodImage_00130.jpg  \n",
      "  inflating: /content/data/images/val/BloodImage_00140.jpg  \n",
      "  inflating: /content/data/images/val/BloodImage_00143.jpg  \n",
      "  inflating: /content/data/images/val/BloodImage_00145.jpg  \n",
      "  inflating: /content/data/images/val/BloodImage_00147.jpg  \n",
      "  inflating: /content/data/images/val/BloodImage_00148.jpg  \n",
      "  inflating: /content/data/images/val/BloodImage_00152.jpg  \n",
      "  inflating: /content/data/images/val/BloodImage_00162.jpg  \n",
      "  inflating: /content/data/images/val/BloodImage_00183.jpg  \n",
      "  inflating: /content/data/images/val/BloodImage_00192.jpg  \n",
      "  inflating: /content/data/images/val/BloodImage_00193.jpg  \n",
      "  inflating: /content/data/images/val/BloodImage_00207.jpg  \n",
      "  inflating: /content/data/images/val/BloodImage_00209.jpg  \n",
      "  inflating: /content/data/images/val/BloodImage_00216.jpg  \n",
      "  inflating: /content/data/images/val/BloodImage_00217.jpg  \n",
      "  inflating: /content/data/images/val/BloodImage_00218.jpg  \n",
      "  inflating: /content/data/images/val/BloodImage_00219.jpg  \n",
      "  inflating: /content/data/images/val/BloodImage_00221.jpg  \n",
      "  inflating: /content/data/images/val/BloodImage_00222.jpg  \n",
      "  inflating: /content/data/images/val/BloodImage_00223.jpg  \n",
      "  inflating: /content/data/images/val/BloodImage_00228.jpg  \n",
      "  inflating: /content/data/images/val/BloodImage_00230.jpg  \n",
      "  inflating: /content/data/images/val/BloodImage_00236.jpg  \n",
      "  inflating: /content/data/images/val/BloodImage_00241.jpg  \n",
      "  inflating: /content/data/images/val/BloodImage_00244.jpg  \n",
      "  inflating: /content/data/images/val/BloodImage_00245.jpg  \n",
      "  inflating: /content/data/images/val/BloodImage_00246.jpg  \n",
      "  inflating: /content/data/images/val/BloodImage_00255.jpg  \n",
      "  inflating: /content/data/images/val/BloodImage_00260.jpg  \n",
      "  inflating: /content/data/images/val/BloodImage_00261.jpg  \n",
      "  inflating: /content/data/images/val/BloodImage_00262.jpg  \n",
      "  inflating: /content/data/images/val/BloodImage_00269.jpg  \n",
      "  inflating: /content/data/images/val/BloodImage_00272.jpg  \n",
      "  inflating: /content/data/images/val/BloodImage_00274.jpg  \n",
      "  inflating: /content/data/images/val/BloodImage_00277.jpg  \n",
      "  inflating: /content/data/images/val/BloodImage_00285.jpg  \n",
      "  inflating: /content/data/images/val/BloodImage_00298.jpg  \n",
      "  inflating: /content/data/images/val/BloodImage_00304.jpg  \n",
      "  inflating: /content/data/images/val/BloodImage_00310.jpg  \n",
      "  inflating: /content/data/images/val/BloodImage_00312.jpg  \n",
      "  inflating: /content/data/images/val/BloodImage_00315.jpg  \n",
      "  inflating: /content/data/images/val/BloodImage_00326.jpg  \n",
      "  inflating: /content/data/images/val/BloodImage_00330.jpg  \n",
      "  inflating: /content/data/images/val/BloodImage_00331.jpg  \n",
      "  inflating: /content/data/images/val/BloodImage_00334.jpg  \n",
      "  inflating: /content/data/images/val/BloodImage_00337.jpg  \n",
      "  inflating: /content/data/images/val/BloodImage_00338.jpg  \n",
      "  inflating: /content/data/images/val/BloodImage_00340.jpg  \n",
      "  inflating: /content/data/images/val/BloodImage_00342.jpg  \n",
      "  inflating: /content/data/images/val/BloodImage_00349.jpg  \n",
      "  inflating: /content/data/images/val/BloodImage_00350.jpg  \n",
      "  inflating: /content/data/images/val/BloodImage_00352.jpg  \n",
      "  inflating: /content/data/images/val/BloodImage_00367.jpg  \n",
      "  inflating: /content/data/images/val/BloodImage_00368.jpg  \n",
      "  inflating: /content/data/images/val/BloodImage_00381.jpg  \n",
      "  inflating: /content/data/images/val/BloodImage_00383.jpg  \n",
      "  inflating: /content/data/images/val/BloodImage_00386.jpg  \n",
      "  inflating: /content/data/images/val/BloodImage_00389.jpg  \n",
      "  inflating: /content/data/images/val/BloodImage_00392.jpg  \n",
      "  inflating: /content/data/images/val/BloodImage_00396.jpg  \n",
      "  inflating: /content/data/images/val/BloodImage_00397.jpg  \n",
      "  inflating: /content/data/images/val/BloodImage_00398.jpg  \n",
      "  inflating: /content/data/images/val/BloodImage_00402.jpg  \n",
      "  inflating: /content/data/images/val/BloodImage_00409.jpg  \n",
      "  inflating: /content/data/images/val/BloodImage_00410.jpg  \n",
      "   creating: /content/data/labels/\n",
      "   creating: /content/data/labels/train/\n",
      "  inflating: /content/data/labels/train/BloodImage_00000.txt  \n",
      "  inflating: /content/data/labels/train/BloodImage_00001.txt  \n",
      "  inflating: /content/data/labels/train/BloodImage_00002.txt  \n",
      "  inflating: /content/data/labels/train/BloodImage_00003.txt  \n",
      "  inflating: /content/data/labels/train/BloodImage_00004.txt  \n",
      "  inflating: /content/data/labels/train/BloodImage_00005.txt  \n",
      "  inflating: /content/data/labels/train/BloodImage_00006.txt  \n",
      "  inflating: /content/data/labels/train/BloodImage_00007.txt  \n",
      "  inflating: /content/data/labels/train/BloodImage_00008.txt  \n",
      "  inflating: /content/data/labels/train/BloodImage_00009.txt  \n",
      "  inflating: /content/data/labels/train/BloodImage_00010.txt  \n",
      "  inflating: /content/data/labels/train/BloodImage_00011.txt  \n",
      "  inflating: /content/data/labels/train/BloodImage_00012.txt  \n",
      "  inflating: /content/data/labels/train/BloodImage_00013.txt  \n",
      "  inflating: /content/data/labels/train/BloodImage_00014.txt  \n",
      "  inflating: /content/data/labels/train/BloodImage_00015.txt  \n",
      "  inflating: /content/data/labels/train/BloodImage_00016.txt  \n",
      "  inflating: /content/data/labels/train/BloodImage_00017.txt  \n",
      "  inflating: /content/data/labels/train/BloodImage_00018.txt  \n",
      "  inflating: /content/data/labels/train/BloodImage_00019.txt  \n",
      "  inflating: /content/data/labels/train/BloodImage_00020.txt  \n",
      "  inflating: /content/data/labels/train/BloodImage_00021.txt  \n",
      "  inflating: /content/data/labels/train/BloodImage_00022.txt  \n",
      "  inflating: /content/data/labels/train/BloodImage_00023.txt  \n",
      "  inflating: /content/data/labels/train/BloodImage_00024.txt  \n",
      "  inflating: /content/data/labels/train/BloodImage_00026.txt  \n",
      "  inflating: /content/data/labels/train/BloodImage_00028.txt  \n",
      "  inflating: /content/data/labels/train/BloodImage_00029.txt  \n",
      "  inflating: /content/data/labels/train/BloodImage_00030.txt  \n",
      "  inflating: /content/data/labels/train/BloodImage_00031.txt  \n",
      "  inflating: /content/data/labels/train/BloodImage_00032.txt  \n",
      "  inflating: /content/data/labels/train/BloodImage_00033.txt  \n",
      "  inflating: /content/data/labels/train/BloodImage_00034.txt  \n",
      "  inflating: /content/data/labels/train/BloodImage_00035.txt  \n",
      "  inflating: /content/data/labels/train/BloodImage_00036.txt  \n",
      "  inflating: /content/data/labels/train/BloodImage_00037.txt  \n",
      "  inflating: /content/data/labels/train/BloodImage_00038.txt  \n",
      "  inflating: /content/data/labels/train/BloodImage_00039.txt  \n",
      "  inflating: /content/data/labels/train/BloodImage_00040.txt  \n",
      "  inflating: /content/data/labels/train/BloodImage_00041.txt  \n",
      "  inflating: /content/data/labels/train/BloodImage_00042.txt  \n",
      "  inflating: /content/data/labels/train/BloodImage_00043.txt  \n",
      "  inflating: /content/data/labels/train/BloodImage_00044.txt  \n",
      "  inflating: /content/data/labels/train/BloodImage_00045.txt  \n",
      "  inflating: /content/data/labels/train/BloodImage_00046.txt  \n",
      "  inflating: /content/data/labels/train/BloodImage_00047.txt  \n",
      "  inflating: /content/data/labels/train/BloodImage_00048.txt  \n",
      "  inflating: /content/data/labels/train/BloodImage_00049.txt  \n",
      "  inflating: /content/data/labels/train/BloodImage_00050.txt  \n",
      "  inflating: /content/data/labels/train/BloodImage_00052.txt  \n",
      "  inflating: /content/data/labels/train/BloodImage_00053.txt  \n",
      "  inflating: /content/data/labels/train/BloodImage_00054.txt  \n",
      "  inflating: /content/data/labels/train/BloodImage_00055.txt  \n",
      "  inflating: /content/data/labels/train/BloodImage_00056.txt  \n",
      "  inflating: /content/data/labels/train/BloodImage_00057.txt  \n",
      "  inflating: /content/data/labels/train/BloodImage_00058.txt  \n",
      "  inflating: /content/data/labels/train/BloodImage_00059.txt  \n",
      "  inflating: /content/data/labels/train/BloodImage_00062.txt  \n",
      "  inflating: /content/data/labels/train/BloodImage_00063.txt  \n",
      "  inflating: /content/data/labels/train/BloodImage_00064.txt  \n",
      "  inflating: /content/data/labels/train/BloodImage_00065.txt  \n",
      "  inflating: /content/data/labels/train/BloodImage_00066.txt  \n",
      "  inflating: /content/data/labels/train/BloodImage_00067.txt  \n",
      "  inflating: /content/data/labels/train/BloodImage_00068.txt  \n",
      "  inflating: /content/data/labels/train/BloodImage_00069.txt  \n",
      "  inflating: /content/data/labels/train/BloodImage_00070.txt  \n",
      "  inflating: /content/data/labels/train/BloodImage_00071.txt  \n",
      "  inflating: /content/data/labels/train/BloodImage_00072.txt  \n",
      "  inflating: /content/data/labels/train/BloodImage_00073.txt  \n",
      "  inflating: /content/data/labels/train/BloodImage_00074.txt  \n",
      "  inflating: /content/data/labels/train/BloodImage_00075.txt  \n",
      "  inflating: /content/data/labels/train/BloodImage_00076.txt  \n",
      "  inflating: /content/data/labels/train/BloodImage_00077.txt  \n",
      "  inflating: /content/data/labels/train/BloodImage_00078.txt  \n",
      "  inflating: /content/data/labels/train/BloodImage_00079.txt  \n",
      "  inflating: /content/data/labels/train/BloodImage_00081.txt  \n",
      "  inflating: /content/data/labels/train/BloodImage_00082.txt  \n",
      "  inflating: /content/data/labels/train/BloodImage_00083.txt  \n",
      "  inflating: /content/data/labels/train/BloodImage_00086.txt  \n",
      "  inflating: /content/data/labels/train/BloodImage_00087.txt  \n",
      "  inflating: /content/data/labels/train/BloodImage_00088.txt  \n",
      "  inflating: /content/data/labels/train/BloodImage_00089.txt  \n",
      "  inflating: /content/data/labels/train/BloodImage_00090.txt  \n",
      "  inflating: /content/data/labels/train/BloodImage_00091.txt  \n",
      "  inflating: /content/data/labels/train/BloodImage_00092.txt  \n",
      "  inflating: /content/data/labels/train/BloodImage_00093.txt  \n",
      "  inflating: /content/data/labels/train/BloodImage_00094.txt  \n",
      "  inflating: /content/data/labels/train/BloodImage_00095.txt  \n",
      "  inflating: /content/data/labels/train/BloodImage_00097.txt  \n",
      "  inflating: /content/data/labels/train/BloodImage_00098.txt  \n",
      "  inflating: /content/data/labels/train/BloodImage_00099.txt  \n",
      "  inflating: /content/data/labels/train/BloodImage_00100.txt  \n",
      "  inflating: /content/data/labels/train/BloodImage_00101.txt  \n",
      "  inflating: /content/data/labels/train/BloodImage_00103.txt  \n",
      "  inflating: /content/data/labels/train/BloodImage_00104.txt  \n",
      "  inflating: /content/data/labels/train/BloodImage_00106.txt  \n",
      "  inflating: /content/data/labels/train/BloodImage_00107.txt  \n",
      "  inflating: /content/data/labels/train/BloodImage_00108.txt  \n",
      "  inflating: /content/data/labels/train/BloodImage_00109.txt  \n",
      "  inflating: /content/data/labels/train/BloodImage_00110.txt  \n",
      "  inflating: /content/data/labels/train/BloodImage_00111.txt  \n",
      "  inflating: /content/data/labels/train/BloodImage_00112.txt  \n",
      "  inflating: /content/data/labels/train/BloodImage_00113.txt  \n",
      "  inflating: /content/data/labels/train/BloodImage_00114.txt  \n",
      "  inflating: /content/data/labels/train/BloodImage_00115.txt  \n",
      "  inflating: /content/data/labels/train/BloodImage_00117.txt  \n",
      "  inflating: /content/data/labels/train/BloodImage_00120.txt  \n",
      "  inflating: /content/data/labels/train/BloodImage_00123.txt  \n",
      "  inflating: /content/data/labels/train/BloodImage_00124.txt  \n",
      "  inflating: /content/data/labels/train/BloodImage_00125.txt  \n",
      "  inflating: /content/data/labels/train/BloodImage_00126.txt  \n",
      "  inflating: /content/data/labels/train/BloodImage_00127.txt  \n",
      "  inflating: /content/data/labels/train/BloodImage_00130.txt  \n",
      "  inflating: /content/data/labels/train/BloodImage_00132.txt  \n",
      "  inflating: /content/data/labels/train/BloodImage_00133.txt  \n",
      "  inflating: /content/data/labels/train/BloodImage_00134.txt  \n",
      "  inflating: /content/data/labels/train/BloodImage_00135.txt  \n",
      "  inflating: /content/data/labels/train/BloodImage_00136.txt  \n",
      "  inflating: /content/data/labels/train/BloodImage_00137.txt  \n",
      "  inflating: /content/data/labels/train/BloodImage_00139.txt  \n",
      "  inflating: /content/data/labels/train/BloodImage_00140.txt  \n",
      "  inflating: /content/data/labels/train/BloodImage_00141.txt  \n",
      "  inflating: /content/data/labels/train/BloodImage_00142.txt  \n",
      "  inflating: /content/data/labels/train/BloodImage_00143.txt  \n",
      "  inflating: /content/data/labels/train/BloodImage_00144.txt  \n",
      "  inflating: /content/data/labels/train/BloodImage_00145.txt  \n",
      "  inflating: /content/data/labels/train/BloodImage_00147.txt  \n",
      "  inflating: /content/data/labels/train/BloodImage_00148.txt  \n",
      "  inflating: /content/data/labels/train/BloodImage_00149.txt  \n",
      "  inflating: /content/data/labels/train/BloodImage_00150.txt  \n",
      "  inflating: /content/data/labels/train/BloodImage_00152.txt  \n",
      "  inflating: /content/data/labels/train/BloodImage_00154.txt  \n",
      "  inflating: /content/data/labels/train/BloodImage_00156.txt  \n",
      "  inflating: /content/data/labels/train/BloodImage_00157.txt  \n",
      "  inflating: /content/data/labels/train/BloodImage_00158.txt  \n",
      "  inflating: /content/data/labels/train/BloodImage_00159.txt  \n",
      "  inflating: /content/data/labels/train/BloodImage_00160.txt  \n",
      "  inflating: /content/data/labels/train/BloodImage_00161.txt  \n",
      "  inflating: /content/data/labels/train/BloodImage_00162.txt  \n",
      "  inflating: /content/data/labels/train/BloodImage_00163.txt  \n",
      "  inflating: /content/data/labels/train/BloodImage_00164.txt  \n",
      "  inflating: /content/data/labels/train/BloodImage_00165.txt  \n",
      "  inflating: /content/data/labels/train/BloodImage_00166.txt  \n",
      "  inflating: /content/data/labels/train/BloodImage_00167.txt  \n",
      "  inflating: /content/data/labels/train/BloodImage_00168.txt  \n",
      "  inflating: /content/data/labels/train/BloodImage_00169.txt  \n",
      "  inflating: /content/data/labels/train/BloodImage_00170.txt  \n",
      "  inflating: /content/data/labels/train/BloodImage_00171.txt  \n",
      "  inflating: /content/data/labels/train/BloodImage_00172.txt  \n",
      "  inflating: /content/data/labels/train/BloodImage_00174.txt  \n",
      "  inflating: /content/data/labels/train/BloodImage_00175.txt  \n",
      "  inflating: /content/data/labels/train/BloodImage_00176.txt  \n",
      "  inflating: /content/data/labels/train/BloodImage_00177.txt  \n",
      "  inflating: /content/data/labels/train/BloodImage_00178.txt  \n",
      "  inflating: /content/data/labels/train/BloodImage_00179.txt  \n",
      "  inflating: /content/data/labels/train/BloodImage_00180.txt  \n",
      "  inflating: /content/data/labels/train/BloodImage_00182.txt  \n",
      "  inflating: /content/data/labels/train/BloodImage_00183.txt  \n",
      "  inflating: /content/data/labels/train/BloodImage_00184.txt  \n",
      "  inflating: /content/data/labels/train/BloodImage_00187.txt  \n",
      "  inflating: /content/data/labels/train/BloodImage_00189.txt  \n",
      "  inflating: /content/data/labels/train/BloodImage_00190.txt  \n",
      "  inflating: /content/data/labels/train/BloodImage_00191.txt  \n",
      "  inflating: /content/data/labels/train/BloodImage_00192.txt  \n",
      "  inflating: /content/data/labels/train/BloodImage_00193.txt  \n",
      "  inflating: /content/data/labels/train/BloodImage_00195.txt  \n",
      "  inflating: /content/data/labels/train/BloodImage_00196.txt  \n",
      "  inflating: /content/data/labels/train/BloodImage_00197.txt  \n",
      "  inflating: /content/data/labels/train/BloodImage_00198.txt  \n",
      "  inflating: /content/data/labels/train/BloodImage_00199.txt  \n",
      "  inflating: /content/data/labels/train/BloodImage_00200.txt  \n",
      "  inflating: /content/data/labels/train/BloodImage_00201.txt  \n",
      "  inflating: /content/data/labels/train/BloodImage_00202.txt  \n",
      "  inflating: /content/data/labels/train/BloodImage_00203.txt  \n",
      "  inflating: /content/data/labels/train/BloodImage_00204.txt  \n",
      "  inflating: /content/data/labels/train/BloodImage_00205.txt  \n",
      "  inflating: /content/data/labels/train/BloodImage_00206.txt  \n",
      "  inflating: /content/data/labels/train/BloodImage_00207.txt  \n",
      "  inflating: /content/data/labels/train/BloodImage_00208.txt  \n",
      "  inflating: /content/data/labels/train/BloodImage_00209.txt  \n",
      "  inflating: /content/data/labels/train/BloodImage_00210.txt  \n",
      "  inflating: /content/data/labels/train/BloodImage_00211.txt  \n",
      "  inflating: /content/data/labels/train/BloodImage_00212.txt  \n",
      "  inflating: /content/data/labels/train/BloodImage_00214.txt  \n",
      "  inflating: /content/data/labels/train/BloodImage_00215.txt  \n",
      "  inflating: /content/data/labels/train/BloodImage_00216.txt  \n",
      "  inflating: /content/data/labels/train/BloodImage_00217.txt  \n",
      "  inflating: /content/data/labels/train/BloodImage_00218.txt  \n",
      "  inflating: /content/data/labels/train/BloodImage_00219.txt  \n",
      "  inflating: /content/data/labels/train/BloodImage_00220.txt  \n",
      "  inflating: /content/data/labels/train/BloodImage_00221.txt  \n",
      "  inflating: /content/data/labels/train/BloodImage_00222.txt  \n",
      "  inflating: /content/data/labels/train/BloodImage_00223.txt  \n",
      "  inflating: /content/data/labels/train/BloodImage_00224.txt  \n",
      "  inflating: /content/data/labels/train/BloodImage_00225.txt  \n",
      "  inflating: /content/data/labels/train/BloodImage_00226.txt  \n",
      "  inflating: /content/data/labels/train/BloodImage_00227.txt  \n",
      "  inflating: /content/data/labels/train/BloodImage_00228.txt  \n",
      "  inflating: /content/data/labels/train/BloodImage_00229.txt  \n",
      "  inflating: /content/data/labels/train/BloodImage_00230.txt  \n",
      "  inflating: /content/data/labels/train/BloodImage_00231.txt  \n",
      "  inflating: /content/data/labels/train/BloodImage_00232.txt  \n",
      "  inflating: /content/data/labels/train/BloodImage_00233.txt  \n",
      "  inflating: /content/data/labels/train/BloodImage_00234.txt  \n",
      "  inflating: /content/data/labels/train/BloodImage_00235.txt  \n",
      "  inflating: /content/data/labels/train/BloodImage_00236.txt  \n",
      "  inflating: /content/data/labels/train/BloodImage_00237.txt  \n",
      "  inflating: /content/data/labels/train/BloodImage_00239.txt  \n",
      "  inflating: /content/data/labels/train/BloodImage_00240.txt  \n",
      "  inflating: /content/data/labels/train/BloodImage_00241.txt  \n",
      "  inflating: /content/data/labels/train/BloodImage_00242.txt  \n",
      "  inflating: /content/data/labels/train/BloodImage_00243.txt  \n",
      "  inflating: /content/data/labels/train/BloodImage_00244.txt  \n",
      "  inflating: /content/data/labels/train/BloodImage_00245.txt  \n",
      "  inflating: /content/data/labels/train/BloodImage_00246.txt  \n",
      "  inflating: /content/data/labels/train/BloodImage_00247.txt  \n",
      "  inflating: /content/data/labels/train/BloodImage_00248.txt  \n",
      "  inflating: /content/data/labels/train/BloodImage_00249.txt  \n",
      "  inflating: /content/data/labels/train/BloodImage_00250.txt  \n",
      "  inflating: /content/data/labels/train/BloodImage_00251.txt  \n",
      "  inflating: /content/data/labels/train/BloodImage_00252.txt  \n",
      "  inflating: /content/data/labels/train/BloodImage_00253.txt  \n",
      "  inflating: /content/data/labels/train/BloodImage_00254.txt  \n",
      "  inflating: /content/data/labels/train/BloodImage_00255.txt  \n",
      "  inflating: /content/data/labels/train/BloodImage_00256.txt  \n",
      "  inflating: /content/data/labels/train/BloodImage_00257.txt  \n",
      "  inflating: /content/data/labels/train/BloodImage_00258.txt  \n",
      "  inflating: /content/data/labels/train/BloodImage_00259.txt  \n",
      "  inflating: /content/data/labels/train/BloodImage_00260.txt  \n",
      "  inflating: /content/data/labels/train/BloodImage_00261.txt  \n",
      "  inflating: /content/data/labels/train/BloodImage_00262.txt  \n",
      "  inflating: /content/data/labels/train/BloodImage_00263.txt  \n",
      "  inflating: /content/data/labels/train/BloodImage_00264.txt  \n",
      "  inflating: /content/data/labels/train/BloodImage_00265.txt  \n",
      "  inflating: /content/data/labels/train/BloodImage_00266.txt  \n",
      "  inflating: /content/data/labels/train/BloodImage_00267.txt  \n",
      "  inflating: /content/data/labels/train/BloodImage_00268.txt  \n",
      "  inflating: /content/data/labels/train/BloodImage_00269.txt  \n",
      "  inflating: /content/data/labels/train/BloodImage_00270.txt  \n",
      "  inflating: /content/data/labels/train/BloodImage_00271.txt  \n",
      "  inflating: /content/data/labels/train/BloodImage_00272.txt  \n",
      "  inflating: /content/data/labels/train/BloodImage_00273.txt  \n",
      "  inflating: /content/data/labels/train/BloodImage_00274.txt  \n",
      "  inflating: /content/data/labels/train/BloodImage_00275.txt  \n",
      "  inflating: /content/data/labels/train/BloodImage_00276.txt  \n",
      "  inflating: /content/data/labels/train/BloodImage_00277.txt  \n",
      "  inflating: /content/data/labels/train/BloodImage_00278.txt  \n",
      "  inflating: /content/data/labels/train/BloodImage_00279.txt  \n",
      "  inflating: /content/data/labels/train/BloodImage_00281.txt  \n",
      "  inflating: /content/data/labels/train/BloodImage_00282.txt  \n",
      "  inflating: /content/data/labels/train/BloodImage_00283.txt  \n",
      "  inflating: /content/data/labels/train/BloodImage_00284.txt  \n",
      "  inflating: /content/data/labels/train/BloodImage_00285.txt  \n",
      "  inflating: /content/data/labels/train/BloodImage_00287.txt  \n",
      "  inflating: /content/data/labels/train/BloodImage_00288.txt  \n",
      "  inflating: /content/data/labels/train/BloodImage_00289.txt  \n",
      "  inflating: /content/data/labels/train/BloodImage_00290.txt  \n",
      "  inflating: /content/data/labels/train/BloodImage_00291.txt  \n",
      "  inflating: /content/data/labels/train/BloodImage_00292.txt  \n",
      "  inflating: /content/data/labels/train/BloodImage_00293.txt  \n",
      "  inflating: /content/data/labels/train/BloodImage_00294.txt  \n",
      "  inflating: /content/data/labels/train/BloodImage_00295.txt  \n",
      "  inflating: /content/data/labels/train/BloodImage_00296.txt  \n",
      "  inflating: /content/data/labels/train/BloodImage_00297.txt  \n",
      "  inflating: /content/data/labels/train/BloodImage_00298.txt  \n",
      "  inflating: /content/data/labels/train/BloodImage_00299.txt  \n",
      "  inflating: /content/data/labels/train/BloodImage_00300.txt  \n",
      "  inflating: /content/data/labels/train/BloodImage_00301.txt  \n",
      "  inflating: /content/data/labels/train/BloodImage_00302.txt  \n",
      "  inflating: /content/data/labels/train/BloodImage_00303.txt  \n",
      "  inflating: /content/data/labels/train/BloodImage_00304.txt  \n",
      "  inflating: /content/data/labels/train/BloodImage_00305.txt  \n",
      "  inflating: /content/data/labels/train/BloodImage_00307.txt  \n",
      "  inflating: /content/data/labels/train/BloodImage_00308.txt  \n",
      "  inflating: /content/data/labels/train/BloodImage_00309.txt  \n",
      "  inflating: /content/data/labels/train/BloodImage_00310.txt  \n",
      "  inflating: /content/data/labels/train/BloodImage_00311.txt  \n",
      "  inflating: /content/data/labels/train/BloodImage_00312.txt  \n",
      "  inflating: /content/data/labels/train/BloodImage_00313.txt  \n",
      "  inflating: /content/data/labels/train/BloodImage_00314.txt  \n",
      "  inflating: /content/data/labels/train/BloodImage_00315.txt  \n",
      "  inflating: /content/data/labels/train/BloodImage_00317.txt  \n",
      "  inflating: /content/data/labels/train/BloodImage_00318.txt  \n",
      "  inflating: /content/data/labels/train/BloodImage_00319.txt  \n",
      "  inflating: /content/data/labels/train/BloodImage_00320.txt  \n",
      "  inflating: /content/data/labels/train/BloodImage_00322.txt  \n",
      "  inflating: /content/data/labels/train/BloodImage_00323.txt  \n",
      "  inflating: /content/data/labels/train/BloodImage_00324.txt  \n",
      "  inflating: /content/data/labels/train/BloodImage_00325.txt  \n",
      "  inflating: /content/data/labels/train/BloodImage_00326.txt  \n",
      "  inflating: /content/data/labels/train/BloodImage_00327.txt  \n",
      "  inflating: /content/data/labels/train/BloodImage_00330.txt  \n",
      "  inflating: /content/data/labels/train/BloodImage_00331.txt  \n",
      "  inflating: /content/data/labels/train/BloodImage_00332.txt  \n",
      "  inflating: /content/data/labels/train/BloodImage_00333.txt  \n",
      "  inflating: /content/data/labels/train/BloodImage_00334.txt  \n",
      "  inflating: /content/data/labels/train/BloodImage_00335.txt  \n",
      "  inflating: /content/data/labels/train/BloodImage_00336.txt  \n",
      "  inflating: /content/data/labels/train/BloodImage_00337.txt  \n",
      "  inflating: /content/data/labels/train/BloodImage_00338.txt  \n",
      "  inflating: /content/data/labels/train/BloodImage_00339.txt  \n",
      "  inflating: /content/data/labels/train/BloodImage_00340.txt  \n",
      "  inflating: /content/data/labels/train/BloodImage_00341.txt  \n",
      "  inflating: /content/data/labels/train/BloodImage_00342.txt  \n",
      "  inflating: /content/data/labels/train/BloodImage_00343.txt  \n",
      "  inflating: /content/data/labels/train/BloodImage_00344.txt  \n",
      "  inflating: /content/data/labels/train/BloodImage_00345.txt  \n",
      "  inflating: /content/data/labels/train/BloodImage_00346.txt  \n",
      "  inflating: /content/data/labels/train/BloodImage_00347.txt  \n",
      "  inflating: /content/data/labels/train/BloodImage_00348.txt  \n",
      "  inflating: /content/data/labels/train/BloodImage_00349.txt  \n",
      "  inflating: /content/data/labels/train/BloodImage_00350.txt  \n",
      "  inflating: /content/data/labels/train/BloodImage_00351.txt  \n",
      "  inflating: /content/data/labels/train/BloodImage_00352.txt  \n",
      "  inflating: /content/data/labels/train/BloodImage_00353.txt  \n",
      "  inflating: /content/data/labels/train/BloodImage_00354.txt  \n",
      "  inflating: /content/data/labels/train/BloodImage_00355.txt  \n",
      "  inflating: /content/data/labels/train/BloodImage_00356.txt  \n",
      "  inflating: /content/data/labels/train/BloodImage_00357.txt  \n",
      "  inflating: /content/data/labels/train/BloodImage_00359.txt  \n",
      "  inflating: /content/data/labels/train/BloodImage_00360.txt  \n",
      "  inflating: /content/data/labels/train/BloodImage_00361.txt  \n",
      "  inflating: /content/data/labels/train/BloodImage_00362.txt  \n",
      "  inflating: /content/data/labels/train/BloodImage_00364.txt  \n",
      "  inflating: /content/data/labels/train/BloodImage_00365.txt  \n",
      "  inflating: /content/data/labels/train/BloodImage_00366.txt  \n",
      "  inflating: /content/data/labels/train/BloodImage_00367.txt  \n",
      "  inflating: /content/data/labels/train/BloodImage_00368.txt  \n",
      "  inflating: /content/data/labels/train/BloodImage_00369.txt  \n",
      "  inflating: /content/data/labels/train/BloodImage_00370.txt  \n",
      "  inflating: /content/data/labels/train/BloodImage_00371.txt  \n",
      "  inflating: /content/data/labels/train/BloodImage_00372.txt  \n",
      "  inflating: /content/data/labels/train/BloodImage_00374.txt  \n",
      "  inflating: /content/data/labels/train/BloodImage_00375.txt  \n",
      "  inflating: /content/data/labels/train/BloodImage_00376.txt  \n",
      "  inflating: /content/data/labels/train/BloodImage_00377.txt  \n",
      "  inflating: /content/data/labels/train/BloodImage_00378.txt  \n",
      "  inflating: /content/data/labels/train/BloodImage_00379.txt  \n",
      "  inflating: /content/data/labels/train/BloodImage_00381.txt  \n",
      "  inflating: /content/data/labels/train/BloodImage_00382.txt  \n",
      "  inflating: /content/data/labels/train/BloodImage_00383.txt  \n",
      "  inflating: /content/data/labels/train/BloodImage_00384.txt  \n",
      "  inflating: /content/data/labels/train/BloodImage_00385.txt  \n",
      "  inflating: /content/data/labels/train/BloodImage_00386.txt  \n",
      "  inflating: /content/data/labels/train/BloodImage_00387.txt  \n",
      "  inflating: /content/data/labels/train/BloodImage_00388.txt  \n",
      "  inflating: /content/data/labels/train/BloodImage_00389.txt  \n",
      "  inflating: /content/data/labels/train/BloodImage_00390.txt  \n",
      "  inflating: /content/data/labels/train/BloodImage_00391.txt  \n",
      "  inflating: /content/data/labels/train/BloodImage_00392.txt  \n",
      "  inflating: /content/data/labels/train/BloodImage_00393.txt  \n",
      "  inflating: /content/data/labels/train/BloodImage_00395.txt  \n",
      "  inflating: /content/data/labels/train/BloodImage_00396.txt  \n",
      "  inflating: /content/data/labels/train/BloodImage_00397.txt  \n",
      "  inflating: /content/data/labels/train/BloodImage_00398.txt  \n",
      "  inflating: /content/data/labels/train/BloodImage_00400.txt  \n",
      "  inflating: /content/data/labels/train/BloodImage_00402.txt  \n",
      "  inflating: /content/data/labels/train/BloodImage_00403.txt  \n",
      "  inflating: /content/data/labels/train/BloodImage_00404.txt  \n",
      "  inflating: /content/data/labels/train/BloodImage_00405.txt  \n",
      "  inflating: /content/data/labels/train/BloodImage_00407.txt  \n",
      "  inflating: /content/data/labels/train/BloodImage_00408.txt  \n",
      "  inflating: /content/data/labels/train/BloodImage_00409.txt  \n",
      "  inflating: /content/data/labels/train/BloodImage_00410.txt  \n",
      "   creating: /content/data/labels/val/\n",
      "  inflating: /content/data/labels/val/BloodImage_00000.txt  \n",
      "  inflating: /content/data/labels/val/BloodImage_00002.txt  \n",
      "  inflating: /content/data/labels/val/BloodImage_00014.txt  \n",
      "  inflating: /content/data/labels/val/BloodImage_00017.txt  \n",
      "  inflating: /content/data/labels/val/BloodImage_00028.txt  \n",
      "  inflating: /content/data/labels/val/BloodImage_00029.txt  \n",
      "  inflating: /content/data/labels/val/BloodImage_00030.txt  \n",
      "  inflating: /content/data/labels/val/BloodImage_00035.txt  \n",
      "  inflating: /content/data/labels/val/BloodImage_00037.txt  \n",
      "  inflating: /content/data/labels/val/BloodImage_00053.txt  \n",
      "  inflating: /content/data/labels/val/BloodImage_00055.txt  \n",
      "  inflating: /content/data/labels/val/BloodImage_00064.txt  \n",
      "  inflating: /content/data/labels/val/BloodImage_00066.txt  \n",
      "  inflating: /content/data/labels/val/BloodImage_00072.txt  \n",
      "  inflating: /content/data/labels/val/BloodImage_00073.txt  \n",
      "  inflating: /content/data/labels/val/BloodImage_00089.txt  \n",
      "  inflating: /content/data/labels/val/BloodImage_00099.txt  \n",
      "  inflating: /content/data/labels/val/BloodImage_00104.txt  \n",
      "  inflating: /content/data/labels/val/BloodImage_00109.txt  \n",
      "  inflating: /content/data/labels/val/BloodImage_00111.txt  \n",
      "  inflating: /content/data/labels/val/BloodImage_00115.txt  \n",
      "  inflating: /content/data/labels/val/BloodImage_00125.txt  \n",
      "  inflating: /content/data/labels/val/BloodImage_00130.txt  \n",
      "  inflating: /content/data/labels/val/BloodImage_00140.txt  \n",
      "  inflating: /content/data/labels/val/BloodImage_00143.txt  \n",
      "  inflating: /content/data/labels/val/BloodImage_00145.txt  \n",
      "  inflating: /content/data/labels/val/BloodImage_00147.txt  \n",
      "  inflating: /content/data/labels/val/BloodImage_00148.txt  \n",
      "  inflating: /content/data/labels/val/BloodImage_00152.txt  \n",
      "  inflating: /content/data/labels/val/BloodImage_00162.txt  \n",
      "  inflating: /content/data/labels/val/BloodImage_00183.txt  \n",
      "  inflating: /content/data/labels/val/BloodImage_00192.txt  \n",
      "  inflating: /content/data/labels/val/BloodImage_00193.txt  \n",
      "  inflating: /content/data/labels/val/BloodImage_00207.txt  \n",
      "  inflating: /content/data/labels/val/BloodImage_00209.txt  \n",
      "  inflating: /content/data/labels/val/BloodImage_00216.txt  \n",
      "  inflating: /content/data/labels/val/BloodImage_00217.txt  \n",
      "  inflating: /content/data/labels/val/BloodImage_00218.txt  \n",
      "  inflating: /content/data/labels/val/BloodImage_00219.txt  \n",
      "  inflating: /content/data/labels/val/BloodImage_00221.txt  \n",
      "  inflating: /content/data/labels/val/BloodImage_00222.txt  \n",
      "  inflating: /content/data/labels/val/BloodImage_00223.txt  \n",
      "  inflating: /content/data/labels/val/BloodImage_00228.txt  \n",
      "  inflating: /content/data/labels/val/BloodImage_00230.txt  \n",
      "  inflating: /content/data/labels/val/BloodImage_00236.txt  \n",
      "  inflating: /content/data/labels/val/BloodImage_00241.txt  \n",
      "  inflating: /content/data/labels/val/BloodImage_00244.txt  \n",
      "  inflating: /content/data/labels/val/BloodImage_00245.txt  \n",
      "  inflating: /content/data/labels/val/BloodImage_00246.txt  \n",
      "  inflating: /content/data/labels/val/BloodImage_00255.txt  \n",
      "  inflating: /content/data/labels/val/BloodImage_00260.txt  \n",
      "  inflating: /content/data/labels/val/BloodImage_00261.txt  \n",
      "  inflating: /content/data/labels/val/BloodImage_00262.txt  \n",
      "  inflating: /content/data/labels/val/BloodImage_00269.txt  \n",
      "  inflating: /content/data/labels/val/BloodImage_00272.txt  \n",
      "  inflating: /content/data/labels/val/BloodImage_00274.txt  \n",
      "  inflating: /content/data/labels/val/BloodImage_00277.txt  \n",
      "  inflating: /content/data/labels/val/BloodImage_00285.txt  \n",
      "  inflating: /content/data/labels/val/BloodImage_00298.txt  \n",
      "  inflating: /content/data/labels/val/BloodImage_00304.txt  \n",
      "  inflating: /content/data/labels/val/BloodImage_00310.txt  \n",
      "  inflating: /content/data/labels/val/BloodImage_00312.txt  \n",
      "  inflating: /content/data/labels/val/BloodImage_00315.txt  \n",
      "  inflating: /content/data/labels/val/BloodImage_00326.txt  \n",
      "  inflating: /content/data/labels/val/BloodImage_00330.txt  \n",
      "  inflating: /content/data/labels/val/BloodImage_00331.txt  \n",
      "  inflating: /content/data/labels/val/BloodImage_00334.txt  \n",
      "  inflating: /content/data/labels/val/BloodImage_00337.txt  \n",
      "  inflating: /content/data/labels/val/BloodImage_00338.txt  \n",
      "  inflating: /content/data/labels/val/BloodImage_00340.txt  \n",
      "  inflating: /content/data/labels/val/BloodImage_00342.txt  \n",
      "  inflating: /content/data/labels/val/BloodImage_00349.txt  \n",
      "  inflating: /content/data/labels/val/BloodImage_00350.txt  \n",
      "  inflating: /content/data/labels/val/BloodImage_00352.txt  \n",
      "  inflating: /content/data/labels/val/BloodImage_00367.txt  \n",
      "  inflating: /content/data/labels/val/BloodImage_00368.txt  \n",
      "  inflating: /content/data/labels/val/BloodImage_00381.txt  \n",
      "  inflating: /content/data/labels/val/BloodImage_00383.txt  \n",
      "  inflating: /content/data/labels/val/BloodImage_00386.txt  \n",
      "  inflating: /content/data/labels/val/BloodImage_00389.txt  \n",
      "  inflating: /content/data/labels/val/BloodImage_00392.txt  \n",
      "  inflating: /content/data/labels/val/BloodImage_00396.txt  \n",
      "  inflating: /content/data/labels/val/BloodImage_00397.txt  \n",
      "  inflating: /content/data/labels/val/BloodImage_00398.txt  \n",
      "  inflating: /content/data/labels/val/BloodImage_00402.txt  \n",
      "  inflating: /content/data/labels/val/BloodImage_00409.txt  \n",
      "  inflating: /content/data/labels/val/BloodImage_00410.txt  \n"
     ]
    }
   ],
   "source": [
    "!unzip '/content/data.zip' -d '/content/'"
   ]
  },
  {
   "cell_type": "code",
   "execution_count": 2,
   "metadata": {
    "colab": {
     "base_uri": "https://localhost:8080/"
    },
    "collapsed": true,
    "id": "KOlcNkG-nZi0",
    "outputId": "921c1a3e-840f-4f13-d8fb-77fe17554038"
   },
   "outputs": [
    {
     "name": "stdout",
     "output_type": "stream",
     "text": [
      "Cloning into 'yolov10'...\n",
      "remote: Enumerating objects: 20332, done.\u001b[K\n",
      "remote: Counting objects: 100% (2446/2446), done.\u001b[K\n",
      "remote: Compressing objects: 100% (250/250), done.\u001b[K\n",
      "remote: Total 20332 (delta 2317), reused 2197 (delta 2196), pack-reused 17886 (from 1)\u001b[K\n",
      "Receiving objects: 100% (20332/20332), 11.14 MiB | 16.26 MiB/s, done.\n",
      "Resolving deltas: 100% (14337/14337), done.\n",
      "Processing /content/yolov10\n",
      "  Installing build dependencies ... \u001b[?25l\u001b[?25hdone\n",
      "  Getting requirements to build wheel ... \u001b[?25l\u001b[?25hdone\n",
      "  Preparing metadata (pyproject.toml) ... \u001b[?25l\u001b[?25hdone\n",
      "Requirement already satisfied: matplotlib>=3.3.0 in /usr/local/lib/python3.10/dist-packages (from ultralytics==8.1.34) (3.8.0)\n",
      "Requirement already satisfied: opencv-python>=4.6.0 in /usr/local/lib/python3.10/dist-packages (from ultralytics==8.1.34) (4.10.0.84)\n",
      "Requirement already satisfied: pillow>=7.1.2 in /usr/local/lib/python3.10/dist-packages (from ultralytics==8.1.34) (11.0.0)\n",
      "Requirement already satisfied: pyyaml>=5.3.1 in /usr/local/lib/python3.10/dist-packages (from ultralytics==8.1.34) (6.0.2)\n",
      "Requirement already satisfied: requests>=2.23.0 in /usr/local/lib/python3.10/dist-packages (from ultralytics==8.1.34) (2.32.3)\n",
      "Requirement already satisfied: scipy>=1.4.1 in /usr/local/lib/python3.10/dist-packages (from ultralytics==8.1.34) (1.13.1)\n",
      "Requirement already satisfied: torch>=1.8.0 in /usr/local/lib/python3.10/dist-packages (from ultralytics==8.1.34) (2.5.1+cu121)\n",
      "Requirement already satisfied: torchvision>=0.9.0 in /usr/local/lib/python3.10/dist-packages (from ultralytics==8.1.34) (0.20.1+cu121)\n",
      "Requirement already satisfied: tqdm>=4.64.0 in /usr/local/lib/python3.10/dist-packages (from ultralytics==8.1.34) (4.66.6)\n",
      "Requirement already satisfied: psutil in /usr/local/lib/python3.10/dist-packages (from ultralytics==8.1.34) (5.9.5)\n",
      "Requirement already satisfied: py-cpuinfo in /usr/local/lib/python3.10/dist-packages (from ultralytics==8.1.34) (9.0.0)\n",
      "Collecting thop>=0.1.1 (from ultralytics==8.1.34)\n",
      "  Downloading thop-0.1.1.post2209072238-py3-none-any.whl.metadata (2.7 kB)\n",
      "Requirement already satisfied: pandas>=1.1.4 in /usr/local/lib/python3.10/dist-packages (from ultralytics==8.1.34) (2.2.2)\n",
      "Requirement already satisfied: seaborn>=0.11.0 in /usr/local/lib/python3.10/dist-packages (from ultralytics==8.1.34) (0.13.2)\n",
      "Requirement already satisfied: contourpy>=1.0.1 in /usr/local/lib/python3.10/dist-packages (from matplotlib>=3.3.0->ultralytics==8.1.34) (1.3.1)\n",
      "Requirement already satisfied: cycler>=0.10 in /usr/local/lib/python3.10/dist-packages (from matplotlib>=3.3.0->ultralytics==8.1.34) (0.12.1)\n",
      "Requirement already satisfied: fonttools>=4.22.0 in /usr/local/lib/python3.10/dist-packages (from matplotlib>=3.3.0->ultralytics==8.1.34) (4.55.0)\n",
      "Requirement already satisfied: kiwisolver>=1.0.1 in /usr/local/lib/python3.10/dist-packages (from matplotlib>=3.3.0->ultralytics==8.1.34) (1.4.7)\n",
      "Requirement already satisfied: numpy<2,>=1.21 in /usr/local/lib/python3.10/dist-packages (from matplotlib>=3.3.0->ultralytics==8.1.34) (1.26.4)\n",
      "Requirement already satisfied: packaging>=20.0 in /usr/local/lib/python3.10/dist-packages (from matplotlib>=3.3.0->ultralytics==8.1.34) (24.2)\n",
      "Requirement already satisfied: pyparsing>=2.3.1 in /usr/local/lib/python3.10/dist-packages (from matplotlib>=3.3.0->ultralytics==8.1.34) (3.2.0)\n",
      "Requirement already satisfied: python-dateutil>=2.7 in /usr/local/lib/python3.10/dist-packages (from matplotlib>=3.3.0->ultralytics==8.1.34) (2.8.2)\n",
      "Requirement already satisfied: pytz>=2020.1 in /usr/local/lib/python3.10/dist-packages (from pandas>=1.1.4->ultralytics==8.1.34) (2024.2)\n",
      "Requirement already satisfied: tzdata>=2022.7 in /usr/local/lib/python3.10/dist-packages (from pandas>=1.1.4->ultralytics==8.1.34) (2024.2)\n",
      "Requirement already satisfied: charset-normalizer<4,>=2 in /usr/local/lib/python3.10/dist-packages (from requests>=2.23.0->ultralytics==8.1.34) (3.4.0)\n",
      "Requirement already satisfied: idna<4,>=2.5 in /usr/local/lib/python3.10/dist-packages (from requests>=2.23.0->ultralytics==8.1.34) (3.10)\n",
      "Requirement already satisfied: urllib3<3,>=1.21.1 in /usr/local/lib/python3.10/dist-packages (from requests>=2.23.0->ultralytics==8.1.34) (2.2.3)\n",
      "Requirement already satisfied: certifi>=2017.4.17 in /usr/local/lib/python3.10/dist-packages (from requests>=2.23.0->ultralytics==8.1.34) (2024.8.30)\n",
      "Requirement already satisfied: filelock in /usr/local/lib/python3.10/dist-packages (from torch>=1.8.0->ultralytics==8.1.34) (3.16.1)\n",
      "Requirement already satisfied: typing-extensions>=4.8.0 in /usr/local/lib/python3.10/dist-packages (from torch>=1.8.0->ultralytics==8.1.34) (4.12.2)\n",
      "Requirement already satisfied: networkx in /usr/local/lib/python3.10/dist-packages (from torch>=1.8.0->ultralytics==8.1.34) (3.4.2)\n",
      "Requirement already satisfied: jinja2 in /usr/local/lib/python3.10/dist-packages (from torch>=1.8.0->ultralytics==8.1.34) (3.1.4)\n",
      "Requirement already satisfied: fsspec in /usr/local/lib/python3.10/dist-packages (from torch>=1.8.0->ultralytics==8.1.34) (2024.10.0)\n",
      "Requirement already satisfied: sympy==1.13.1 in /usr/local/lib/python3.10/dist-packages (from torch>=1.8.0->ultralytics==8.1.34) (1.13.1)\n",
      "Requirement already satisfied: mpmath<1.4,>=1.1.0 in /usr/local/lib/python3.10/dist-packages (from sympy==1.13.1->torch>=1.8.0->ultralytics==8.1.34) (1.3.0)\n",
      "Requirement already satisfied: six>=1.5 in /usr/local/lib/python3.10/dist-packages (from python-dateutil>=2.7->matplotlib>=3.3.0->ultralytics==8.1.34) (1.16.0)\n",
      "Requirement already satisfied: MarkupSafe>=2.0 in /usr/local/lib/python3.10/dist-packages (from jinja2->torch>=1.8.0->ultralytics==8.1.34) (3.0.2)\n",
      "Downloading thop-0.1.1.post2209072238-py3-none-any.whl (15 kB)\n",
      "Building wheels for collected packages: ultralytics\n",
      "  Building wheel for ultralytics (pyproject.toml) ... \u001b[?25l\u001b[?25hdone\n",
      "  Created wheel for ultralytics: filename=ultralytics-8.1.34-py3-none-any.whl size=731421 sha256=8c5c2c2a5091aabf3f69a7dcee0b6d6409911c8a4c00fa33fa18544e8e79db78\n",
      "  Stored in directory: /tmp/pip-ephem-wheel-cache-w5hcfr7b/wheels/51/93/e8/22d2e815ced343915c15d86b2a00d95eb0a997d012527fbea7\n",
      "Successfully built ultralytics\n",
      "Installing collected packages: thop, ultralytics\n",
      "Successfully installed thop-0.1.1.post2209072238 ultralytics-8.1.34\n"
     ]
    }
   ],
   "source": [
    "!git clone https://github.com/THU-MIG/yolov10.git\n",
    "!cd yolov10 && pip install ."
   ]
  },
  {
   "cell_type": "code",
   "execution_count": 3,
   "metadata": {
    "colab": {
     "base_uri": "https://localhost:8080/",
     "height": 1000,
     "referenced_widgets": [
      "aba031ba8b614cdaacc24a7f51ec9861",
      "398a09fc9a4a4c12b7ec3840fde4eaea",
      "d8e4567fb8d1487abb220461d02fa675",
      "2f0c450f5fa04d8cbcc0cbd9918427d8",
      "bd105457b8ca4ad0bf344c0c124a0ad7",
      "c030406213eb47ae9423082631f06fd2",
      "f686223073b54c1795ff0d4de9cb2964",
      "cd1503c7d57b4770866bc15dc9d5f732",
      "658c0b98b327402aa2273c2338f83b1f",
      "1fb93a60f2a44b51b9273cf3ae1ce505",
      "88ef155425c242e9a237071bc0fc6cd2",
      "6622e3e0a20244b79824ed821137e4b4",
      "db0eb7236dc34d65b26d0f0d0dfca622",
      "2ca41abf3da64173922d4daf075519ea",
      "338be5d6ca1844aea211f7e6804ef752",
      "c10dc0cff23541728ef1d417d4f90598",
      "329604cf2b074ad798b0d15ff32c7b17",
      "5be239ba692b4a2ba6788852738a3fe6",
      "565ee8d7501b48449adc8c72464a3445",
      "e1002d6a0d8f4413b7b3ac4545563447",
      "4d9fd1f74ded4619ae53860e60f188b6",
      "1459676f1822441db7c312c7e04945f6"
     ]
    },
    "id": "hwc6Z02vnk9E",
    "outputId": "7133aa8b-478a-4c93-a52f-825d7ffdf9b4"
   },
   "outputs": [
    {
     "name": "stderr",
     "output_type": "stream",
     "text": [
      "/usr/local/lib/python3.10/dist-packages/huggingface_hub/utils/_auth.py:94: UserWarning: \n",
      "The secret `HF_TOKEN` does not exist in your Colab secrets.\n",
      "To authenticate with the Hugging Face Hub, create a token in your settings tab (https://huggingface.co/settings/tokens), set it as secret in your Google Colab and restart your session.\n",
      "You will be able to reuse this secret in all of your notebooks.\n",
      "Please note that authentication is recommended but still optional to access public models or datasets.\n",
      "  warnings.warn(\n"
     ]
    },
    {
     "data": {
      "application/vnd.jupyter.widget-view+json": {
       "model_id": "aba031ba8b614cdaacc24a7f51ec9861",
       "version_major": 2,
       "version_minor": 0
      },
      "text/plain": [
       "config.json:   0%|          | 0.00/1.72k [00:00<?, ?B/s]"
      ]
     },
     "metadata": {},
     "output_type": "display_data"
    },
    {
     "data": {
      "application/vnd.jupyter.widget-view+json": {
       "model_id": "6622e3e0a20244b79824ed821137e4b4",
       "version_major": 2,
       "version_minor": 0
      },
      "text/plain": [
       "model.safetensors:   0%|          | 0.00/11.2M [00:00<?, ?B/s]"
      ]
     },
     "metadata": {},
     "output_type": "display_data"
    },
    {
     "name": "stdout",
     "output_type": "stream",
     "text": [
      "New https://pypi.org/project/ultralytics/8.3.36 available 😃 Update with 'pip install -U ultralytics'\n",
      "Ultralytics YOLOv8.1.34 🚀 Python-3.10.12 torch-2.5.1+cu121 CUDA:0 (Tesla T4, 15102MiB)\n",
      "\u001b[34m\u001b[1mengine/trainer: \u001b[0mtask=detect, mode=train, model=yolov10n.yaml, data=/content/config.yaml, epochs=200, time=None, patience=100, batch=32, imgsz=640, save=True, save_period=-1, val_period=1, cache=False, device=None, workers=8, project=None, name=train, exist_ok=False, pretrained=True, optimizer=auto, verbose=True, seed=0, deterministic=True, single_cls=False, rect=False, cos_lr=False, close_mosaic=10, resume=False, amp=True, fraction=1.0, profile=False, freeze=None, multi_scale=False, overlap_mask=True, mask_ratio=4, dropout=0.0, val=True, split=val, save_json=False, save_hybrid=False, conf=None, iou=0.7, max_det=300, half=False, dnn=False, plots=True, source=None, vid_stride=1, stream_buffer=False, visualize=False, augment=False, agnostic_nms=False, classes=None, retina_masks=False, embed=None, show=False, save_frames=False, save_txt=False, save_conf=False, save_crop=False, show_labels=True, show_conf=True, show_boxes=True, line_width=None, format=torchscript, keras=False, optimize=False, int8=False, dynamic=False, simplify=False, opset=None, workspace=4, nms=False, lr0=0.01, lrf=0.01, momentum=0.937, weight_decay=0.0005, warmup_epochs=3.0, warmup_momentum=0.8, warmup_bias_lr=0.1, box=7.5, cls=0.5, dfl=1.5, pose=12.0, kobj=1.0, label_smoothing=0.0, nbs=64, hsv_h=0.015, hsv_s=0.7, hsv_v=0.4, degrees=0.0, translate=0.1, scale=0.5, shear=0.0, perspective=0.0, flipud=0.0, fliplr=0.5, bgr=0.0, mosaic=1.0, mixup=0.0, copy_paste=0.0, auto_augment=randaugment, erasing=0.4, crop_fraction=1.0, cfg=None, tracker=botsort.yaml, save_dir=runs/detect/train\n",
      "Downloading https://ultralytics.com/assets/Arial.ttf to '/root/.config/yolov10/Arial.ttf'...\n"
     ]
    },
    {
     "name": "stderr",
     "output_type": "stream",
     "text": [
      "100%|██████████| 755k/755k [00:00<00:00, 20.2MB/s]\n"
     ]
    },
    {
     "name": "stdout",
     "output_type": "stream",
     "text": [
      "Overriding model.yaml nc=80 with nc=3\n",
      "\n",
      "                   from  n    params  module                                       arguments                     \n",
      "  0                  -1  1       464  ultralytics.nn.modules.conv.Conv             [3, 16, 3, 2]                 \n",
      "  1                  -1  1      4672  ultralytics.nn.modules.conv.Conv             [16, 32, 3, 2]                \n",
      "  2                  -1  1      7360  ultralytics.nn.modules.block.C2f             [32, 32, 1, True]             \n",
      "  3                  -1  1     18560  ultralytics.nn.modules.conv.Conv             [32, 64, 3, 2]                \n",
      "  4                  -1  2     49664  ultralytics.nn.modules.block.C2f             [64, 64, 2, True]             \n",
      "  5                  -1  1      9856  ultralytics.nn.modules.block.SCDown          [64, 128, 3, 2]               \n",
      "  6                  -1  2    197632  ultralytics.nn.modules.block.C2f             [128, 128, 2, True]           \n",
      "  7                  -1  1     36096  ultralytics.nn.modules.block.SCDown          [128, 256, 3, 2]              \n",
      "  8                  -1  1    460288  ultralytics.nn.modules.block.C2f             [256, 256, 1, True]           \n",
      "  9                  -1  1    164608  ultralytics.nn.modules.block.SPPF            [256, 256, 5]                 \n",
      " 10                  -1  1    249728  ultralytics.nn.modules.block.PSA             [256, 256]                    \n",
      " 11                  -1  1         0  torch.nn.modules.upsampling.Upsample         [None, 2, 'nearest']          \n",
      " 12             [-1, 6]  1         0  ultralytics.nn.modules.conv.Concat           [1]                           \n",
      " 13                  -1  1    148224  ultralytics.nn.modules.block.C2f             [384, 128, 1]                 \n",
      " 14                  -1  1         0  torch.nn.modules.upsampling.Upsample         [None, 2, 'nearest']          \n",
      " 15             [-1, 4]  1         0  ultralytics.nn.modules.conv.Concat           [1]                           \n",
      " 16                  -1  1     37248  ultralytics.nn.modules.block.C2f             [192, 64, 1]                  \n",
      " 17                  -1  1     36992  ultralytics.nn.modules.conv.Conv             [64, 64, 3, 2]                \n",
      " 18            [-1, 13]  1         0  ultralytics.nn.modules.conv.Concat           [1]                           \n",
      " 19                  -1  1    123648  ultralytics.nn.modules.block.C2f             [192, 128, 1]                 \n",
      " 20                  -1  1     18048  ultralytics.nn.modules.block.SCDown          [128, 128, 3, 2]              \n",
      " 21            [-1, 10]  1         0  ultralytics.nn.modules.conv.Concat           [1]                           \n",
      " 22                  -1  1    282624  ultralytics.nn.modules.block.C2fCIB          [384, 256, 1, True, True]     \n",
      " 23        [16, 19, 22]  1    862498  ultralytics.nn.modules.head.v10Detect        [3, [64, 128, 256]]           \n",
      "YOLOv10n summary: 385 layers, 2708210 parameters, 2708194 gradients, 8.4 GFLOPs\n",
      "\n",
      "\u001b[34m\u001b[1mTensorBoard: \u001b[0mStart with 'tensorboard --logdir runs/detect/train', view at http://localhost:6006/\n"
     ]
    },
    {
     "name": "stderr",
     "output_type": "stream",
     "text": [
      "\u001b[34m\u001b[1mwandb\u001b[0m: Using wandb-core as the SDK backend.  Please refer to https://wandb.me/wandb-core for more information.\n"
     ]
    },
    {
     "data": {
      "application/javascript": "\n        window._wandbApiKey = new Promise((resolve, reject) => {\n            function loadScript(url) {\n            return new Promise(function(resolve, reject) {\n                let newScript = document.createElement(\"script\");\n                newScript.onerror = reject;\n                newScript.onload = resolve;\n                document.body.appendChild(newScript);\n                newScript.src = url;\n            });\n            }\n            loadScript(\"https://cdn.jsdelivr.net/npm/postmate/build/postmate.min.js\").then(() => {\n            const iframe = document.createElement('iframe')\n            iframe.style.cssText = \"width:0;height:0;border:none\"\n            document.body.appendChild(iframe)\n            const handshake = new Postmate({\n                container: iframe,\n                url: 'https://wandb.ai/authorize'\n            });\n            const timeout = setTimeout(() => reject(\"Couldn't auto authenticate\"), 5000)\n            handshake.then(function(child) {\n                child.on('authorize', data => {\n                    clearTimeout(timeout)\n                    resolve(data)\n                });\n            });\n            })\n        });\n    ",
      "text/plain": [
       "<IPython.core.display.Javascript object>"
      ]
     },
     "metadata": {},
     "output_type": "display_data"
    },
    {
     "name": "stderr",
     "output_type": "stream",
     "text": [
      "\u001b[34m\u001b[1mwandb\u001b[0m: Logging into wandb.ai. (Learn how to deploy a W&B server locally: https://wandb.me/wandb-server)\n",
      "\u001b[34m\u001b[1mwandb\u001b[0m: You can find your API key in your browser here: https://wandb.ai/authorize\n",
      "wandb: Paste an API key from your profile and hit enter, or press ctrl+c to quit:"
     ]
    },
    {
     "name": "stdout",
     "output_type": "stream",
     "text": [
      " ··········\n"
     ]
    },
    {
     "name": "stderr",
     "output_type": "stream",
     "text": [
      "\u001b[34m\u001b[1mwandb\u001b[0m: Appending key for api.wandb.ai to your netrc file: /root/.netrc\n"
     ]
    },
    {
     "data": {
      "text/html": [
       "Tracking run with wandb version 0.18.7"
      ],
      "text/plain": [
       "<IPython.core.display.HTML object>"
      ]
     },
     "metadata": {},
     "output_type": "display_data"
    },
    {
     "data": {
      "text/html": [
       "Run data is saved locally in <code>/content/wandb/run-20241123_222326-6owyj71x</code>"
      ],
      "text/plain": [
       "<IPython.core.display.HTML object>"
      ]
     },
     "metadata": {},
     "output_type": "display_data"
    },
    {
     "data": {
      "text/html": [
       "Syncing run <strong><a href='https://wandb.ai/rohitslg-003-na/YOLOv8/runs/6owyj71x' target=\"_blank\">train</a></strong> to <a href='https://wandb.ai/rohitslg-003-na/YOLOv8' target=\"_blank\">Weights & Biases</a> (<a href='https://wandb.me/developer-guide' target=\"_blank\">docs</a>)<br/>"
      ],
      "text/plain": [
       "<IPython.core.display.HTML object>"
      ]
     },
     "metadata": {},
     "output_type": "display_data"
    },
    {
     "data": {
      "text/html": [
       " View project at <a href='https://wandb.ai/rohitslg-003-na/YOLOv8' target=\"_blank\">https://wandb.ai/rohitslg-003-na/YOLOv8</a>"
      ],
      "text/plain": [
       "<IPython.core.display.HTML object>"
      ]
     },
     "metadata": {},
     "output_type": "display_data"
    },
    {
     "data": {
      "text/html": [
       " View run at <a href='https://wandb.ai/rohitslg-003-na/YOLOv8/runs/6owyj71x' target=\"_blank\">https://wandb.ai/rohitslg-003-na/YOLOv8/runs/6owyj71x</a>"
      ],
      "text/plain": [
       "<IPython.core.display.HTML object>"
      ]
     },
     "metadata": {},
     "output_type": "display_data"
    },
    {
     "name": "stdout",
     "output_type": "stream",
     "text": [
      "Freezing layer 'model.23.dfl.conv.weight'\n",
      "\u001b[34m\u001b[1mAMP: \u001b[0mrunning Automatic Mixed Precision (AMP) checks with YOLOv8n...\n",
      "Downloading https://github.com/ultralytics/assets/releases/download/v8.1.0/yolov8n.pt to 'yolov8n.pt'...\n"
     ]
    },
    {
     "name": "stderr",
     "output_type": "stream",
     "text": [
      "100%|██████████| 6.23M/6.23M [00:00<00:00, 100MB/s]\n",
      "/usr/local/lib/python3.10/dist-packages/ultralytics/nn/tasks.py:733: FutureWarning: You are using `torch.load` with `weights_only=False` (the current default value), which uses the default pickle module implicitly. It is possible to construct malicious pickle data which will execute arbitrary code during unpickling (See https://github.com/pytorch/pytorch/blob/main/SECURITY.md#untrusted-models for more details). In a future release, the default value for `weights_only` will be flipped to `True`. This limits the functions that could be executed during unpickling. Arbitrary objects will no longer be allowed to be loaded via this mode unless they are explicitly allowlisted by the user via `torch.serialization.add_safe_globals`. We recommend you start setting `weights_only=True` for any use case where you don't have full control of the loaded file. Please open an issue on GitHub for any issues related to this experimental feature.\n",
      "  ckpt = torch.load(file, map_location=\"cpu\")\n",
      "/usr/local/lib/python3.10/dist-packages/ultralytics/utils/checks.py:641: FutureWarning: `torch.cuda.amp.autocast(args...)` is deprecated. Please use `torch.amp.autocast('cuda', args...)` instead.\n",
      "  with torch.cuda.amp.autocast(True):\n"
     ]
    },
    {
     "name": "stdout",
     "output_type": "stream",
     "text": [
      "\u001b[34m\u001b[1mAMP: \u001b[0mchecks passed ✅\n"
     ]
    },
    {
     "name": "stderr",
     "output_type": "stream",
     "text": [
      "/usr/local/lib/python3.10/dist-packages/ultralytics/engine/trainer.py:276: FutureWarning: `torch.cuda.amp.GradScaler(args...)` is deprecated. Please use `torch.amp.GradScaler('cuda', args...)` instead.\n",
      "  self.scaler = torch.cuda.amp.GradScaler(enabled=self.amp)\n",
      "\u001b[34m\u001b[1mtrain: \u001b[0mScanning /content/data/labels/train... 364 images, 0 backgrounds, 0 corrupt: 100%|██████████| 364/364 [00:00<00:00, 1516.43it/s]"
     ]
    },
    {
     "name": "stdout",
     "output_type": "stream",
     "text": [
      "\u001b[34m\u001b[1mtrain: \u001b[0mNew cache created: /content/data/labels/train.cache\n"
     ]
    },
    {
     "name": "stderr",
     "output_type": "stream",
     "text": [
      "\n"
     ]
    },
    {
     "name": "stdout",
     "output_type": "stream",
     "text": [
      "\u001b[34m\u001b[1malbumentations: \u001b[0mBlur(p=0.01, blur_limit=(3, 7)), MedianBlur(p=0.01, blur_limit=(3, 7)), ToGray(p=0.01, num_output_channels=3, method='weighted_average'), CLAHE(p=0.01, clip_limit=(1.0, 4.0), tile_grid_size=(8, 8))\n"
     ]
    },
    {
     "name": "stderr",
     "output_type": "stream",
     "text": [
      "/usr/local/lib/python3.10/dist-packages/albumentations/__init__.py:24: UserWarning: A new version of Albumentations is available: 1.4.21 (you have 1.4.20). Upgrade using: pip install -U albumentations. To disable automatic update checks, set the environment variable NO_ALBUMENTATIONS_UPDATE to 1.\n",
      "  check_for_updates()\n",
      "/usr/local/lib/python3.10/dist-packages/albumentations/core/composition.py:205: UserWarning: Got processor for bboxes, but no transform to process it.\n",
      "  self._set_keys()\n",
      "\u001b[34m\u001b[1mval: \u001b[0mScanning /content/data/labels/val... 87 images, 0 backgrounds, 0 corrupt: 100%|██████████| 87/87 [00:00<00:00, 1172.74it/s]"
     ]
    },
    {
     "name": "stdout",
     "output_type": "stream",
     "text": [
      "\u001b[34m\u001b[1mval: \u001b[0mNew cache created: /content/data/labels/val.cache\n"
     ]
    },
    {
     "name": "stderr",
     "output_type": "stream",
     "text": [
      "\n"
     ]
    },
    {
     "name": "stdout",
     "output_type": "stream",
     "text": [
      "Plotting labels to runs/detect/train/labels.jpg... \n",
      "\u001b[34m\u001b[1moptimizer:\u001b[0m 'optimizer=auto' found, ignoring 'lr0=0.01' and 'momentum=0.937' and determining best 'optimizer', 'lr0' and 'momentum' automatically... \n",
      "\u001b[34m\u001b[1moptimizer:\u001b[0m AdamW(lr=0.001429, momentum=0.9) with parameter groups 95 weight(decay=0.0), 108 weight(decay=0.0005), 107 bias(decay=0.0)\n",
      "\u001b[34m\u001b[1mTensorBoard: \u001b[0mmodel graph visualization added ✅\n",
      "Image sizes 640 train, 640 val\n",
      "Using 2 dataloader workers\n",
      "Logging results to \u001b[1mruns/detect/train\u001b[0m\n",
      "Starting training for 200 epochs...\n",
      "\n",
      "      Epoch    GPU_mem     box_om     cls_om     dfl_om     box_oo     cls_oo     dfl_oo  Instances       Size\n"
     ]
    },
    {
     "name": "stderr",
     "output_type": "stream",
     "text": [
      "      1/200      6.14G      3.479      4.168      4.216      3.199      4.871      4.276        310        640: 100%|██████████| 12/12 [00:10<00:00,  1.17it/s]\n",
      "                 Class     Images  Instances      Box(P          R      mAP50  mAP50-95): 100%|██████████| 2/2 [00:03<00:00,  1.86s/it]"
     ]
    },
    {
     "name": "stdout",
     "output_type": "stream",
     "text": [
      "                   all         87       1138   0.000243     0.0728    0.00551    0.00159\n"
     ]
    },
    {
     "name": "stderr",
     "output_type": "stream",
     "text": [
      "\n"
     ]
    },
    {
     "name": "stdout",
     "output_type": "stream",
     "text": [
      "\n",
      "      Epoch    GPU_mem     box_om     cls_om     dfl_om     box_oo     cls_oo     dfl_oo  Instances       Size\n"
     ]
    },
    {
     "name": "stderr",
     "output_type": "stream",
     "text": [
      "      2/200      6.39G      3.429      4.103      4.145      3.135      4.722      4.198        270        640: 100%|██████████| 12/12 [00:06<00:00,  1.84it/s]\n",
      "                 Class     Images  Instances      Box(P          R      mAP50  mAP50-95): 100%|██████████| 2/2 [00:00<00:00,  2.25it/s]"
     ]
    },
    {
     "name": "stdout",
     "output_type": "stream",
     "text": [
      "                   all         87       1138   0.000268     0.0805   0.000933   0.000192\n"
     ]
    },
    {
     "name": "stderr",
     "output_type": "stream",
     "text": [
      "\n"
     ]
    },
    {
     "name": "stdout",
     "output_type": "stream",
     "text": [
      "\n",
      "      Epoch    GPU_mem     box_om     cls_om     dfl_om     box_oo     cls_oo     dfl_oo  Instances       Size\n"
     ]
    },
    {
     "name": "stderr",
     "output_type": "stream",
     "text": [
      "      3/200      6.76G      3.284      3.916      3.975      2.927      4.445      3.976        273        640: 100%|██████████| 12/12 [00:09<00:00,  1.29it/s]\n",
      "                 Class     Images  Instances      Box(P          R      mAP50  mAP50-95): 100%|██████████| 2/2 [00:01<00:00,  1.71it/s]"
     ]
    },
    {
     "name": "stdout",
     "output_type": "stream",
     "text": [
      "                   all         87       1138   0.000268     0.0805   0.000764   0.000169\n"
     ]
    },
    {
     "name": "stderr",
     "output_type": "stream",
     "text": [
      "\n"
     ]
    },
    {
     "name": "stdout",
     "output_type": "stream",
     "text": [
      "\n",
      "      Epoch    GPU_mem     box_om     cls_om     dfl_om     box_oo     cls_oo     dfl_oo  Instances       Size\n"
     ]
    },
    {
     "name": "stderr",
     "output_type": "stream",
     "text": [
      "      4/200      6.27G      2.833      3.381      3.569        2.4      3.862      3.473        285        640: 100%|██████████| 12/12 [00:06<00:00,  1.83it/s]\n",
      "                 Class     Images  Instances      Box(P          R      mAP50  mAP50-95): 100%|██████████| 2/2 [00:01<00:00,  1.56it/s]"
     ]
    },
    {
     "name": "stdout",
     "output_type": "stream",
     "text": [
      "                   all         87       1138   0.000294     0.0881    0.00618    0.00119\n"
     ]
    },
    {
     "name": "stderr",
     "output_type": "stream",
     "text": [
      "\n"
     ]
    },
    {
     "name": "stdout",
     "output_type": "stream",
     "text": [
      "\n",
      "      Epoch    GPU_mem     box_om     cls_om     dfl_om     box_oo     cls_oo     dfl_oo  Instances       Size\n"
     ]
    },
    {
     "name": "stderr",
     "output_type": "stream",
     "text": [
      "      5/200      6.37G      2.498      2.586      3.164      2.051      3.284      3.017        266        640: 100%|██████████| 12/12 [00:08<00:00,  1.48it/s]\n",
      "                 Class     Images  Instances      Box(P          R      mAP50  mAP50-95): 100%|██████████| 2/2 [00:01<00:00,  1.74it/s]"
     ]
    },
    {
     "name": "stdout",
     "output_type": "stream",
     "text": [
      "                   all         87       1138   0.000339     0.0881    0.00135   0.000231\n"
     ]
    },
    {
     "name": "stderr",
     "output_type": "stream",
     "text": [
      "\n"
     ]
    },
    {
     "name": "stdout",
     "output_type": "stream",
     "text": [
      "\n",
      "      Epoch    GPU_mem     box_om     cls_om     dfl_om     box_oo     cls_oo     dfl_oo  Instances       Size\n"
     ]
    },
    {
     "name": "stderr",
     "output_type": "stream",
     "text": [
      "      6/200      6.43G      2.373      2.084      2.778      1.966      2.852      2.603        309        640: 100%|██████████| 12/12 [00:06<00:00,  1.88it/s]\n",
      "                 Class     Images  Instances      Box(P          R      mAP50  mAP50-95): 100%|██████████| 2/2 [00:01<00:00,  1.29it/s]"
     ]
    },
    {
     "name": "stdout",
     "output_type": "stream",
     "text": [
      "                   all         87       1138   0.000379     0.0728    0.00175   0.000335\n"
     ]
    },
    {
     "name": "stderr",
     "output_type": "stream",
     "text": [
      "\n"
     ]
    },
    {
     "name": "stdout",
     "output_type": "stream",
     "text": [
      "\n",
      "      Epoch    GPU_mem     box_om     cls_om     dfl_om     box_oo     cls_oo     dfl_oo  Instances       Size\n"
     ]
    },
    {
     "name": "stderr",
     "output_type": "stream",
     "text": [
      "      7/200      6.08G      2.115      1.837      2.476      1.838       2.59      2.297        259        640: 100%|██████████| 12/12 [00:07<00:00,  1.61it/s]\n",
      "                 Class     Images  Instances      Box(P          R      mAP50  mAP50-95): 100%|██████████| 2/2 [00:01<00:00,  1.61it/s]"
     ]
    },
    {
     "name": "stdout",
     "output_type": "stream",
     "text": [
      "                   all         87       1138    0.00041     0.0651    0.00721    0.00196\n"
     ]
    },
    {
     "name": "stderr",
     "output_type": "stream",
     "text": [
      "\n"
     ]
    },
    {
     "name": "stdout",
     "output_type": "stream",
     "text": [
      "\n",
      "      Epoch    GPU_mem     box_om     cls_om     dfl_om     box_oo     cls_oo     dfl_oo  Instances       Size\n"
     ]
    },
    {
     "name": "stderr",
     "output_type": "stream",
     "text": [
      "      8/200      6.84G      1.958       1.68      2.281      1.805      2.351      2.102        267        640: 100%|██████████| 12/12 [00:06<00:00,  1.82it/s]\n",
      "                 Class     Images  Instances      Box(P          R      mAP50  mAP50-95): 100%|██████████| 2/2 [00:01<00:00,  1.03it/s]"
     ]
    },
    {
     "name": "stdout",
     "output_type": "stream",
     "text": [
      "                   all         87       1138     0.0197      0.308     0.0583     0.0282\n"
     ]
    },
    {
     "name": "stderr",
     "output_type": "stream",
     "text": [
      "\n"
     ]
    },
    {
     "name": "stdout",
     "output_type": "stream",
     "text": [
      "\n",
      "      Epoch    GPU_mem     box_om     cls_om     dfl_om     box_oo     cls_oo     dfl_oo  Instances       Size\n"
     ]
    },
    {
     "name": "stderr",
     "output_type": "stream",
     "text": [
      "      9/200      6.87G      1.848      1.567       2.12      1.769      2.184      1.984        258        640: 100%|██████████| 12/12 [00:06<00:00,  1.88it/s]\n",
      "                 Class     Images  Instances      Box(P          R      mAP50  mAP50-95): 100%|██████████| 2/2 [00:00<00:00,  2.04it/s]"
     ]
    },
    {
     "name": "stdout",
     "output_type": "stream",
     "text": [
      "                   all         87       1138      0.886     0.0986      0.299      0.179\n"
     ]
    },
    {
     "name": "stderr",
     "output_type": "stream",
     "text": [
      "\n"
     ]
    },
    {
     "name": "stdout",
     "output_type": "stream",
     "text": [
      "\n",
      "      Epoch    GPU_mem     box_om     cls_om     dfl_om     box_oo     cls_oo     dfl_oo  Instances       Size\n"
     ]
    },
    {
     "name": "stderr",
     "output_type": "stream",
     "text": [
      "     10/200      6.38G      1.695      1.434       1.99      1.661      1.959      1.869        323        640: 100%|██████████| 12/12 [00:07<00:00,  1.64it/s]\n",
      "                 Class     Images  Instances      Box(P          R      mAP50  mAP50-95): 100%|██████████| 2/2 [00:02<00:00,  1.06s/it]"
     ]
    },
    {
     "name": "stdout",
     "output_type": "stream",
     "text": [
      "                   all         87       1138       0.77      0.198      0.371       0.17\n"
     ]
    },
    {
     "name": "stderr",
     "output_type": "stream",
     "text": [
      "\n"
     ]
    },
    {
     "name": "stdout",
     "output_type": "stream",
     "text": [
      "\n",
      "      Epoch    GPU_mem     box_om     cls_om     dfl_om     box_oo     cls_oo     dfl_oo  Instances       Size\n"
     ]
    },
    {
     "name": "stderr",
     "output_type": "stream",
     "text": [
      "     11/200      6.74G       1.64      1.388      1.906      1.604      1.838      1.818        279        640: 100%|██████████| 12/12 [00:06<00:00,  1.92it/s]\n",
      "                 Class     Images  Instances      Box(P          R      mAP50  mAP50-95): 100%|██████████| 2/2 [00:01<00:00,  1.92it/s]"
     ]
    },
    {
     "name": "stdout",
     "output_type": "stream",
     "text": [
      "                   all         87       1138      0.746      0.447      0.526      0.284\n"
     ]
    },
    {
     "name": "stderr",
     "output_type": "stream",
     "text": [
      "\n"
     ]
    },
    {
     "name": "stdout",
     "output_type": "stream",
     "text": [
      "\n",
      "      Epoch    GPU_mem     box_om     cls_om     dfl_om     box_oo     cls_oo     dfl_oo  Instances       Size\n"
     ]
    },
    {
     "name": "stderr",
     "output_type": "stream",
     "text": [
      "     12/200      6.58G      1.561      1.315      1.848      1.577       1.73      1.783        250        640: 100%|██████████| 12/12 [00:08<00:00,  1.46it/s]\n",
      "                 Class     Images  Instances      Box(P          R      mAP50  mAP50-95): 100%|██████████| 2/2 [00:01<00:00,  1.12it/s]"
     ]
    },
    {
     "name": "stdout",
     "output_type": "stream",
     "text": [
      "                   all         87       1138      0.646      0.647      0.689      0.423\n"
     ]
    },
    {
     "name": "stderr",
     "output_type": "stream",
     "text": [
      "\n"
     ]
    },
    {
     "name": "stdout",
     "output_type": "stream",
     "text": [
      "\n",
      "      Epoch    GPU_mem     box_om     cls_om     dfl_om     box_oo     cls_oo     dfl_oo  Instances       Size\n"
     ]
    },
    {
     "name": "stderr",
     "output_type": "stream",
     "text": [
      "     13/200      6.24G      1.493      1.258       1.78      1.515      1.641      1.709        221        640: 100%|██████████| 12/12 [00:06<00:00,  1.93it/s]\n",
      "                 Class     Images  Instances      Box(P          R      mAP50  mAP50-95): 100%|██████████| 2/2 [00:01<00:00,  1.73it/s]"
     ]
    },
    {
     "name": "stdout",
     "output_type": "stream",
     "text": [
      "                   all         87       1138      0.731      0.631      0.708      0.411\n"
     ]
    },
    {
     "name": "stderr",
     "output_type": "stream",
     "text": [
      "\n"
     ]
    },
    {
     "name": "stdout",
     "output_type": "stream",
     "text": [
      "\n",
      "      Epoch    GPU_mem     box_om     cls_om     dfl_om     box_oo     cls_oo     dfl_oo  Instances       Size\n"
     ]
    },
    {
     "name": "stderr",
     "output_type": "stream",
     "text": [
      "     14/200      7.02G      1.522       1.23      1.801      1.532      1.572       1.72        334        640: 100%|██████████| 12/12 [00:08<00:00,  1.34it/s]\n",
      "                 Class     Images  Instances      Box(P          R      mAP50  mAP50-95): 100%|██████████| 2/2 [00:01<00:00,  1.53it/s]"
     ]
    },
    {
     "name": "stdout",
     "output_type": "stream",
     "text": [
      "                   all         87       1138      0.625      0.676      0.694       0.38\n"
     ]
    },
    {
     "name": "stderr",
     "output_type": "stream",
     "text": [
      "\n"
     ]
    },
    {
     "name": "stdout",
     "output_type": "stream",
     "text": [
      "\n",
      "      Epoch    GPU_mem     box_om     cls_om     dfl_om     box_oo     cls_oo     dfl_oo  Instances       Size\n"
     ]
    },
    {
     "name": "stderr",
     "output_type": "stream",
     "text": [
      "     15/200      6.36G      1.454      1.194      1.731      1.471      1.524      1.667        346        640: 100%|██████████| 12/12 [00:06<00:00,  1.94it/s]\n",
      "                 Class     Images  Instances      Box(P          R      mAP50  mAP50-95): 100%|██████████| 2/2 [00:01<00:00,  1.57it/s]"
     ]
    },
    {
     "name": "stdout",
     "output_type": "stream",
     "text": [
      "                   all         87       1138      0.698      0.703      0.746       0.44\n"
     ]
    },
    {
     "name": "stderr",
     "output_type": "stream",
     "text": [
      "\n"
     ]
    },
    {
     "name": "stdout",
     "output_type": "stream",
     "text": [
      "\n",
      "      Epoch    GPU_mem     box_om     cls_om     dfl_om     box_oo     cls_oo     dfl_oo  Instances       Size\n"
     ]
    },
    {
     "name": "stderr",
     "output_type": "stream",
     "text": [
      "     16/200      6.08G      1.421      1.145        1.7      1.435      1.427      1.638        352        640: 100%|██████████| 12/12 [00:07<00:00,  1.55it/s]\n",
      "                 Class     Images  Instances      Box(P          R      mAP50  mAP50-95): 100%|██████████| 2/2 [00:01<00:00,  1.53it/s]"
     ]
    },
    {
     "name": "stdout",
     "output_type": "stream",
     "text": [
      "                   all         87       1138      0.725      0.777        0.8      0.484\n"
     ]
    },
    {
     "name": "stderr",
     "output_type": "stream",
     "text": [
      "\n"
     ]
    },
    {
     "name": "stdout",
     "output_type": "stream",
     "text": [
      "\n",
      "      Epoch    GPU_mem     box_om     cls_om     dfl_om     box_oo     cls_oo     dfl_oo  Instances       Size\n"
     ]
    },
    {
     "name": "stderr",
     "output_type": "stream",
     "text": [
      "     17/200      6.39G      1.447      1.189      1.739      1.466      1.488      1.671        289        640: 100%|██████████| 12/12 [00:06<00:00,  1.83it/s]\n",
      "                 Class     Images  Instances      Box(P          R      mAP50  mAP50-95): 100%|██████████| 2/2 [00:01<00:00,  1.09it/s]"
     ]
    },
    {
     "name": "stdout",
     "output_type": "stream",
     "text": [
      "                   all         87       1138      0.721      0.768      0.796      0.475\n"
     ]
    },
    {
     "name": "stderr",
     "output_type": "stream",
     "text": [
      "\n"
     ]
    },
    {
     "name": "stdout",
     "output_type": "stream",
     "text": [
      "\n",
      "      Epoch    GPU_mem     box_om     cls_om     dfl_om     box_oo     cls_oo     dfl_oo  Instances       Size\n"
     ]
    },
    {
     "name": "stderr",
     "output_type": "stream",
     "text": [
      "     18/200      6.56G      1.394       1.15      1.674      1.414      1.412      1.614        271        640: 100%|██████████| 12/12 [00:07<00:00,  1.64it/s]\n",
      "                 Class     Images  Instances      Box(P          R      mAP50  mAP50-95): 100%|██████████| 2/2 [00:01<00:00,  1.66it/s]"
     ]
    },
    {
     "name": "stdout",
     "output_type": "stream",
     "text": [
      "                   all         87       1138      0.697      0.758      0.776      0.484\n"
     ]
    },
    {
     "name": "stderr",
     "output_type": "stream",
     "text": [
      "\n"
     ]
    },
    {
     "name": "stdout",
     "output_type": "stream",
     "text": [
      "\n",
      "      Epoch    GPU_mem     box_om     cls_om     dfl_om     box_oo     cls_oo     dfl_oo  Instances       Size\n"
     ]
    },
    {
     "name": "stderr",
     "output_type": "stream",
     "text": [
      "     19/200      6.74G      1.364      1.122       1.64      1.405      1.361      1.596        292        640: 100%|██████████| 12/12 [00:06<00:00,  1.80it/s]\n",
      "                 Class     Images  Instances      Box(P          R      mAP50  mAP50-95): 100%|██████████| 2/2 [00:01<00:00,  1.04it/s]"
     ]
    },
    {
     "name": "stdout",
     "output_type": "stream",
     "text": [
      "                   all         87       1138      0.767      0.771      0.817      0.501\n"
     ]
    },
    {
     "name": "stderr",
     "output_type": "stream",
     "text": [
      "\n"
     ]
    },
    {
     "name": "stdout",
     "output_type": "stream",
     "text": [
      "\n",
      "      Epoch    GPU_mem     box_om     cls_om     dfl_om     box_oo     cls_oo     dfl_oo  Instances       Size\n"
     ]
    },
    {
     "name": "stderr",
     "output_type": "stream",
     "text": [
      "     20/200      6.28G      1.342      1.076      1.638      1.373      1.308      1.584        259        640: 100%|██████████| 12/12 [00:06<00:00,  1.81it/s]\n",
      "                 Class     Images  Instances      Box(P          R      mAP50  mAP50-95): 100%|██████████| 2/2 [00:01<00:00,  1.73it/s]"
     ]
    },
    {
     "name": "stdout",
     "output_type": "stream",
     "text": [
      "                   all         87       1138      0.705      0.735      0.792      0.494\n"
     ]
    },
    {
     "name": "stderr",
     "output_type": "stream",
     "text": [
      "\n"
     ]
    },
    {
     "name": "stdout",
     "output_type": "stream",
     "text": [
      "\n",
      "      Epoch    GPU_mem     box_om     cls_om     dfl_om     box_oo     cls_oo     dfl_oo  Instances       Size\n"
     ]
    },
    {
     "name": "stderr",
     "output_type": "stream",
     "text": [
      "     21/200      6.34G      1.373      1.081      1.649      1.398      1.293      1.592        234        640: 100%|██████████| 12/12 [00:07<00:00,  1.66it/s]\n",
      "                 Class     Images  Instances      Box(P          R      mAP50  mAP50-95): 100%|██████████| 2/2 [00:02<00:00,  1.09s/it]"
     ]
    },
    {
     "name": "stdout",
     "output_type": "stream",
     "text": [
      "                   all         87       1138      0.719      0.821      0.818       0.51\n"
     ]
    },
    {
     "name": "stderr",
     "output_type": "stream",
     "text": [
      "\n"
     ]
    },
    {
     "name": "stdout",
     "output_type": "stream",
     "text": [
      "\n",
      "      Epoch    GPU_mem     box_om     cls_om     dfl_om     box_oo     cls_oo     dfl_oo  Instances       Size\n"
     ]
    },
    {
     "name": "stderr",
     "output_type": "stream",
     "text": [
      "     22/200      6.39G      1.355      1.054       1.63      1.378      1.261      1.584        269        640: 100%|██████████| 12/12 [00:06<00:00,  1.97it/s]\n",
      "                 Class     Images  Instances      Box(P          R      mAP50  mAP50-95): 100%|██████████| 2/2 [00:01<00:00,  1.80it/s]"
     ]
    },
    {
     "name": "stdout",
     "output_type": "stream",
     "text": [
      "                   all         87       1138      0.747      0.783      0.826       0.52\n"
     ]
    },
    {
     "name": "stderr",
     "output_type": "stream",
     "text": [
      "\n"
     ]
    },
    {
     "name": "stdout",
     "output_type": "stream",
     "text": [
      "\n",
      "      Epoch    GPU_mem     box_om     cls_om     dfl_om     box_oo     cls_oo     dfl_oo  Instances       Size\n"
     ]
    },
    {
     "name": "stderr",
     "output_type": "stream",
     "text": [
      "     23/200      6.54G      1.319      1.027      1.599      1.366      1.223      1.564        297        640: 100%|██████████| 12/12 [00:08<00:00,  1.47it/s]\n",
      "                 Class     Images  Instances      Box(P          R      mAP50  mAP50-95): 100%|██████████| 2/2 [00:01<00:00,  1.08it/s]"
     ]
    },
    {
     "name": "stdout",
     "output_type": "stream",
     "text": [
      "                   all         87       1138      0.765       0.71      0.795      0.503\n"
     ]
    },
    {
     "name": "stderr",
     "output_type": "stream",
     "text": [
      "\n"
     ]
    },
    {
     "name": "stdout",
     "output_type": "stream",
     "text": [
      "\n",
      "      Epoch    GPU_mem     box_om     cls_om     dfl_om     box_oo     cls_oo     dfl_oo  Instances       Size\n"
     ]
    },
    {
     "name": "stderr",
     "output_type": "stream",
     "text": [
      "     24/200      6.73G      1.334      1.024      1.619       1.36       1.22      1.564        273        640: 100%|██████████| 12/12 [00:06<00:00,  1.94it/s]\n",
      "                 Class     Images  Instances      Box(P          R      mAP50  mAP50-95): 100%|██████████| 2/2 [00:01<00:00,  1.87it/s]"
     ]
    },
    {
     "name": "stdout",
     "output_type": "stream",
     "text": [
      "                   all         87       1138      0.689      0.713      0.779      0.519\n"
     ]
    },
    {
     "name": "stderr",
     "output_type": "stream",
     "text": [
      "\n"
     ]
    },
    {
     "name": "stdout",
     "output_type": "stream",
     "text": [
      "\n",
      "      Epoch    GPU_mem     box_om     cls_om     dfl_om     box_oo     cls_oo     dfl_oo  Instances       Size\n"
     ]
    },
    {
     "name": "stderr",
     "output_type": "stream",
     "text": [
      "     25/200      6.32G      1.303      1.019      1.592      1.325      1.218      1.539        312        640: 100%|██████████| 12/12 [00:08<00:00,  1.40it/s]\n",
      "                 Class     Images  Instances      Box(P          R      mAP50  mAP50-95): 100%|██████████| 2/2 [00:01<00:00,  1.50it/s]"
     ]
    },
    {
     "name": "stdout",
     "output_type": "stream",
     "text": [
      "                   all         87       1138      0.746      0.801      0.845      0.563\n"
     ]
    },
    {
     "name": "stderr",
     "output_type": "stream",
     "text": [
      "\n"
     ]
    },
    {
     "name": "stdout",
     "output_type": "stream",
     "text": [
      "\n",
      "      Epoch    GPU_mem     box_om     cls_om     dfl_om     box_oo     cls_oo     dfl_oo  Instances       Size\n"
     ]
    },
    {
     "name": "stderr",
     "output_type": "stream",
     "text": [
      "     26/200       6.3G      1.292      1.004      1.583      1.317      1.199      1.541        253        640: 100%|██████████| 12/12 [00:06<00:00,  1.94it/s]\n",
      "                 Class     Images  Instances      Box(P          R      mAP50  mAP50-95): 100%|██████████| 2/2 [00:01<00:00,  1.84it/s]"
     ]
    },
    {
     "name": "stdout",
     "output_type": "stream",
     "text": [
      "                   all         87       1138      0.721      0.772      0.816      0.536\n"
     ]
    },
    {
     "name": "stderr",
     "output_type": "stream",
     "text": [
      "\n"
     ]
    },
    {
     "name": "stdout",
     "output_type": "stream",
     "text": [
      "\n",
      "      Epoch    GPU_mem     box_om     cls_om     dfl_om     box_oo     cls_oo     dfl_oo  Instances       Size\n"
     ]
    },
    {
     "name": "stderr",
     "output_type": "stream",
     "text": [
      "     27/200      6.59G      1.255     0.9599      1.537      1.282      1.145      1.502        349        640: 100%|██████████| 12/12 [00:08<00:00,  1.34it/s]\n",
      "                 Class     Images  Instances      Box(P          R      mAP50  mAP50-95): 100%|██████████| 2/2 [00:01<00:00,  1.68it/s]"
     ]
    },
    {
     "name": "stdout",
     "output_type": "stream",
     "text": [
      "                   all         87       1138      0.748      0.797      0.848       0.55\n"
     ]
    },
    {
     "name": "stderr",
     "output_type": "stream",
     "text": [
      "\n"
     ]
    },
    {
     "name": "stdout",
     "output_type": "stream",
     "text": [
      "\n",
      "      Epoch    GPU_mem     box_om     cls_om     dfl_om     box_oo     cls_oo     dfl_oo  Instances       Size\n"
     ]
    },
    {
     "name": "stderr",
     "output_type": "stream",
     "text": [
      "     28/200      6.26G       1.28     0.9988      1.571      1.319      1.184      1.533        363        640: 100%|██████████| 12/12 [00:06<00:00,  1.96it/s]\n",
      "                 Class     Images  Instances      Box(P          R      mAP50  mAP50-95): 100%|██████████| 2/2 [00:01<00:00,  1.29it/s]"
     ]
    },
    {
     "name": "stdout",
     "output_type": "stream",
     "text": [
      "                   all         87       1138      0.703      0.747      0.816      0.549\n"
     ]
    },
    {
     "name": "stderr",
     "output_type": "stream",
     "text": [
      "\n"
     ]
    },
    {
     "name": "stdout",
     "output_type": "stream",
     "text": [
      "\n",
      "      Epoch    GPU_mem     box_om     cls_om     dfl_om     box_oo     cls_oo     dfl_oo  Instances       Size\n"
     ]
    },
    {
     "name": "stderr",
     "output_type": "stream",
     "text": [
      "     29/200      6.63G       1.26     0.9696      1.533      1.296      1.135      1.501        275        640: 100%|██████████| 12/12 [00:08<00:00,  1.46it/s]\n",
      "                 Class     Images  Instances      Box(P          R      mAP50  mAP50-95): 100%|██████████| 2/2 [00:01<00:00,  1.62it/s]"
     ]
    },
    {
     "name": "stdout",
     "output_type": "stream",
     "text": [
      "                   all         87       1138      0.782      0.782      0.849      0.568\n"
     ]
    },
    {
     "name": "stderr",
     "output_type": "stream",
     "text": [
      "\n"
     ]
    },
    {
     "name": "stdout",
     "output_type": "stream",
     "text": [
      "\n",
      "      Epoch    GPU_mem     box_om     cls_om     dfl_om     box_oo     cls_oo     dfl_oo  Instances       Size\n"
     ]
    },
    {
     "name": "stderr",
     "output_type": "stream",
     "text": [
      "     30/200      6.77G      1.258     0.9932      1.541      1.292      1.167      1.507        268        640: 100%|██████████| 12/12 [00:06<00:00,  1.88it/s]\n",
      "                 Class     Images  Instances      Box(P          R      mAP50  mAP50-95): 100%|██████████| 2/2 [00:01<00:00,  1.16it/s]"
     ]
    },
    {
     "name": "stdout",
     "output_type": "stream",
     "text": [
      "                   all         87       1138       0.72      0.814      0.839      0.561\n"
     ]
    },
    {
     "name": "stderr",
     "output_type": "stream",
     "text": [
      "\n"
     ]
    },
    {
     "name": "stdout",
     "output_type": "stream",
     "text": [
      "\n",
      "      Epoch    GPU_mem     box_om     cls_om     dfl_om     box_oo     cls_oo     dfl_oo  Instances       Size\n"
     ]
    },
    {
     "name": "stderr",
     "output_type": "stream",
     "text": [
      "     31/200      6.05G      1.265     0.9821      1.549       1.29      1.149      1.518        297        640: 100%|██████████| 12/12 [00:07<00:00,  1.51it/s]\n",
      "                 Class     Images  Instances      Box(P          R      mAP50  mAP50-95): 100%|██████████| 2/2 [00:01<00:00,  1.53it/s]"
     ]
    },
    {
     "name": "stdout",
     "output_type": "stream",
     "text": [
      "                   all         87       1138      0.733      0.788      0.833      0.558\n"
     ]
    },
    {
     "name": "stderr",
     "output_type": "stream",
     "text": [
      "\n"
     ]
    },
    {
     "name": "stdout",
     "output_type": "stream",
     "text": [
      "\n",
      "      Epoch    GPU_mem     box_om     cls_om     dfl_om     box_oo     cls_oo     dfl_oo  Instances       Size\n"
     ]
    },
    {
     "name": "stderr",
     "output_type": "stream",
     "text": [
      "     32/200      6.51G      1.248     0.9583       1.52      1.282      1.106      1.489        302        640: 100%|██████████| 12/12 [00:06<00:00,  1.85it/s]\n",
      "                 Class     Images  Instances      Box(P          R      mAP50  mAP50-95): 100%|██████████| 2/2 [00:01<00:00,  1.09it/s]"
     ]
    },
    {
     "name": "stdout",
     "output_type": "stream",
     "text": [
      "                   all         87       1138      0.743      0.798      0.842      0.553\n"
     ]
    },
    {
     "name": "stderr",
     "output_type": "stream",
     "text": [
      "\n"
     ]
    },
    {
     "name": "stdout",
     "output_type": "stream",
     "text": [
      "\n",
      "      Epoch    GPU_mem     box_om     cls_om     dfl_om     box_oo     cls_oo     dfl_oo  Instances       Size\n"
     ]
    },
    {
     "name": "stderr",
     "output_type": "stream",
     "text": [
      "     33/200      6.26G      1.241     0.9621      1.519      1.272      1.105      1.485        252        640: 100%|██████████| 12/12 [00:07<00:00,  1.62it/s]\n",
      "                 Class     Images  Instances      Box(P          R      mAP50  mAP50-95): 100%|██████████| 2/2 [00:01<00:00,  1.72it/s]"
     ]
    },
    {
     "name": "stdout",
     "output_type": "stream",
     "text": [
      "                   all         87       1138      0.743      0.807      0.832      0.551\n"
     ]
    },
    {
     "name": "stderr",
     "output_type": "stream",
     "text": [
      "\n"
     ]
    },
    {
     "name": "stdout",
     "output_type": "stream",
     "text": [
      "\n",
      "      Epoch    GPU_mem     box_om     cls_om     dfl_om     box_oo     cls_oo     dfl_oo  Instances       Size\n"
     ]
    },
    {
     "name": "stderr",
     "output_type": "stream",
     "text": [
      "     34/200      6.31G      1.275      0.966      1.536      1.296      1.114      1.494        302        640: 100%|██████████| 12/12 [00:06<00:00,  1.77it/s]\n",
      "                 Class     Images  Instances      Box(P          R      mAP50  mAP50-95): 100%|██████████| 2/2 [00:02<00:00,  1.01s/it]"
     ]
    },
    {
     "name": "stdout",
     "output_type": "stream",
     "text": [
      "                   all         87       1138      0.729      0.817      0.841      0.578\n"
     ]
    },
    {
     "name": "stderr",
     "output_type": "stream",
     "text": [
      "\n"
     ]
    },
    {
     "name": "stdout",
     "output_type": "stream",
     "text": [
      "\n",
      "      Epoch    GPU_mem     box_om     cls_om     dfl_om     box_oo     cls_oo     dfl_oo  Instances       Size\n"
     ]
    },
    {
     "name": "stderr",
     "output_type": "stream",
     "text": [
      "     35/200      6.31G      1.232     0.9386      1.512      1.257       1.06      1.473        354        640: 100%|██████████| 12/12 [00:06<00:00,  1.86it/s]\n",
      "                 Class     Images  Instances      Box(P          R      mAP50  mAP50-95): 100%|██████████| 2/2 [00:01<00:00,  1.61it/s]"
     ]
    },
    {
     "name": "stdout",
     "output_type": "stream",
     "text": [
      "                   all         87       1138      0.732      0.813      0.846      0.576\n"
     ]
    },
    {
     "name": "stderr",
     "output_type": "stream",
     "text": [
      "\n"
     ]
    },
    {
     "name": "stdout",
     "output_type": "stream",
     "text": [
      "\n",
      "      Epoch    GPU_mem     box_om     cls_om     dfl_om     box_oo     cls_oo     dfl_oo  Instances       Size\n"
     ]
    },
    {
     "name": "stderr",
     "output_type": "stream",
     "text": [
      "     36/200      6.56G      1.237     0.9528      1.518      1.266      1.075      1.477        213        640: 100%|██████████| 12/12 [00:07<00:00,  1.62it/s]\n",
      "                 Class     Images  Instances      Box(P          R      mAP50  mAP50-95): 100%|██████████| 2/2 [00:02<00:00,  1.09s/it]"
     ]
    },
    {
     "name": "stdout",
     "output_type": "stream",
     "text": [
      "                   all         87       1138      0.685      0.762      0.798      0.518\n"
     ]
    },
    {
     "name": "stderr",
     "output_type": "stream",
     "text": [
      "\n"
     ]
    },
    {
     "name": "stdout",
     "output_type": "stream",
     "text": [
      "\n",
      "      Epoch    GPU_mem     box_om     cls_om     dfl_om     box_oo     cls_oo     dfl_oo  Instances       Size\n"
     ]
    },
    {
     "name": "stderr",
     "output_type": "stream",
     "text": [
      "     37/200      6.93G      1.228     0.9389        1.5       1.26       1.06      1.465        233        640: 100%|██████████| 12/12 [00:06<00:00,  1.97it/s]\n",
      "                 Class     Images  Instances      Box(P          R      mAP50  mAP50-95): 100%|██████████| 2/2 [00:01<00:00,  1.73it/s]"
     ]
    },
    {
     "name": "stdout",
     "output_type": "stream",
     "text": [
      "                   all         87       1138      0.735       0.79      0.821      0.534\n"
     ]
    },
    {
     "name": "stderr",
     "output_type": "stream",
     "text": [
      "\n"
     ]
    },
    {
     "name": "stdout",
     "output_type": "stream",
     "text": [
      "\n",
      "      Epoch    GPU_mem     box_om     cls_om     dfl_om     box_oo     cls_oo     dfl_oo  Instances       Size\n"
     ]
    },
    {
     "name": "stderr",
     "output_type": "stream",
     "text": [
      "     38/200      6.19G      1.237     0.9343      1.511       1.27       1.06      1.472        276        640: 100%|██████████| 12/12 [00:08<00:00,  1.40it/s]\n",
      "                 Class     Images  Instances      Box(P          R      mAP50  mAP50-95): 100%|██████████| 2/2 [00:01<00:00,  1.10it/s]"
     ]
    },
    {
     "name": "stdout",
     "output_type": "stream",
     "text": [
      "                   all         87       1138      0.764       0.81      0.864      0.586\n"
     ]
    },
    {
     "name": "stderr",
     "output_type": "stream",
     "text": [
      "\n"
     ]
    },
    {
     "name": "stdout",
     "output_type": "stream",
     "text": [
      "\n",
      "      Epoch    GPU_mem     box_om     cls_om     dfl_om     box_oo     cls_oo     dfl_oo  Instances       Size\n"
     ]
    },
    {
     "name": "stderr",
     "output_type": "stream",
     "text": [
      "     39/200         6G      1.229     0.9282      1.505      1.249      1.033      1.463        313        640: 100%|██████████| 12/12 [00:06<00:00,  1.95it/s]\n",
      "                 Class     Images  Instances      Box(P          R      mAP50  mAP50-95): 100%|██████████| 2/2 [00:01<00:00,  1.70it/s]"
     ]
    },
    {
     "name": "stdout",
     "output_type": "stream",
     "text": [
      "                   all         87       1138      0.761      0.832      0.863      0.591\n"
     ]
    },
    {
     "name": "stderr",
     "output_type": "stream",
     "text": [
      "\n"
     ]
    },
    {
     "name": "stdout",
     "output_type": "stream",
     "text": [
      "\n",
      "      Epoch    GPU_mem     box_om     cls_om     dfl_om     box_oo     cls_oo     dfl_oo  Instances       Size\n"
     ]
    },
    {
     "name": "stderr",
     "output_type": "stream",
     "text": [
      "     40/200       6.3G      1.231      0.905      1.499       1.25      1.023      1.453        273        640: 100%|██████████| 12/12 [00:09<00:00,  1.28it/s]\n",
      "                 Class     Images  Instances      Box(P          R      mAP50  mAP50-95): 100%|██████████| 2/2 [00:01<00:00,  1.49it/s]"
     ]
    },
    {
     "name": "stdout",
     "output_type": "stream",
     "text": [
      "                   all         87       1138      0.796      0.733      0.822       0.53\n"
     ]
    },
    {
     "name": "stderr",
     "output_type": "stream",
     "text": [
      "\n"
     ]
    },
    {
     "name": "stdout",
     "output_type": "stream",
     "text": [
      "\n",
      "      Epoch    GPU_mem     box_om     cls_om     dfl_om     box_oo     cls_oo     dfl_oo  Instances       Size\n"
     ]
    },
    {
     "name": "stderr",
     "output_type": "stream",
     "text": [
      "     41/200      6.51G       1.22     0.9331      1.494       1.25      1.034      1.457        275        640: 100%|██████████| 12/12 [00:06<00:00,  1.94it/s]\n",
      "                 Class     Images  Instances      Box(P          R      mAP50  mAP50-95): 100%|██████████| 2/2 [00:01<00:00,  1.70it/s]"
     ]
    },
    {
     "name": "stdout",
     "output_type": "stream",
     "text": [
      "                   all         87       1138      0.764      0.838      0.875      0.594\n"
     ]
    },
    {
     "name": "stderr",
     "output_type": "stream",
     "text": [
      "\n"
     ]
    },
    {
     "name": "stdout",
     "output_type": "stream",
     "text": [
      "\n",
      "      Epoch    GPU_mem     box_om     cls_om     dfl_om     box_oo     cls_oo     dfl_oo  Instances       Size\n"
     ]
    },
    {
     "name": "stderr",
     "output_type": "stream",
     "text": [
      "     42/200      6.35G      1.182     0.8993       1.46      1.214      1.021      1.424        306        640: 100%|██████████| 12/12 [00:08<00:00,  1.42it/s]\n",
      "                 Class     Images  Instances      Box(P          R      mAP50  mAP50-95): 100%|██████████| 2/2 [00:01<00:00,  1.55it/s]"
     ]
    },
    {
     "name": "stdout",
     "output_type": "stream",
     "text": [
      "                   all         87       1138      0.831      0.789       0.88      0.607\n"
     ]
    },
    {
     "name": "stderr",
     "output_type": "stream",
     "text": [
      "\n"
     ]
    },
    {
     "name": "stdout",
     "output_type": "stream",
     "text": [
      "\n",
      "      Epoch    GPU_mem     box_om     cls_om     dfl_om     box_oo     cls_oo     dfl_oo  Instances       Size\n"
     ]
    },
    {
     "name": "stderr",
     "output_type": "stream",
     "text": [
      "     43/200      6.31G      1.186     0.8925      1.465      1.221     0.9979      1.432        302        640: 100%|██████████| 12/12 [00:06<00:00,  1.96it/s]\n",
      "                 Class     Images  Instances      Box(P          R      mAP50  mAP50-95): 100%|██████████| 2/2 [00:01<00:00,  1.14it/s]"
     ]
    },
    {
     "name": "stdout",
     "output_type": "stream",
     "text": [
      "                   all         87       1138      0.728      0.787      0.825      0.561\n"
     ]
    },
    {
     "name": "stderr",
     "output_type": "stream",
     "text": [
      "\n"
     ]
    },
    {
     "name": "stdout",
     "output_type": "stream",
     "text": [
      "\n",
      "      Epoch    GPU_mem     box_om     cls_om     dfl_om     box_oo     cls_oo     dfl_oo  Instances       Size\n"
     ]
    },
    {
     "name": "stderr",
     "output_type": "stream",
     "text": [
      "     44/200      6.09G      1.225     0.9388      1.499      1.252      1.054      1.462        197        640: 100%|██████████| 12/12 [00:07<00:00,  1.54it/s]\n",
      "                 Class     Images  Instances      Box(P          R      mAP50  mAP50-95): 100%|██████████| 2/2 [00:01<00:00,  1.58it/s]"
     ]
    },
    {
     "name": "stdout",
     "output_type": "stream",
     "text": [
      "                   all         87       1138      0.835      0.771      0.879      0.597\n"
     ]
    },
    {
     "name": "stderr",
     "output_type": "stream",
     "text": [
      "\n"
     ]
    },
    {
     "name": "stdout",
     "output_type": "stream",
     "text": [
      "\n",
      "      Epoch    GPU_mem     box_om     cls_om     dfl_om     box_oo     cls_oo     dfl_oo  Instances       Size\n"
     ]
    },
    {
     "name": "stderr",
     "output_type": "stream",
     "text": [
      "     45/200      5.96G      1.194     0.8922      1.465      1.227     0.9893      1.436        266        640: 100%|██████████| 12/12 [00:06<00:00,  1.82it/s]\n",
      "                 Class     Images  Instances      Box(P          R      mAP50  mAP50-95): 100%|██████████| 2/2 [00:01<00:00,  1.19it/s]"
     ]
    },
    {
     "name": "stdout",
     "output_type": "stream",
     "text": [
      "                   all         87       1138      0.801      0.792      0.863      0.591\n"
     ]
    },
    {
     "name": "stderr",
     "output_type": "stream",
     "text": [
      "\n"
     ]
    },
    {
     "name": "stdout",
     "output_type": "stream",
     "text": [
      "\n",
      "      Epoch    GPU_mem     box_om     cls_om     dfl_om     box_oo     cls_oo     dfl_oo  Instances       Size\n"
     ]
    },
    {
     "name": "stderr",
     "output_type": "stream",
     "text": [
      "     46/200       6.4G       1.18     0.8968      1.454      1.212      1.008      1.428        288        640: 100%|██████████| 12/12 [00:07<00:00,  1.64it/s]\n",
      "                 Class     Images  Instances      Box(P          R      mAP50  mAP50-95): 100%|██████████| 2/2 [00:01<00:00,  1.60it/s]"
     ]
    },
    {
     "name": "stdout",
     "output_type": "stream",
     "text": [
      "                   all         87       1138      0.852      0.832      0.888      0.617\n"
     ]
    },
    {
     "name": "stderr",
     "output_type": "stream",
     "text": [
      "\n"
     ]
    },
    {
     "name": "stdout",
     "output_type": "stream",
     "text": [
      "\n",
      "      Epoch    GPU_mem     box_om     cls_om     dfl_om     box_oo     cls_oo     dfl_oo  Instances       Size\n"
     ]
    },
    {
     "name": "stderr",
     "output_type": "stream",
     "text": [
      "     47/200      6.04G      1.186     0.8897      1.464      1.227     0.9915      1.434        316        640: 100%|██████████| 12/12 [00:06<00:00,  1.76it/s]\n",
      "                 Class     Images  Instances      Box(P          R      mAP50  mAP50-95): 100%|██████████| 2/2 [00:02<00:00,  1.03s/it]"
     ]
    },
    {
     "name": "stdout",
     "output_type": "stream",
     "text": [
      "                   all         87       1138      0.735      0.776      0.813      0.551\n"
     ]
    },
    {
     "name": "stderr",
     "output_type": "stream",
     "text": [
      "\n"
     ]
    },
    {
     "name": "stdout",
     "output_type": "stream",
     "text": [
      "\n",
      "      Epoch    GPU_mem     box_om     cls_om     dfl_om     box_oo     cls_oo     dfl_oo  Instances       Size\n"
     ]
    },
    {
     "name": "stderr",
     "output_type": "stream",
     "text": [
      "     48/200      6.47G       1.17     0.8903      1.452      1.211      0.988      1.428        234        640: 100%|██████████| 12/12 [00:06<00:00,  1.90it/s]\n",
      "                 Class     Images  Instances      Box(P          R      mAP50  mAP50-95): 100%|██████████| 2/2 [00:01<00:00,  1.80it/s]"
     ]
    },
    {
     "name": "stdout",
     "output_type": "stream",
     "text": [
      "                   all         87       1138      0.539      0.625      0.572      0.341\n"
     ]
    },
    {
     "name": "stderr",
     "output_type": "stream",
     "text": [
      "\n"
     ]
    },
    {
     "name": "stdout",
     "output_type": "stream",
     "text": [
      "\n",
      "      Epoch    GPU_mem     box_om     cls_om     dfl_om     box_oo     cls_oo     dfl_oo  Instances       Size\n"
     ]
    },
    {
     "name": "stderr",
     "output_type": "stream",
     "text": [
      "     49/200      6.53G      1.176     0.9018      1.454      1.205     0.9984      1.424        286        640: 100%|██████████| 12/12 [00:07<00:00,  1.60it/s]\n",
      "                 Class     Images  Instances      Box(P          R      mAP50  mAP50-95): 100%|██████████| 2/2 [00:02<00:00,  1.07s/it]"
     ]
    },
    {
     "name": "stdout",
     "output_type": "stream",
     "text": [
      "                   all         87       1138      0.802      0.831      0.869      0.606\n"
     ]
    },
    {
     "name": "stderr",
     "output_type": "stream",
     "text": [
      "\n"
     ]
    },
    {
     "name": "stdout",
     "output_type": "stream",
     "text": [
      "\n",
      "      Epoch    GPU_mem     box_om     cls_om     dfl_om     box_oo     cls_oo     dfl_oo  Instances       Size\n"
     ]
    },
    {
     "name": "stderr",
     "output_type": "stream",
     "text": [
      "     50/200      6.33G       1.16     0.8709      1.449      1.196     0.9704      1.419        251        640: 100%|██████████| 12/12 [00:06<00:00,  1.96it/s]\n",
      "                 Class     Images  Instances      Box(P          R      mAP50  mAP50-95): 100%|██████████| 2/2 [00:01<00:00,  1.80it/s]"
     ]
    },
    {
     "name": "stdout",
     "output_type": "stream",
     "text": [
      "                   all         87       1138       0.82      0.811      0.877      0.605\n"
     ]
    },
    {
     "name": "stderr",
     "output_type": "stream",
     "text": [
      "\n"
     ]
    },
    {
     "name": "stdout",
     "output_type": "stream",
     "text": [
      "\n",
      "      Epoch    GPU_mem     box_om     cls_om     dfl_om     box_oo     cls_oo     dfl_oo  Instances       Size\n"
     ]
    },
    {
     "name": "stderr",
     "output_type": "stream",
     "text": [
      "     51/200      6.96G      1.162     0.8623      1.443      1.197     0.9642      1.415        372        640: 100%|██████████| 12/12 [00:08<00:00,  1.45it/s]\n",
      "                 Class     Images  Instances      Box(P          R      mAP50  mAP50-95): 100%|██████████| 2/2 [00:01<00:00,  1.20it/s]"
     ]
    },
    {
     "name": "stdout",
     "output_type": "stream",
     "text": [
      "                   all         87       1138      0.798      0.836      0.886      0.616\n"
     ]
    },
    {
     "name": "stderr",
     "output_type": "stream",
     "text": [
      "\n"
     ]
    },
    {
     "name": "stdout",
     "output_type": "stream",
     "text": [
      "\n",
      "      Epoch    GPU_mem     box_om     cls_om     dfl_om     box_oo     cls_oo     dfl_oo  Instances       Size\n"
     ]
    },
    {
     "name": "stderr",
     "output_type": "stream",
     "text": [
      "     52/200      6.39G      1.181     0.8791      1.457      1.217     0.9726      1.434        322        640: 100%|██████████| 12/12 [00:06<00:00,  1.93it/s]\n",
      "                 Class     Images  Instances      Box(P          R      mAP50  mAP50-95): 100%|██████████| 2/2 [00:01<00:00,  1.84it/s]"
     ]
    },
    {
     "name": "stdout",
     "output_type": "stream",
     "text": [
      "                   all         87       1138      0.822      0.835      0.886      0.611\n"
     ]
    },
    {
     "name": "stderr",
     "output_type": "stream",
     "text": [
      "\n"
     ]
    },
    {
     "name": "stdout",
     "output_type": "stream",
     "text": [
      "\n",
      "      Epoch    GPU_mem     box_om     cls_om     dfl_om     box_oo     cls_oo     dfl_oo  Instances       Size\n"
     ]
    },
    {
     "name": "stderr",
     "output_type": "stream",
     "text": [
      "     53/200      6.56G      1.167     0.8742      1.443      1.209      0.967      1.418        259        640: 100%|██████████| 12/12 [00:08<00:00,  1.34it/s]\n",
      "                 Class     Images  Instances      Box(P          R      mAP50  mAP50-95): 100%|██████████| 2/2 [00:01<00:00,  1.40it/s]"
     ]
    },
    {
     "name": "stdout",
     "output_type": "stream",
     "text": [
      "                   all         87       1138       0.83      0.827      0.881      0.611\n"
     ]
    },
    {
     "name": "stderr",
     "output_type": "stream",
     "text": [
      "\n"
     ]
    },
    {
     "name": "stdout",
     "output_type": "stream",
     "text": [
      "\n",
      "      Epoch    GPU_mem     box_om     cls_om     dfl_om     box_oo     cls_oo     dfl_oo  Instances       Size\n"
     ]
    },
    {
     "name": "stderr",
     "output_type": "stream",
     "text": [
      "     54/200      7.05G      1.156     0.8752      1.438      1.191     0.9624      1.414        231        640: 100%|██████████| 12/12 [00:06<00:00,  1.97it/s]\n",
      "                 Class     Images  Instances      Box(P          R      mAP50  mAP50-95): 100%|██████████| 2/2 [00:01<00:00,  1.87it/s]"
     ]
    },
    {
     "name": "stdout",
     "output_type": "stream",
     "text": [
      "                   all         87       1138      0.808      0.851      0.892      0.614\n"
     ]
    },
    {
     "name": "stderr",
     "output_type": "stream",
     "text": [
      "\n"
     ]
    },
    {
     "name": "stdout",
     "output_type": "stream",
     "text": [
      "\n",
      "      Epoch    GPU_mem     box_om     cls_om     dfl_om     box_oo     cls_oo     dfl_oo  Instances       Size\n"
     ]
    },
    {
     "name": "stderr",
     "output_type": "stream",
     "text": [
      "     55/200      6.35G      1.151     0.8743      1.428       1.19     0.9574      1.409        246        640: 100%|██████████| 12/12 [00:08<00:00,  1.40it/s]\n",
      "                 Class     Images  Instances      Box(P          R      mAP50  mAP50-95): 100%|██████████| 2/2 [00:01<00:00,  1.66it/s]"
     ]
    },
    {
     "name": "stdout",
     "output_type": "stream",
     "text": [
      "                   all         87       1138      0.806      0.833       0.88      0.618\n"
     ]
    },
    {
     "name": "stderr",
     "output_type": "stream",
     "text": [
      "\n"
     ]
    },
    {
     "name": "stdout",
     "output_type": "stream",
     "text": [
      "\n",
      "      Epoch    GPU_mem     box_om     cls_om     dfl_om     box_oo     cls_oo     dfl_oo  Instances       Size\n"
     ]
    },
    {
     "name": "stderr",
     "output_type": "stream",
     "text": [
      "     56/200      6.33G      1.161     0.8608      1.445      1.192     0.9388      1.419        220        640: 100%|██████████| 12/12 [00:06<00:00,  1.94it/s]\n",
      "                 Class     Images  Instances      Box(P          R      mAP50  mAP50-95): 100%|██████████| 2/2 [00:01<00:00,  1.50it/s]"
     ]
    },
    {
     "name": "stdout",
     "output_type": "stream",
     "text": [
      "                   all         87       1138      0.757      0.866      0.879      0.599\n"
     ]
    },
    {
     "name": "stderr",
     "output_type": "stream",
     "text": [
      "\n"
     ]
    },
    {
     "name": "stdout",
     "output_type": "stream",
     "text": [
      "\n",
      "      Epoch    GPU_mem     box_om     cls_om     dfl_om     box_oo     cls_oo     dfl_oo  Instances       Size\n"
     ]
    },
    {
     "name": "stderr",
     "output_type": "stream",
     "text": [
      "     57/200      6.72G      1.175     0.8723      1.453      1.209     0.9635      1.424        289        640: 100%|██████████| 12/12 [00:08<00:00,  1.46it/s]\n",
      "                 Class     Images  Instances      Box(P          R      mAP50  mAP50-95): 100%|██████████| 2/2 [00:01<00:00,  1.50it/s]"
     ]
    },
    {
     "name": "stdout",
     "output_type": "stream",
     "text": [
      "                   all         87       1138      0.789      0.868      0.882      0.617\n"
     ]
    },
    {
     "name": "stderr",
     "output_type": "stream",
     "text": [
      "\n"
     ]
    },
    {
     "name": "stdout",
     "output_type": "stream",
     "text": [
      "\n",
      "      Epoch    GPU_mem     box_om     cls_om     dfl_om     box_oo     cls_oo     dfl_oo  Instances       Size\n"
     ]
    },
    {
     "name": "stderr",
     "output_type": "stream",
     "text": [
      "     58/200      6.05G      1.151     0.8683      1.421      1.183     0.9509      1.399        263        640: 100%|██████████| 12/12 [00:06<00:00,  1.95it/s]\n",
      "                 Class     Images  Instances      Box(P          R      mAP50  mAP50-95): 100%|██████████| 2/2 [00:01<00:00,  1.08it/s]"
     ]
    },
    {
     "name": "stdout",
     "output_type": "stream",
     "text": [
      "                   all         87       1138      0.839      0.816      0.889      0.627\n"
     ]
    },
    {
     "name": "stderr",
     "output_type": "stream",
     "text": [
      "\n"
     ]
    },
    {
     "name": "stdout",
     "output_type": "stream",
     "text": [
      "\n",
      "      Epoch    GPU_mem     box_om     cls_om     dfl_om     box_oo     cls_oo     dfl_oo  Instances       Size\n"
     ]
    },
    {
     "name": "stderr",
     "output_type": "stream",
     "text": [
      "     59/200      6.27G      1.127     0.8541      1.415      1.155     0.9359      1.386        216        640: 100%|██████████| 12/12 [00:07<00:00,  1.54it/s]\n",
      "                 Class     Images  Instances      Box(P          R      mAP50  mAP50-95): 100%|██████████| 2/2 [00:01<00:00,  1.74it/s]"
     ]
    },
    {
     "name": "stdout",
     "output_type": "stream",
     "text": [
      "                   all         87       1138      0.814       0.83      0.884      0.613\n"
     ]
    },
    {
     "name": "stderr",
     "output_type": "stream",
     "text": [
      "\n"
     ]
    },
    {
     "name": "stdout",
     "output_type": "stream",
     "text": [
      "\n",
      "      Epoch    GPU_mem     box_om     cls_om     dfl_om     box_oo     cls_oo     dfl_oo  Instances       Size\n"
     ]
    },
    {
     "name": "stderr",
     "output_type": "stream",
     "text": [
      "     60/200      6.97G      1.156     0.8551      1.429      1.198     0.9362       1.41        283        640: 100%|██████████| 12/12 [00:06<00:00,  1.87it/s]\n",
      "                 Class     Images  Instances      Box(P          R      mAP50  mAP50-95): 100%|██████████| 2/2 [00:01<00:00,  1.11it/s]"
     ]
    },
    {
     "name": "stdout",
     "output_type": "stream",
     "text": [
      "                   all         87       1138      0.714      0.745      0.795       0.53\n"
     ]
    },
    {
     "name": "stderr",
     "output_type": "stream",
     "text": [
      "\n"
     ]
    },
    {
     "name": "stdout",
     "output_type": "stream",
     "text": [
      "\n",
      "      Epoch    GPU_mem     box_om     cls_om     dfl_om     box_oo     cls_oo     dfl_oo  Instances       Size\n"
     ]
    },
    {
     "name": "stderr",
     "output_type": "stream",
     "text": [
      "     61/200      6.53G      1.149     0.8224      1.418      1.186     0.9079      1.399        298        640: 100%|██████████| 12/12 [00:07<00:00,  1.71it/s]\n",
      "                 Class     Images  Instances      Box(P          R      mAP50  mAP50-95): 100%|██████████| 2/2 [00:01<00:00,  1.92it/s]"
     ]
    },
    {
     "name": "stdout",
     "output_type": "stream",
     "text": [
      "                   all         87       1138      0.812      0.872      0.895      0.629\n"
     ]
    },
    {
     "name": "stderr",
     "output_type": "stream",
     "text": [
      "\n"
     ]
    },
    {
     "name": "stdout",
     "output_type": "stream",
     "text": [
      "\n",
      "      Epoch    GPU_mem     box_om     cls_om     dfl_om     box_oo     cls_oo     dfl_oo  Instances       Size\n"
     ]
    },
    {
     "name": "stderr",
     "output_type": "stream",
     "text": [
      "     62/200      6.63G      1.145     0.8435      1.422      1.187      0.922      1.408        338        640: 100%|██████████| 12/12 [00:06<00:00,  1.81it/s]\n",
      "                 Class     Images  Instances      Box(P          R      mAP50  mAP50-95): 100%|██████████| 2/2 [00:02<00:00,  1.02s/it]"
     ]
    },
    {
     "name": "stdout",
     "output_type": "stream",
     "text": [
      "                   all         87       1138        0.8      0.846      0.884      0.619\n"
     ]
    },
    {
     "name": "stderr",
     "output_type": "stream",
     "text": [
      "\n"
     ]
    },
    {
     "name": "stdout",
     "output_type": "stream",
     "text": [
      "\n",
      "      Epoch    GPU_mem     box_om     cls_om     dfl_om     box_oo     cls_oo     dfl_oo  Instances       Size\n"
     ]
    },
    {
     "name": "stderr",
     "output_type": "stream",
     "text": [
      "     63/200      6.17G      1.132     0.8244      1.399       1.17     0.8976      1.385        284        640: 100%|██████████| 12/12 [00:06<00:00,  1.89it/s]\n",
      "                 Class     Images  Instances      Box(P          R      mAP50  mAP50-95): 100%|██████████| 2/2 [00:01<00:00,  1.86it/s]"
     ]
    },
    {
     "name": "stdout",
     "output_type": "stream",
     "text": [
      "                   all         87       1138      0.822      0.853      0.887      0.619\n"
     ]
    },
    {
     "name": "stderr",
     "output_type": "stream",
     "text": [
      "\n"
     ]
    },
    {
     "name": "stdout",
     "output_type": "stream",
     "text": [
      "\n",
      "      Epoch    GPU_mem     box_om     cls_om     dfl_om     box_oo     cls_oo     dfl_oo  Instances       Size\n"
     ]
    },
    {
     "name": "stderr",
     "output_type": "stream",
     "text": [
      "     64/200      6.11G      1.145     0.8286       1.42      1.178     0.9104      1.403        289        640: 100%|██████████| 12/12 [00:07<00:00,  1.62it/s]\n",
      "                 Class     Images  Instances      Box(P          R      mAP50  mAP50-95): 100%|██████████| 2/2 [00:02<00:00,  1.03s/it]"
     ]
    },
    {
     "name": "stdout",
     "output_type": "stream",
     "text": [
      "                   all         87       1138      0.809      0.798      0.874      0.616\n"
     ]
    },
    {
     "name": "stderr",
     "output_type": "stream",
     "text": [
      "\n"
     ]
    },
    {
     "name": "stdout",
     "output_type": "stream",
     "text": [
      "\n",
      "      Epoch    GPU_mem     box_om     cls_om     dfl_om     box_oo     cls_oo     dfl_oo  Instances       Size\n"
     ]
    },
    {
     "name": "stderr",
     "output_type": "stream",
     "text": [
      "     65/200      6.31G      1.121     0.8326      1.391      1.158     0.9174      1.377        312        640: 100%|██████████| 12/12 [00:06<00:00,  1.96it/s]\n",
      "                 Class     Images  Instances      Box(P          R      mAP50  mAP50-95): 100%|██████████| 2/2 [00:01<00:00,  1.93it/s]"
     ]
    },
    {
     "name": "stdout",
     "output_type": "stream",
     "text": [
      "                   all         87       1138      0.845      0.855      0.894      0.636\n"
     ]
    },
    {
     "name": "stderr",
     "output_type": "stream",
     "text": [
      "\n"
     ]
    },
    {
     "name": "stdout",
     "output_type": "stream",
     "text": [
      "\n",
      "      Epoch    GPU_mem     box_om     cls_om     dfl_om     box_oo     cls_oo     dfl_oo  Instances       Size\n"
     ]
    },
    {
     "name": "stderr",
     "output_type": "stream",
     "text": [
      "     66/200      6.03G      1.123     0.8307       1.41      1.161     0.9059       1.39        245        640: 100%|██████████| 12/12 [00:07<00:00,  1.52it/s]\n",
      "                 Class     Images  Instances      Box(P          R      mAP50  mAP50-95): 100%|██████████| 2/2 [00:02<00:00,  1.03s/it]"
     ]
    },
    {
     "name": "stdout",
     "output_type": "stream",
     "text": [
      "                   all         87       1138      0.826      0.835       0.89      0.633\n"
     ]
    },
    {
     "name": "stderr",
     "output_type": "stream",
     "text": [
      "\n"
     ]
    },
    {
     "name": "stdout",
     "output_type": "stream",
     "text": [
      "\n",
      "      Epoch    GPU_mem     box_om     cls_om     dfl_om     box_oo     cls_oo     dfl_oo  Instances       Size\n"
     ]
    },
    {
     "name": "stderr",
     "output_type": "stream",
     "text": [
      "     67/200      6.92G      1.109     0.8254      1.387      1.149        0.9      1.372        294        640: 100%|██████████| 12/12 [00:06<00:00,  1.90it/s]\n",
      "                 Class     Images  Instances      Box(P          R      mAP50  mAP50-95): 100%|██████████| 2/2 [00:01<00:00,  1.84it/s]"
     ]
    },
    {
     "name": "stdout",
     "output_type": "stream",
     "text": [
      "                   all         87       1138      0.811      0.857      0.895      0.634\n"
     ]
    },
    {
     "name": "stderr",
     "output_type": "stream",
     "text": [
      "\n"
     ]
    },
    {
     "name": "stdout",
     "output_type": "stream",
     "text": [
      "\n",
      "      Epoch    GPU_mem     box_om     cls_om     dfl_om     box_oo     cls_oo     dfl_oo  Instances       Size\n"
     ]
    },
    {
     "name": "stderr",
     "output_type": "stream",
     "text": [
      "     68/200      6.09G      1.114     0.8206      1.394      1.157     0.8893      1.379        281        640: 100%|██████████| 12/12 [00:08<00:00,  1.37it/s]\n",
      "                 Class     Images  Instances      Box(P          R      mAP50  mAP50-95): 100%|██████████| 2/2 [00:01<00:00,  1.37it/s]"
     ]
    },
    {
     "name": "stdout",
     "output_type": "stream",
     "text": [
      "                   all         87       1138      0.826      0.827      0.885       0.63\n"
     ]
    },
    {
     "name": "stderr",
     "output_type": "stream",
     "text": [
      "\n"
     ]
    },
    {
     "name": "stdout",
     "output_type": "stream",
     "text": [
      "\n",
      "      Epoch    GPU_mem     box_om     cls_om     dfl_om     box_oo     cls_oo     dfl_oo  Instances       Size\n"
     ]
    },
    {
     "name": "stderr",
     "output_type": "stream",
     "text": [
      "     69/200      6.68G      1.116     0.8105      1.391       1.16     0.8798      1.378        290        640: 100%|██████████| 12/12 [00:06<00:00,  1.95it/s]\n",
      "                 Class     Images  Instances      Box(P          R      mAP50  mAP50-95): 100%|██████████| 2/2 [00:00<00:00,  2.11it/s]"
     ]
    },
    {
     "name": "stdout",
     "output_type": "stream",
     "text": [
      "                   all         87       1138      0.785      0.856      0.891       0.63\n"
     ]
    },
    {
     "name": "stderr",
     "output_type": "stream",
     "text": [
      "\n"
     ]
    },
    {
     "name": "stdout",
     "output_type": "stream",
     "text": [
      "\n",
      "      Epoch    GPU_mem     box_om     cls_om     dfl_om     box_oo     cls_oo     dfl_oo  Instances       Size\n"
     ]
    },
    {
     "name": "stderr",
     "output_type": "stream",
     "text": [
      "     70/200      6.37G      1.128      0.852      1.413      1.169     0.9135      1.392        283        640: 100%|██████████| 12/12 [00:08<00:00,  1.45it/s]\n",
      "                 Class     Images  Instances      Box(P          R      mAP50  mAP50-95): 100%|██████████| 2/2 [00:01<00:00,  1.66it/s]"
     ]
    },
    {
     "name": "stdout",
     "output_type": "stream",
     "text": [
      "                   all         87       1138      0.874      0.822      0.904      0.638\n"
     ]
    },
    {
     "name": "stderr",
     "output_type": "stream",
     "text": [
      "\n"
     ]
    },
    {
     "name": "stdout",
     "output_type": "stream",
     "text": [
      "\n",
      "      Epoch    GPU_mem     box_om     cls_om     dfl_om     box_oo     cls_oo     dfl_oo  Instances       Size\n"
     ]
    },
    {
     "name": "stderr",
     "output_type": "stream",
     "text": [
      "     71/200       6.1G      1.098     0.8225      1.388      1.133     0.8769      1.366        315        640: 100%|██████████| 12/12 [00:06<00:00,  1.92it/s]\n",
      "                 Class     Images  Instances      Box(P          R      mAP50  mAP50-95): 100%|██████████| 2/2 [00:01<00:00,  1.79it/s]"
     ]
    },
    {
     "name": "stdout",
     "output_type": "stream",
     "text": [
      "                   all         87       1138      0.815       0.83       0.89      0.626\n"
     ]
    },
    {
     "name": "stderr",
     "output_type": "stream",
     "text": [
      "\n"
     ]
    },
    {
     "name": "stdout",
     "output_type": "stream",
     "text": [
      "\n",
      "      Epoch    GPU_mem     box_om     cls_om     dfl_om     box_oo     cls_oo     dfl_oo  Instances       Size\n"
     ]
    },
    {
     "name": "stderr",
     "output_type": "stream",
     "text": [
      "     72/200      6.83G      1.119     0.8053      1.398      1.157     0.8666      1.376        294        640: 100%|██████████| 12/12 [00:08<00:00,  1.38it/s]\n",
      "                 Class     Images  Instances      Box(P          R      mAP50  mAP50-95): 100%|██████████| 2/2 [00:01<00:00,  1.72it/s]"
     ]
    },
    {
     "name": "stdout",
     "output_type": "stream",
     "text": [
      "                   all         87       1138      0.801      0.867      0.895      0.621\n"
     ]
    },
    {
     "name": "stderr",
     "output_type": "stream",
     "text": [
      "\n"
     ]
    },
    {
     "name": "stdout",
     "output_type": "stream",
     "text": [
      "\n",
      "      Epoch    GPU_mem     box_om     cls_om     dfl_om     box_oo     cls_oo     dfl_oo  Instances       Size\n"
     ]
    },
    {
     "name": "stderr",
     "output_type": "stream",
     "text": [
      "     73/200      6.12G       1.11      0.818      1.391      1.156     0.8762      1.374        312        640: 100%|██████████| 12/12 [00:06<00:00,  1.90it/s]\n",
      "                 Class     Images  Instances      Box(P          R      mAP50  mAP50-95): 100%|██████████| 2/2 [00:01<00:00,  1.35it/s]"
     ]
    },
    {
     "name": "stdout",
     "output_type": "stream",
     "text": [
      "                   all         87       1138      0.803      0.826       0.88      0.606\n"
     ]
    },
    {
     "name": "stderr",
     "output_type": "stream",
     "text": [
      "\n"
     ]
    },
    {
     "name": "stdout",
     "output_type": "stream",
     "text": [
      "\n",
      "      Epoch    GPU_mem     box_om     cls_om     dfl_om     box_oo     cls_oo     dfl_oo  Instances       Size\n"
     ]
    },
    {
     "name": "stderr",
     "output_type": "stream",
     "text": [
      "     74/200      6.34G      1.119     0.8151      1.398      1.158      0.876      1.381        287        640: 100%|██████████| 12/12 [00:08<00:00,  1.45it/s]\n",
      "                 Class     Images  Instances      Box(P          R      mAP50  mAP50-95): 100%|██████████| 2/2 [00:01<00:00,  1.50it/s]"
     ]
    },
    {
     "name": "stdout",
     "output_type": "stream",
     "text": [
      "                   all         87       1138       0.86      0.826      0.899      0.643\n"
     ]
    },
    {
     "name": "stderr",
     "output_type": "stream",
     "text": [
      "\n"
     ]
    },
    {
     "name": "stdout",
     "output_type": "stream",
     "text": [
      "\n",
      "      Epoch    GPU_mem     box_om     cls_om     dfl_om     box_oo     cls_oo     dfl_oo  Instances       Size\n"
     ]
    },
    {
     "name": "stderr",
     "output_type": "stream",
     "text": [
      "     75/200      6.36G      1.118     0.8145      1.393      1.158     0.8723      1.373        287        640: 100%|██████████| 12/12 [00:06<00:00,  1.80it/s]\n",
      "                 Class     Images  Instances      Box(P          R      mAP50  mAP50-95): 100%|██████████| 2/2 [00:01<00:00,  1.12it/s]"
     ]
    },
    {
     "name": "stdout",
     "output_type": "stream",
     "text": [
      "                   all         87       1138      0.836      0.858      0.907      0.639\n"
     ]
    },
    {
     "name": "stderr",
     "output_type": "stream",
     "text": [
      "\n"
     ]
    },
    {
     "name": "stdout",
     "output_type": "stream",
     "text": [
      "\n",
      "      Epoch    GPU_mem     box_om     cls_om     dfl_om     box_oo     cls_oo     dfl_oo  Instances       Size\n"
     ]
    },
    {
     "name": "stderr",
     "output_type": "stream",
     "text": [
      "     76/200      6.17G      1.102     0.8074      1.379      1.143     0.8626      1.366        273        640: 100%|██████████| 12/12 [00:06<00:00,  1.79it/s]\n",
      "                 Class     Images  Instances      Box(P          R      mAP50  mAP50-95): 100%|██████████| 2/2 [00:01<00:00,  1.76it/s]"
     ]
    },
    {
     "name": "stdout",
     "output_type": "stream",
     "text": [
      "                   all         87       1138      0.842      0.849      0.903      0.648\n"
     ]
    },
    {
     "name": "stderr",
     "output_type": "stream",
     "text": [
      "\n"
     ]
    },
    {
     "name": "stdout",
     "output_type": "stream",
     "text": [
      "\n",
      "      Epoch    GPU_mem     box_om     cls_om     dfl_om     box_oo     cls_oo     dfl_oo  Instances       Size\n"
     ]
    },
    {
     "name": "stderr",
     "output_type": "stream",
     "text": [
      "     77/200      6.67G      1.088     0.7879      1.383      1.127      0.843      1.366        288        640: 100%|██████████| 12/12 [00:06<00:00,  1.81it/s]\n",
      "                 Class     Images  Instances      Box(P          R      mAP50  mAP50-95): 100%|██████████| 2/2 [00:02<00:00,  1.02s/it]"
     ]
    },
    {
     "name": "stdout",
     "output_type": "stream",
     "text": [
      "                   all         87       1138      0.806      0.868      0.902      0.646\n"
     ]
    },
    {
     "name": "stderr",
     "output_type": "stream",
     "text": [
      "\n"
     ]
    },
    {
     "name": "stdout",
     "output_type": "stream",
     "text": [
      "\n",
      "      Epoch    GPU_mem     box_om     cls_om     dfl_om     box_oo     cls_oo     dfl_oo  Instances       Size\n"
     ]
    },
    {
     "name": "stderr",
     "output_type": "stream",
     "text": [
      "     78/200      6.12G      1.097     0.7915      1.369      1.134     0.8483      1.354        313        640: 100%|██████████| 12/12 [00:06<00:00,  1.85it/s]\n",
      "                 Class     Images  Instances      Box(P          R      mAP50  mAP50-95): 100%|██████████| 2/2 [00:01<00:00,  1.84it/s]"
     ]
    },
    {
     "name": "stdout",
     "output_type": "stream",
     "text": [
      "                   all         87       1138      0.824       0.87        0.9      0.641\n"
     ]
    },
    {
     "name": "stderr",
     "output_type": "stream",
     "text": [
      "\n"
     ]
    },
    {
     "name": "stdout",
     "output_type": "stream",
     "text": [
      "\n",
      "      Epoch    GPU_mem     box_om     cls_om     dfl_om     box_oo     cls_oo     dfl_oo  Instances       Size\n"
     ]
    },
    {
     "name": "stderr",
     "output_type": "stream",
     "text": [
      "     79/200      6.34G      1.104     0.8093      1.384      1.138     0.8679      1.368        275        640: 100%|██████████| 12/12 [00:07<00:00,  1.61it/s]\n",
      "                 Class     Images  Instances      Box(P          R      mAP50  mAP50-95): 100%|██████████| 2/2 [00:02<00:00,  1.08s/it]"
     ]
    },
    {
     "name": "stdout",
     "output_type": "stream",
     "text": [
      "                   all         87       1138      0.844       0.85      0.904      0.651\n"
     ]
    },
    {
     "name": "stderr",
     "output_type": "stream",
     "text": [
      "\n"
     ]
    },
    {
     "name": "stdout",
     "output_type": "stream",
     "text": [
      "\n",
      "      Epoch    GPU_mem     box_om     cls_om     dfl_om     box_oo     cls_oo     dfl_oo  Instances       Size\n"
     ]
    },
    {
     "name": "stderr",
     "output_type": "stream",
     "text": [
      "     80/200      6.66G      1.107      0.817      1.395      1.142     0.8762      1.374        257        640: 100%|██████████| 12/12 [00:06<00:00,  1.94it/s]\n",
      "                 Class     Images  Instances      Box(P          R      mAP50  mAP50-95): 100%|██████████| 2/2 [00:01<00:00,  1.66it/s]"
     ]
    },
    {
     "name": "stdout",
     "output_type": "stream",
     "text": [
      "                   all         87       1138      0.843      0.873      0.905      0.651\n"
     ]
    },
    {
     "name": "stderr",
     "output_type": "stream",
     "text": [
      "\n"
     ]
    },
    {
     "name": "stdout",
     "output_type": "stream",
     "text": [
      "\n",
      "      Epoch    GPU_mem     box_om     cls_om     dfl_om     box_oo     cls_oo     dfl_oo  Instances       Size\n"
     ]
    },
    {
     "name": "stderr",
     "output_type": "stream",
     "text": [
      "     81/200      6.69G      1.096     0.7921      1.368      1.132     0.8549      1.354        356        640: 100%|██████████| 12/12 [00:08<00:00,  1.38it/s]\n",
      "                 Class     Images  Instances      Box(P          R      mAP50  mAP50-95): 100%|██████████| 2/2 [00:01<00:00,  1.37it/s]"
     ]
    },
    {
     "name": "stdout",
     "output_type": "stream",
     "text": [
      "                   all         87       1138      0.817      0.869      0.901      0.641\n"
     ]
    },
    {
     "name": "stderr",
     "output_type": "stream",
     "text": [
      "\n"
     ]
    },
    {
     "name": "stdout",
     "output_type": "stream",
     "text": [
      "\n",
      "      Epoch    GPU_mem     box_om     cls_om     dfl_om     box_oo     cls_oo     dfl_oo  Instances       Size\n"
     ]
    },
    {
     "name": "stderr",
     "output_type": "stream",
     "text": [
      "     82/200      6.63G      1.109     0.7989      1.386      1.151     0.8512      1.374        273        640: 100%|██████████| 12/12 [00:06<00:00,  1.93it/s]\n",
      "                 Class     Images  Instances      Box(P          R      mAP50  mAP50-95): 100%|██████████| 2/2 [00:01<00:00,  1.95it/s]"
     ]
    },
    {
     "name": "stdout",
     "output_type": "stream",
     "text": [
      "                   all         87       1138      0.826      0.854      0.898      0.643\n"
     ]
    },
    {
     "name": "stderr",
     "output_type": "stream",
     "text": [
      "\n"
     ]
    },
    {
     "name": "stdout",
     "output_type": "stream",
     "text": [
      "\n",
      "      Epoch    GPU_mem     box_om     cls_om     dfl_om     box_oo     cls_oo     dfl_oo  Instances       Size\n"
     ]
    },
    {
     "name": "stderr",
     "output_type": "stream",
     "text": [
      "     83/200      6.04G      1.119     0.8052      1.392      1.163     0.8524      1.381        183        640: 100%|██████████| 12/12 [00:09<00:00,  1.33it/s]\n",
      "                 Class     Images  Instances      Box(P          R      mAP50  mAP50-95): 100%|██████████| 2/2 [00:01<00:00,  1.81it/s]"
     ]
    },
    {
     "name": "stdout",
     "output_type": "stream",
     "text": [
      "                   all         87       1138      0.847      0.839      0.906      0.642\n"
     ]
    },
    {
     "name": "stderr",
     "output_type": "stream",
     "text": [
      "\n"
     ]
    },
    {
     "name": "stdout",
     "output_type": "stream",
     "text": [
      "\n",
      "      Epoch    GPU_mem     box_om     cls_om     dfl_om     box_oo     cls_oo     dfl_oo  Instances       Size\n"
     ]
    },
    {
     "name": "stderr",
     "output_type": "stream",
     "text": [
      "     84/200      6.49G      1.083     0.7855      1.371      1.121     0.8505      1.357        267        640: 100%|██████████| 12/12 [00:06<00:00,  1.94it/s]\n",
      "                 Class     Images  Instances      Box(P          R      mAP50  mAP50-95): 100%|██████████| 2/2 [00:01<00:00,  1.32it/s]"
     ]
    },
    {
     "name": "stdout",
     "output_type": "stream",
     "text": [
      "                   all         87       1138      0.861      0.873      0.909      0.658\n"
     ]
    },
    {
     "name": "stderr",
     "output_type": "stream",
     "text": [
      "\n"
     ]
    },
    {
     "name": "stdout",
     "output_type": "stream",
     "text": [
      "\n",
      "      Epoch    GPU_mem     box_om     cls_om     dfl_om     box_oo     cls_oo     dfl_oo  Instances       Size\n"
     ]
    },
    {
     "name": "stderr",
     "output_type": "stream",
     "text": [
      "     85/200      7.12G      1.096     0.7849      1.383      1.136       0.85      1.365        236        640: 100%|██████████| 12/12 [00:08<00:00,  1.46it/s]\n",
      "                 Class     Images  Instances      Box(P          R      mAP50  mAP50-95): 100%|██████████| 2/2 [00:01<00:00,  1.60it/s]"
     ]
    },
    {
     "name": "stdout",
     "output_type": "stream",
     "text": [
      "                   all         87       1138      0.869      0.829      0.908      0.659\n"
     ]
    },
    {
     "name": "stderr",
     "output_type": "stream",
     "text": [
      "\n"
     ]
    },
    {
     "name": "stdout",
     "output_type": "stream",
     "text": [
      "\n",
      "      Epoch    GPU_mem     box_om     cls_om     dfl_om     box_oo     cls_oo     dfl_oo  Instances       Size\n"
     ]
    },
    {
     "name": "stderr",
     "output_type": "stream",
     "text": [
      "     86/200      6.41G      1.074     0.7762      1.356      1.116     0.8294      1.346        300        640: 100%|██████████| 12/12 [00:06<00:00,  1.85it/s]\n",
      "                 Class     Images  Instances      Box(P          R      mAP50  mAP50-95): 100%|██████████| 2/2 [00:01<00:00,  1.09it/s]"
     ]
    },
    {
     "name": "stdout",
     "output_type": "stream",
     "text": [
      "                   all         87       1138      0.872      0.822      0.908      0.661\n"
     ]
    },
    {
     "name": "stderr",
     "output_type": "stream",
     "text": [
      "\n"
     ]
    },
    {
     "name": "stdout",
     "output_type": "stream",
     "text": [
      "\n",
      "      Epoch    GPU_mem     box_om     cls_om     dfl_om     box_oo     cls_oo     dfl_oo  Instances       Size\n"
     ]
    },
    {
     "name": "stderr",
     "output_type": "stream",
     "text": [
      "     87/200      6.72G      1.101     0.7838      1.379      1.134     0.8334      1.361        304        640: 100%|██████████| 12/12 [00:07<00:00,  1.67it/s]\n",
      "                 Class     Images  Instances      Box(P          R      mAP50  mAP50-95): 100%|██████████| 2/2 [00:01<00:00,  1.53it/s]"
     ]
    },
    {
     "name": "stdout",
     "output_type": "stream",
     "text": [
      "                   all         87       1138      0.816      0.847      0.901      0.639\n"
     ]
    },
    {
     "name": "stderr",
     "output_type": "stream",
     "text": [
      "\n"
     ]
    },
    {
     "name": "stdout",
     "output_type": "stream",
     "text": [
      "\n",
      "      Epoch    GPU_mem     box_om     cls_om     dfl_om     box_oo     cls_oo     dfl_oo  Instances       Size\n"
     ]
    },
    {
     "name": "stderr",
     "output_type": "stream",
     "text": [
      "     88/200      6.24G      1.104     0.8079       1.39      1.144     0.8622      1.375        266        640: 100%|██████████| 12/12 [00:06<00:00,  1.75it/s]\n",
      "                 Class     Images  Instances      Box(P          R      mAP50  mAP50-95): 100%|██████████| 2/2 [00:02<00:00,  1.04s/it]"
     ]
    },
    {
     "name": "stdout",
     "output_type": "stream",
     "text": [
      "                   all         87       1138      0.809      0.866      0.901      0.653\n"
     ]
    },
    {
     "name": "stderr",
     "output_type": "stream",
     "text": [
      "\n"
     ]
    },
    {
     "name": "stdout",
     "output_type": "stream",
     "text": [
      "\n",
      "      Epoch    GPU_mem     box_om     cls_om     dfl_om     box_oo     cls_oo     dfl_oo  Instances       Size\n"
     ]
    },
    {
     "name": "stderr",
     "output_type": "stream",
     "text": [
      "     89/200      6.42G       1.08     0.7861      1.365      1.122     0.8392      1.357        304        640: 100%|██████████| 12/12 [00:06<00:00,  1.82it/s]\n",
      "                 Class     Images  Instances      Box(P          R      mAP50  mAP50-95): 100%|██████████| 2/2 [00:01<00:00,  1.71it/s]"
     ]
    },
    {
     "name": "stdout",
     "output_type": "stream",
     "text": [
      "                   all         87       1138      0.771      0.821      0.878      0.596\n"
     ]
    },
    {
     "name": "stderr",
     "output_type": "stream",
     "text": [
      "\n"
     ]
    },
    {
     "name": "stdout",
     "output_type": "stream",
     "text": [
      "\n",
      "      Epoch    GPU_mem     box_om     cls_om     dfl_om     box_oo     cls_oo     dfl_oo  Instances       Size\n"
     ]
    },
    {
     "name": "stderr",
     "output_type": "stream",
     "text": [
      "     90/200      6.85G      1.097     0.7846      1.371      1.138       0.84      1.362        261        640: 100%|██████████| 12/12 [00:08<00:00,  1.47it/s]\n",
      "                 Class     Images  Instances      Box(P          R      mAP50  mAP50-95): 100%|██████████| 2/2 [00:02<00:00,  1.08s/it]"
     ]
    },
    {
     "name": "stdout",
     "output_type": "stream",
     "text": [
      "                   all         87       1138      0.849      0.861       0.92      0.666\n"
     ]
    },
    {
     "name": "stderr",
     "output_type": "stream",
     "text": [
      "\n"
     ]
    },
    {
     "name": "stdout",
     "output_type": "stream",
     "text": [
      "\n",
      "      Epoch    GPU_mem     box_om     cls_om     dfl_om     box_oo     cls_oo     dfl_oo  Instances       Size\n"
     ]
    },
    {
     "name": "stderr",
     "output_type": "stream",
     "text": [
      "     91/200       6.9G      1.095     0.7852       1.37      1.138     0.8331      1.364        263        640: 100%|██████████| 12/12 [00:06<00:00,  1.91it/s]\n",
      "                 Class     Images  Instances      Box(P          R      mAP50  mAP50-95): 100%|██████████| 2/2 [00:00<00:00,  2.03it/s]"
     ]
    },
    {
     "name": "stdout",
     "output_type": "stream",
     "text": [
      "                   all         87       1138      0.884      0.829      0.915      0.644\n"
     ]
    },
    {
     "name": "stderr",
     "output_type": "stream",
     "text": [
      "\n"
     ]
    },
    {
     "name": "stdout",
     "output_type": "stream",
     "text": [
      "\n",
      "      Epoch    GPU_mem     box_om     cls_om     dfl_om     box_oo     cls_oo     dfl_oo  Instances       Size\n"
     ]
    },
    {
     "name": "stderr",
     "output_type": "stream",
     "text": [
      "     92/200      6.08G      1.072     0.7607       1.35       1.12     0.8107      1.341        331        640: 100%|██████████| 12/12 [00:08<00:00,  1.37it/s]\n",
      "                 Class     Images  Instances      Box(P          R      mAP50  mAP50-95): 100%|██████████| 2/2 [00:01<00:00,  1.23it/s]"
     ]
    },
    {
     "name": "stdout",
     "output_type": "stream",
     "text": [
      "                   all         87       1138      0.882      0.839       0.92      0.657\n"
     ]
    },
    {
     "name": "stderr",
     "output_type": "stream",
     "text": [
      "\n"
     ]
    },
    {
     "name": "stdout",
     "output_type": "stream",
     "text": [
      "\n",
      "      Epoch    GPU_mem     box_om     cls_om     dfl_om     box_oo     cls_oo     dfl_oo  Instances       Size\n"
     ]
    },
    {
     "name": "stderr",
     "output_type": "stream",
     "text": [
      "     93/200       6.3G      1.068       0.77      1.346      1.108     0.8214       1.34        280        640: 100%|██████████| 12/12 [00:06<00:00,  1.93it/s]\n",
      "                 Class     Images  Instances      Box(P          R      mAP50  mAP50-95): 100%|██████████| 2/2 [00:01<00:00,  1.89it/s]"
     ]
    },
    {
     "name": "stdout",
     "output_type": "stream",
     "text": [
      "                   all         87       1138      0.842      0.825      0.907      0.651\n"
     ]
    },
    {
     "name": "stderr",
     "output_type": "stream",
     "text": [
      "\n"
     ]
    },
    {
     "name": "stdout",
     "output_type": "stream",
     "text": [
      "\n",
      "      Epoch    GPU_mem     box_om     cls_om     dfl_om     box_oo     cls_oo     dfl_oo  Instances       Size\n"
     ]
    },
    {
     "name": "stderr",
     "output_type": "stream",
     "text": [
      "     94/200      7.09G      1.076     0.7688      1.372      1.117     0.8147      1.365        322        640: 100%|██████████| 12/12 [00:08<00:00,  1.39it/s]\n",
      "                 Class     Images  Instances      Box(P          R      mAP50  mAP50-95): 100%|██████████| 2/2 [00:01<00:00,  1.54it/s]"
     ]
    },
    {
     "name": "stdout",
     "output_type": "stream",
     "text": [
      "                   all         87       1138      0.858      0.862       0.91      0.645\n"
     ]
    },
    {
     "name": "stderr",
     "output_type": "stream",
     "text": [
      "\n"
     ]
    },
    {
     "name": "stdout",
     "output_type": "stream",
     "text": [
      "\n",
      "      Epoch    GPU_mem     box_om     cls_om     dfl_om     box_oo     cls_oo     dfl_oo  Instances       Size\n"
     ]
    },
    {
     "name": "stderr",
     "output_type": "stream",
     "text": [
      "     95/200      5.97G      1.079     0.7676      1.368      1.113     0.8147      1.353        266        640: 100%|██████████| 12/12 [00:06<00:00,  1.93it/s]\n",
      "                 Class     Images  Instances      Box(P          R      mAP50  mAP50-95): 100%|██████████| 2/2 [00:01<00:00,  1.95it/s]"
     ]
    },
    {
     "name": "stdout",
     "output_type": "stream",
     "text": [
      "                   all         87       1138      0.848      0.864      0.916      0.649\n"
     ]
    },
    {
     "name": "stderr",
     "output_type": "stream",
     "text": [
      "\n"
     ]
    },
    {
     "name": "stdout",
     "output_type": "stream",
     "text": [
      "\n",
      "      Epoch    GPU_mem     box_om     cls_om     dfl_om     box_oo     cls_oo     dfl_oo  Instances       Size\n"
     ]
    },
    {
     "name": "stderr",
     "output_type": "stream",
     "text": [
      "     96/200         6G       1.08     0.7721      1.356      1.116     0.8224      1.346        281        640: 100%|██████████| 12/12 [00:08<00:00,  1.44it/s]\n",
      "                 Class     Images  Instances      Box(P          R      mAP50  mAP50-95): 100%|██████████| 2/2 [00:01<00:00,  1.48it/s]"
     ]
    },
    {
     "name": "stdout",
     "output_type": "stream",
     "text": [
      "                   all         87       1138      0.834      0.868      0.912      0.655\n"
     ]
    },
    {
     "name": "stderr",
     "output_type": "stream",
     "text": [
      "\n"
     ]
    },
    {
     "name": "stdout",
     "output_type": "stream",
     "text": [
      "\n",
      "      Epoch    GPU_mem     box_om     cls_om     dfl_om     box_oo     cls_oo     dfl_oo  Instances       Size\n"
     ]
    },
    {
     "name": "stderr",
     "output_type": "stream",
     "text": [
      "     97/200      7.31G      1.062     0.7793      1.348      1.099     0.8248      1.339        322        640: 100%|██████████| 12/12 [00:06<00:00,  1.87it/s]\n",
      "                 Class     Images  Instances      Box(P          R      mAP50  mAP50-95): 100%|██████████| 2/2 [00:01<00:00,  1.18it/s]"
     ]
    },
    {
     "name": "stdout",
     "output_type": "stream",
     "text": [
      "                   all         87       1138      0.877      0.837      0.919      0.665\n"
     ]
    },
    {
     "name": "stderr",
     "output_type": "stream",
     "text": [
      "\n"
     ]
    },
    {
     "name": "stdout",
     "output_type": "stream",
     "text": [
      "\n",
      "      Epoch    GPU_mem     box_om     cls_om     dfl_om     box_oo     cls_oo     dfl_oo  Instances       Size\n"
     ]
    },
    {
     "name": "stderr",
     "output_type": "stream",
     "text": [
      "     98/200       6.1G      1.055     0.7629      1.342      1.094     0.8127      1.331        271        640: 100%|██████████| 12/12 [00:07<00:00,  1.59it/s]\n",
      "                 Class     Images  Instances      Box(P          R      mAP50  mAP50-95): 100%|██████████| 2/2 [00:01<00:00,  1.49it/s]"
     ]
    },
    {
     "name": "stdout",
     "output_type": "stream",
     "text": [
      "                   all         87       1138      0.867      0.856      0.921      0.659\n"
     ]
    },
    {
     "name": "stderr",
     "output_type": "stream",
     "text": [
      "\n"
     ]
    },
    {
     "name": "stdout",
     "output_type": "stream",
     "text": [
      "\n",
      "      Epoch    GPU_mem     box_om     cls_om     dfl_om     box_oo     cls_oo     dfl_oo  Instances       Size\n"
     ]
    },
    {
     "name": "stderr",
     "output_type": "stream",
     "text": [
      "     99/200      6.22G       1.07      0.765      1.352       1.11     0.8039      1.345        262        640: 100%|██████████| 12/12 [00:06<00:00,  1.86it/s]\n",
      "                 Class     Images  Instances      Box(P          R      mAP50  mAP50-95): 100%|██████████| 2/2 [00:01<00:00,  1.06it/s]"
     ]
    },
    {
     "name": "stdout",
     "output_type": "stream",
     "text": [
      "                   all         87       1138      0.848      0.878      0.923      0.666\n"
     ]
    },
    {
     "name": "stderr",
     "output_type": "stream",
     "text": [
      "\n"
     ]
    },
    {
     "name": "stdout",
     "output_type": "stream",
     "text": [
      "\n",
      "      Epoch    GPU_mem     box_om     cls_om     dfl_om     box_oo     cls_oo     dfl_oo  Instances       Size\n"
     ]
    },
    {
     "name": "stderr",
     "output_type": "stream",
     "text": [
      "    100/200      6.34G      1.072      0.762      1.356      1.114     0.8121       1.35        280        640: 100%|██████████| 12/12 [00:06<00:00,  1.83it/s]\n",
      "                 Class     Images  Instances      Box(P          R      mAP50  mAP50-95): 100%|██████████| 2/2 [00:01<00:00,  1.69it/s]"
     ]
    },
    {
     "name": "stdout",
     "output_type": "stream",
     "text": [
      "                   all         87       1138      0.861      0.872      0.921      0.667\n"
     ]
    },
    {
     "name": "stderr",
     "output_type": "stream",
     "text": [
      "\n"
     ]
    },
    {
     "name": "stdout",
     "output_type": "stream",
     "text": [
      "\n",
      "      Epoch    GPU_mem     box_om     cls_om     dfl_om     box_oo     cls_oo     dfl_oo  Instances       Size\n"
     ]
    },
    {
     "name": "stderr",
     "output_type": "stream",
     "text": [
      "    101/200      6.12G      1.057     0.7493      1.343      1.095     0.7859      1.332        314        640: 100%|██████████| 12/12 [00:07<00:00,  1.67it/s]\n",
      "                 Class     Images  Instances      Box(P          R      mAP50  mAP50-95): 100%|██████████| 2/2 [00:02<00:00,  1.05s/it]"
     ]
    },
    {
     "name": "stdout",
     "output_type": "stream",
     "text": [
      "                   all         87       1138      0.854      0.888      0.921      0.672\n"
     ]
    },
    {
     "name": "stderr",
     "output_type": "stream",
     "text": [
      "\n"
     ]
    },
    {
     "name": "stdout",
     "output_type": "stream",
     "text": [
      "\n",
      "      Epoch    GPU_mem     box_om     cls_om     dfl_om     box_oo     cls_oo     dfl_oo  Instances       Size\n"
     ]
    },
    {
     "name": "stderr",
     "output_type": "stream",
     "text": [
      "    102/200      5.99G      1.064     0.7593      1.351      1.103     0.8011      1.341        371        640: 100%|██████████| 12/12 [00:06<00:00,  1.95it/s]\n",
      "                 Class     Images  Instances      Box(P          R      mAP50  mAP50-95): 100%|██████████| 2/2 [00:01<00:00,  1.79it/s]"
     ]
    },
    {
     "name": "stdout",
     "output_type": "stream",
     "text": [
      "                   all         87       1138      0.874      0.854      0.914      0.659\n"
     ]
    },
    {
     "name": "stderr",
     "output_type": "stream",
     "text": [
      "\n"
     ]
    },
    {
     "name": "stdout",
     "output_type": "stream",
     "text": [
      "\n",
      "      Epoch    GPU_mem     box_om     cls_om     dfl_om     box_oo     cls_oo     dfl_oo  Instances       Size\n"
     ]
    },
    {
     "name": "stderr",
     "output_type": "stream",
     "text": [
      "    103/200       6.4G      1.063     0.7695      1.348      1.108     0.8202      1.343        330        640: 100%|██████████| 12/12 [00:08<00:00,  1.45it/s]\n",
      "                 Class     Images  Instances      Box(P          R      mAP50  mAP50-95): 100%|██████████| 2/2 [00:01<00:00,  1.18it/s]"
     ]
    },
    {
     "name": "stdout",
     "output_type": "stream",
     "text": [
      "                   all         87       1138      0.834      0.844      0.917      0.657\n"
     ]
    },
    {
     "name": "stderr",
     "output_type": "stream",
     "text": [
      "\n"
     ]
    },
    {
     "name": "stdout",
     "output_type": "stream",
     "text": [
      "\n",
      "      Epoch    GPU_mem     box_om     cls_om     dfl_om     box_oo     cls_oo     dfl_oo  Instances       Size\n"
     ]
    },
    {
     "name": "stderr",
     "output_type": "stream",
     "text": [
      "    104/200      6.37G      1.053     0.7522      1.345      1.091      0.798      1.338        271        640: 100%|██████████| 12/12 [00:06<00:00,  1.89it/s]\n",
      "                 Class     Images  Instances      Box(P          R      mAP50  mAP50-95): 100%|██████████| 2/2 [00:00<00:00,  2.02it/s]"
     ]
    },
    {
     "name": "stdout",
     "output_type": "stream",
     "text": [
      "                   all         87       1138      0.864        0.9      0.931      0.683\n"
     ]
    },
    {
     "name": "stderr",
     "output_type": "stream",
     "text": [
      "\n"
     ]
    },
    {
     "name": "stdout",
     "output_type": "stream",
     "text": [
      "\n",
      "      Epoch    GPU_mem     box_om     cls_om     dfl_om     box_oo     cls_oo     dfl_oo  Instances       Size\n"
     ]
    },
    {
     "name": "stderr",
     "output_type": "stream",
     "text": [
      "    105/200      6.58G      1.061     0.7547      1.342      1.101      0.794      1.334        282        640: 100%|██████████| 12/12 [00:09<00:00,  1.33it/s]\n",
      "                 Class     Images  Instances      Box(P          R      mAP50  mAP50-95): 100%|██████████| 2/2 [00:01<00:00,  1.54it/s]"
     ]
    },
    {
     "name": "stdout",
     "output_type": "stream",
     "text": [
      "                   all         87       1138      0.841      0.877      0.923      0.681\n"
     ]
    },
    {
     "name": "stderr",
     "output_type": "stream",
     "text": [
      "\n"
     ]
    },
    {
     "name": "stdout",
     "output_type": "stream",
     "text": [
      "\n",
      "      Epoch    GPU_mem     box_om     cls_om     dfl_om     box_oo     cls_oo     dfl_oo  Instances       Size\n"
     ]
    },
    {
     "name": "stderr",
     "output_type": "stream",
     "text": [
      "    106/200      6.12G      1.048     0.7583       1.34      1.088      0.803      1.332        242        640: 100%|██████████| 12/12 [00:06<00:00,  1.96it/s]\n",
      "                 Class     Images  Instances      Box(P          R      mAP50  mAP50-95): 100%|██████████| 2/2 [00:01<00:00,  1.85it/s]"
     ]
    },
    {
     "name": "stdout",
     "output_type": "stream",
     "text": [
      "                   all         87       1138      0.847      0.883      0.918      0.662\n"
     ]
    },
    {
     "name": "stderr",
     "output_type": "stream",
     "text": [
      "\n"
     ]
    },
    {
     "name": "stdout",
     "output_type": "stream",
     "text": [
      "\n",
      "      Epoch    GPU_mem     box_om     cls_om     dfl_om     box_oo     cls_oo     dfl_oo  Instances       Size\n"
     ]
    },
    {
     "name": "stderr",
     "output_type": "stream",
     "text": [
      "    107/200       6.4G      1.064     0.7644      1.346        1.1       0.81       1.33        213        640: 100%|██████████| 12/12 [00:08<00:00,  1.41it/s]\n",
      "                 Class     Images  Instances      Box(P          R      mAP50  mAP50-95): 100%|██████████| 2/2 [00:01<00:00,  1.64it/s]"
     ]
    },
    {
     "name": "stdout",
     "output_type": "stream",
     "text": [
      "                   all         87       1138      0.863      0.808      0.907      0.656\n"
     ]
    },
    {
     "name": "stderr",
     "output_type": "stream",
     "text": [
      "\n"
     ]
    },
    {
     "name": "stdout",
     "output_type": "stream",
     "text": [
      "\n",
      "      Epoch    GPU_mem     box_om     cls_om     dfl_om     box_oo     cls_oo     dfl_oo  Instances       Size\n"
     ]
    },
    {
     "name": "stderr",
     "output_type": "stream",
     "text": [
      "    108/200      6.89G      1.053      0.758      1.349      1.094     0.8042      1.338        265        640: 100%|██████████| 12/12 [00:06<00:00,  1.90it/s]\n",
      "                 Class     Images  Instances      Box(P          R      mAP50  mAP50-95): 100%|██████████| 2/2 [00:01<00:00,  1.54it/s]"
     ]
    },
    {
     "name": "stdout",
     "output_type": "stream",
     "text": [
      "                   all         87       1138      0.854      0.861      0.924      0.654\n"
     ]
    },
    {
     "name": "stderr",
     "output_type": "stream",
     "text": [
      "\n"
     ]
    },
    {
     "name": "stdout",
     "output_type": "stream",
     "text": [
      "\n",
      "      Epoch    GPU_mem     box_om     cls_om     dfl_om     box_oo     cls_oo     dfl_oo  Instances       Size\n"
     ]
    },
    {
     "name": "stderr",
     "output_type": "stream",
     "text": [
      "    109/200      6.35G      1.055     0.7587      1.344      1.096     0.8006      1.333        269        640: 100%|██████████| 12/12 [00:08<00:00,  1.42it/s]\n",
      "                 Class     Images  Instances      Box(P          R      mAP50  mAP50-95): 100%|██████████| 2/2 [00:01<00:00,  1.53it/s]"
     ]
    },
    {
     "name": "stdout",
     "output_type": "stream",
     "text": [
      "                   all         87       1138       0.88      0.845      0.918      0.659\n"
     ]
    },
    {
     "name": "stderr",
     "output_type": "stream",
     "text": [
      "\n"
     ]
    },
    {
     "name": "stdout",
     "output_type": "stream",
     "text": [
      "\n",
      "      Epoch    GPU_mem     box_om     cls_om     dfl_om     box_oo     cls_oo     dfl_oo  Instances       Size\n"
     ]
    },
    {
     "name": "stderr",
     "output_type": "stream",
     "text": [
      "    110/200      6.38G      1.073     0.7684      1.349      1.112     0.8098      1.333        291        640: 100%|██████████| 12/12 [00:06<00:00,  1.81it/s]\n",
      "                 Class     Images  Instances      Box(P          R      mAP50  mAP50-95): 100%|██████████| 2/2 [00:01<00:00,  1.25it/s]"
     ]
    },
    {
     "name": "stdout",
     "output_type": "stream",
     "text": [
      "                   all         87       1138       0.85      0.888      0.928      0.675\n"
     ]
    },
    {
     "name": "stderr",
     "output_type": "stream",
     "text": [
      "\n"
     ]
    },
    {
     "name": "stdout",
     "output_type": "stream",
     "text": [
      "\n",
      "      Epoch    GPU_mem     box_om     cls_om     dfl_om     box_oo     cls_oo     dfl_oo  Instances       Size\n"
     ]
    },
    {
     "name": "stderr",
     "output_type": "stream",
     "text": [
      "    111/200      6.47G      1.056      0.738      1.339      1.098     0.7726      1.327        285        640: 100%|██████████| 12/12 [00:07<00:00,  1.67it/s]\n",
      "                 Class     Images  Instances      Box(P          R      mAP50  mAP50-95): 100%|██████████| 2/2 [00:01<00:00,  1.57it/s]"
     ]
    },
    {
     "name": "stdout",
     "output_type": "stream",
     "text": [
      "                   all         87       1138      0.877       0.88      0.926      0.671\n"
     ]
    },
    {
     "name": "stderr",
     "output_type": "stream",
     "text": [
      "\n"
     ]
    },
    {
     "name": "stdout",
     "output_type": "stream",
     "text": [
      "\n",
      "      Epoch    GPU_mem     box_om     cls_om     dfl_om     box_oo     cls_oo     dfl_oo  Instances       Size\n"
     ]
    },
    {
     "name": "stderr",
     "output_type": "stream",
     "text": [
      "    112/200      6.68G       1.05     0.7444      1.345      1.089     0.7886      1.331        214        640: 100%|██████████| 12/12 [00:06<00:00,  1.73it/s]\n",
      "                 Class     Images  Instances      Box(P          R      mAP50  mAP50-95): 100%|██████████| 2/2 [00:01<00:00,  1.06it/s]"
     ]
    },
    {
     "name": "stdout",
     "output_type": "stream",
     "text": [
      "                   all         87       1138      0.888      0.826      0.928      0.675\n"
     ]
    },
    {
     "name": "stderr",
     "output_type": "stream",
     "text": [
      "\n"
     ]
    },
    {
     "name": "stdout",
     "output_type": "stream",
     "text": [
      "\n",
      "      Epoch    GPU_mem     box_om     cls_om     dfl_om     box_oo     cls_oo     dfl_oo  Instances       Size\n"
     ]
    },
    {
     "name": "stderr",
     "output_type": "stream",
     "text": [
      "    113/200      6.17G      1.045     0.7495      1.335      1.091     0.7939      1.322        295        640: 100%|██████████| 12/12 [00:06<00:00,  1.85it/s]\n",
      "                 Class     Images  Instances      Box(P          R      mAP50  mAP50-95): 100%|██████████| 2/2 [00:01<00:00,  1.93it/s]"
     ]
    },
    {
     "name": "stdout",
     "output_type": "stream",
     "text": [
      "                   all         87       1138      0.826      0.861      0.908       0.66\n"
     ]
    },
    {
     "name": "stderr",
     "output_type": "stream",
     "text": [
      "\n"
     ]
    },
    {
     "name": "stdout",
     "output_type": "stream",
     "text": [
      "\n",
      "      Epoch    GPU_mem     box_om     cls_om     dfl_om     box_oo     cls_oo     dfl_oo  Instances       Size\n"
     ]
    },
    {
     "name": "stderr",
     "output_type": "stream",
     "text": [
      "    114/200      6.21G      1.045     0.7557      1.353      1.084     0.7992      1.341        225        640: 100%|██████████| 12/12 [00:07<00:00,  1.66it/s]\n",
      "                 Class     Images  Instances      Box(P          R      mAP50  mAP50-95): 100%|██████████| 2/2 [00:02<00:00,  1.08s/it]"
     ]
    },
    {
     "name": "stdout",
     "output_type": "stream",
     "text": [
      "                   all         87       1138      0.848      0.872      0.921      0.681\n"
     ]
    },
    {
     "name": "stderr",
     "output_type": "stream",
     "text": [
      "\n"
     ]
    },
    {
     "name": "stdout",
     "output_type": "stream",
     "text": [
      "\n",
      "      Epoch    GPU_mem     box_om     cls_om     dfl_om     box_oo     cls_oo     dfl_oo  Instances       Size\n"
     ]
    },
    {
     "name": "stderr",
     "output_type": "stream",
     "text": [
      "    115/200      6.63G      1.051     0.7597      1.342       1.09     0.7996      1.331        288        640: 100%|██████████| 12/12 [00:06<00:00,  1.89it/s]\n",
      "                 Class     Images  Instances      Box(P          R      mAP50  mAP50-95): 100%|██████████| 2/2 [00:01<00:00,  1.75it/s]"
     ]
    },
    {
     "name": "stdout",
     "output_type": "stream",
     "text": [
      "                   all         87       1138      0.876       0.86      0.927      0.675\n"
     ]
    },
    {
     "name": "stderr",
     "output_type": "stream",
     "text": [
      "\n"
     ]
    },
    {
     "name": "stdout",
     "output_type": "stream",
     "text": [
      "\n",
      "      Epoch    GPU_mem     box_om     cls_om     dfl_om     box_oo     cls_oo     dfl_oo  Instances       Size\n"
     ]
    },
    {
     "name": "stderr",
     "output_type": "stream",
     "text": [
      "    116/200      6.57G      1.036     0.7342      1.328      1.077     0.7699      1.316        280        640: 100%|██████████| 12/12 [00:08<00:00,  1.47it/s]\n",
      "                 Class     Images  Instances      Box(P          R      mAP50  mAP50-95): 100%|██████████| 2/2 [00:01<00:00,  1.40it/s]"
     ]
    },
    {
     "name": "stdout",
     "output_type": "stream",
     "text": [
      "                   all         87       1138      0.833      0.876      0.918      0.665\n"
     ]
    },
    {
     "name": "stderr",
     "output_type": "stream",
     "text": [
      "\n"
     ]
    },
    {
     "name": "stdout",
     "output_type": "stream",
     "text": [
      "\n",
      "      Epoch    GPU_mem     box_om     cls_om     dfl_om     box_oo     cls_oo     dfl_oo  Instances       Size\n"
     ]
    },
    {
     "name": "stderr",
     "output_type": "stream",
     "text": [
      "    117/200      6.23G      1.044     0.7343       1.33      1.091     0.7706      1.323        281        640: 100%|██████████| 12/12 [00:06<00:00,  1.93it/s]\n",
      "                 Class     Images  Instances      Box(P          R      mAP50  mAP50-95): 100%|██████████| 2/2 [00:01<00:00,  1.77it/s]"
     ]
    },
    {
     "name": "stdout",
     "output_type": "stream",
     "text": [
      "                   all         87       1138      0.827      0.853       0.91      0.659\n"
     ]
    },
    {
     "name": "stderr",
     "output_type": "stream",
     "text": [
      "\n"
     ]
    },
    {
     "name": "stdout",
     "output_type": "stream",
     "text": [
      "\n",
      "      Epoch    GPU_mem     box_om     cls_om     dfl_om     box_oo     cls_oo     dfl_oo  Instances       Size\n"
     ]
    },
    {
     "name": "stderr",
     "output_type": "stream",
     "text": [
      "    118/200      6.45G      1.029     0.7351      1.326      1.067     0.7719      1.317        287        640: 100%|██████████| 12/12 [00:08<00:00,  1.36it/s]\n",
      "                 Class     Images  Instances      Box(P          R      mAP50  mAP50-95): 100%|██████████| 2/2 [00:01<00:00,  1.48it/s]"
     ]
    },
    {
     "name": "stdout",
     "output_type": "stream",
     "text": [
      "                   all         87       1138      0.848       0.86      0.921      0.667\n"
     ]
    },
    {
     "name": "stderr",
     "output_type": "stream",
     "text": [
      "\n"
     ]
    },
    {
     "name": "stdout",
     "output_type": "stream",
     "text": [
      "\n",
      "      Epoch    GPU_mem     box_om     cls_om     dfl_om     box_oo     cls_oo     dfl_oo  Instances       Size\n"
     ]
    },
    {
     "name": "stderr",
     "output_type": "stream",
     "text": [
      "    119/200      6.62G      1.045     0.7355      1.337      1.085     0.7813      1.331        313        640: 100%|██████████| 12/12 [00:06<00:00,  1.91it/s]\n",
      "                 Class     Images  Instances      Box(P          R      mAP50  mAP50-95): 100%|██████████| 2/2 [00:01<00:00,  1.48it/s]"
     ]
    },
    {
     "name": "stdout",
     "output_type": "stream",
     "text": [
      "                   all         87       1138      0.853      0.858       0.92      0.673\n"
     ]
    },
    {
     "name": "stderr",
     "output_type": "stream",
     "text": [
      "\n"
     ]
    },
    {
     "name": "stdout",
     "output_type": "stream",
     "text": [
      "\n",
      "      Epoch    GPU_mem     box_om     cls_om     dfl_om     box_oo     cls_oo     dfl_oo  Instances       Size\n"
     ]
    },
    {
     "name": "stderr",
     "output_type": "stream",
     "text": [
      "    120/200      6.26G      1.038     0.7251      1.329      1.079     0.7589      1.321        241        640: 100%|██████████| 12/12 [00:08<00:00,  1.43it/s]\n",
      "                 Class     Images  Instances      Box(P          R      mAP50  mAP50-95): 100%|██████████| 2/2 [00:01<00:00,  1.42it/s]"
     ]
    },
    {
     "name": "stdout",
     "output_type": "stream",
     "text": [
      "                   all         87       1138      0.881      0.843      0.928      0.682\n"
     ]
    },
    {
     "name": "stderr",
     "output_type": "stream",
     "text": [
      "\n"
     ]
    },
    {
     "name": "stdout",
     "output_type": "stream",
     "text": [
      "\n",
      "      Epoch    GPU_mem     box_om     cls_om     dfl_om     box_oo     cls_oo     dfl_oo  Instances       Size\n"
     ]
    },
    {
     "name": "stderr",
     "output_type": "stream",
     "text": [
      "    121/200      6.34G      1.027     0.7295      1.324      1.067     0.7709      1.319        256        640: 100%|██████████| 12/12 [00:05<00:00,  2.00it/s]\n",
      "                 Class     Images  Instances      Box(P          R      mAP50  mAP50-95): 100%|██████████| 2/2 [00:01<00:00,  1.07it/s]"
     ]
    },
    {
     "name": "stdout",
     "output_type": "stream",
     "text": [
      "                   all         87       1138      0.844      0.887      0.931       0.68\n"
     ]
    },
    {
     "name": "stderr",
     "output_type": "stream",
     "text": [
      "\n"
     ]
    },
    {
     "name": "stdout",
     "output_type": "stream",
     "text": [
      "\n",
      "      Epoch    GPU_mem     box_om     cls_om     dfl_om     box_oo     cls_oo     dfl_oo  Instances       Size\n"
     ]
    },
    {
     "name": "stderr",
     "output_type": "stream",
     "text": [
      "    122/200      6.17G      1.037     0.7294      1.323      1.077     0.7597      1.319        289        640: 100%|██████████| 12/12 [00:08<00:00,  1.45it/s]\n",
      "                 Class     Images  Instances      Box(P          R      mAP50  mAP50-95): 100%|██████████| 2/2 [00:01<00:00,  1.56it/s]"
     ]
    },
    {
     "name": "stdout",
     "output_type": "stream",
     "text": [
      "                   all         87       1138      0.875      0.862      0.933      0.683\n"
     ]
    },
    {
     "name": "stderr",
     "output_type": "stream",
     "text": [
      "\n"
     ]
    },
    {
     "name": "stdout",
     "output_type": "stream",
     "text": [
      "\n",
      "      Epoch    GPU_mem     box_om     cls_om     dfl_om     box_oo     cls_oo     dfl_oo  Instances       Size\n"
     ]
    },
    {
     "name": "stderr",
     "output_type": "stream",
     "text": [
      "    123/200      6.57G      1.023      0.732      1.325      1.067     0.7697      1.323        264        640: 100%|██████████| 12/12 [00:06<00:00,  1.82it/s]\n",
      "                 Class     Images  Instances      Box(P          R      mAP50  mAP50-95): 100%|██████████| 2/2 [00:01<00:00,  1.04it/s]"
     ]
    },
    {
     "name": "stdout",
     "output_type": "stream",
     "text": [
      "                   all         87       1138      0.871      0.868      0.931      0.685\n"
     ]
    },
    {
     "name": "stderr",
     "output_type": "stream",
     "text": [
      "\n"
     ]
    },
    {
     "name": "stdout",
     "output_type": "stream",
     "text": [
      "\n",
      "      Epoch    GPU_mem     box_om     cls_om     dfl_om     box_oo     cls_oo     dfl_oo  Instances       Size\n"
     ]
    },
    {
     "name": "stderr",
     "output_type": "stream",
     "text": [
      "    124/200      6.55G      1.045      0.726      1.321      1.087     0.7677      1.322        282        640: 100%|██████████| 12/12 [00:06<00:00,  1.79it/s]\n",
      "                 Class     Images  Instances      Box(P          R      mAP50  mAP50-95): 100%|██████████| 2/2 [00:01<00:00,  1.98it/s]"
     ]
    },
    {
     "name": "stdout",
     "output_type": "stream",
     "text": [
      "                   all         87       1138      0.906       0.84      0.927      0.652\n"
     ]
    },
    {
     "name": "stderr",
     "output_type": "stream",
     "text": [
      "\n"
     ]
    },
    {
     "name": "stdout",
     "output_type": "stream",
     "text": [
      "\n",
      "      Epoch    GPU_mem     box_om     cls_om     dfl_om     box_oo     cls_oo     dfl_oo  Instances       Size\n"
     ]
    },
    {
     "name": "stderr",
     "output_type": "stream",
     "text": [
      "    125/200      6.67G      1.027     0.7212      1.323      1.072     0.7562      1.321        278        640: 100%|██████████| 12/12 [00:07<00:00,  1.65it/s]\n",
      "                 Class     Images  Instances      Box(P          R      mAP50  mAP50-95): 100%|██████████| 2/2 [00:02<00:00,  1.03s/it]"
     ]
    },
    {
     "name": "stdout",
     "output_type": "stream",
     "text": [
      "                   all         87       1138      0.856      0.871      0.926      0.677\n"
     ]
    },
    {
     "name": "stderr",
     "output_type": "stream",
     "text": [
      "\n"
     ]
    },
    {
     "name": "stdout",
     "output_type": "stream",
     "text": [
      "\n",
      "      Epoch    GPU_mem     box_om     cls_om     dfl_om     box_oo     cls_oo     dfl_oo  Instances       Size\n"
     ]
    },
    {
     "name": "stderr",
     "output_type": "stream",
     "text": [
      "    126/200      6.31G      1.028      0.723      1.329      1.067     0.7651      1.322        237        640: 100%|██████████| 12/12 [00:06<00:00,  1.93it/s]\n",
      "                 Class     Images  Instances      Box(P          R      mAP50  mAP50-95): 100%|██████████| 2/2 [00:00<00:00,  2.09it/s]"
     ]
    },
    {
     "name": "stdout",
     "output_type": "stream",
     "text": [
      "                   all         87       1138      0.865      0.874      0.929      0.678\n"
     ]
    },
    {
     "name": "stderr",
     "output_type": "stream",
     "text": [
      "\n"
     ]
    },
    {
     "name": "stdout",
     "output_type": "stream",
     "text": [
      "\n",
      "      Epoch    GPU_mem     box_om     cls_om     dfl_om     box_oo     cls_oo     dfl_oo  Instances       Size\n"
     ]
    },
    {
     "name": "stderr",
     "output_type": "stream",
     "text": [
      "    127/200      6.04G      1.023      0.724      1.319      1.062     0.7639      1.317        239        640: 100%|██████████| 12/12 [00:08<00:00,  1.47it/s]\n",
      "                 Class     Images  Instances      Box(P          R      mAP50  mAP50-95): 100%|██████████| 2/2 [00:02<00:00,  1.02s/it]"
     ]
    },
    {
     "name": "stdout",
     "output_type": "stream",
     "text": [
      "                   all         87       1138      0.878      0.842      0.927       0.68\n"
     ]
    },
    {
     "name": "stderr",
     "output_type": "stream",
     "text": [
      "\n"
     ]
    },
    {
     "name": "stdout",
     "output_type": "stream",
     "text": [
      "\n",
      "      Epoch    GPU_mem     box_om     cls_om     dfl_om     box_oo     cls_oo     dfl_oo  Instances       Size\n"
     ]
    },
    {
     "name": "stderr",
     "output_type": "stream",
     "text": [
      "    128/200      6.36G      1.027     0.7159      1.319      1.071     0.7564      1.316        291        640: 100%|██████████| 12/12 [00:06<00:00,  1.90it/s]\n",
      "                 Class     Images  Instances      Box(P          R      mAP50  mAP50-95): 100%|██████████| 2/2 [00:01<00:00,  1.90it/s]"
     ]
    },
    {
     "name": "stdout",
     "output_type": "stream",
     "text": [
      "                   all         87       1138      0.888       0.87      0.935      0.679\n"
     ]
    },
    {
     "name": "stderr",
     "output_type": "stream",
     "text": [
      "\n"
     ]
    },
    {
     "name": "stdout",
     "output_type": "stream",
     "text": [
      "\n",
      "      Epoch    GPU_mem     box_om     cls_om     dfl_om     box_oo     cls_oo     dfl_oo  Instances       Size\n"
     ]
    },
    {
     "name": "stderr",
     "output_type": "stream",
     "text": [
      "    129/200      6.46G       1.02     0.7154      1.308      1.064     0.7565       1.31        229        640: 100%|██████████| 12/12 [00:08<00:00,  1.35it/s]\n",
      "                 Class     Images  Instances      Box(P          R      mAP50  mAP50-95): 100%|██████████| 2/2 [00:01<00:00,  1.42it/s]"
     ]
    },
    {
     "name": "stdout",
     "output_type": "stream",
     "text": [
      "                   all         87       1138      0.865      0.871      0.926      0.661\n"
     ]
    },
    {
     "name": "stderr",
     "output_type": "stream",
     "text": [
      "\n"
     ]
    },
    {
     "name": "stdout",
     "output_type": "stream",
     "text": [
      "\n",
      "      Epoch    GPU_mem     box_om     cls_om     dfl_om     box_oo     cls_oo     dfl_oo  Instances       Size\n"
     ]
    },
    {
     "name": "stderr",
     "output_type": "stream",
     "text": [
      "    130/200      6.77G      1.017     0.7176      1.312      1.052     0.7514      1.308        275        640: 100%|██████████| 12/12 [00:06<00:00,  1.91it/s]\n",
      "                 Class     Images  Instances      Box(P          R      mAP50  mAP50-95): 100%|██████████| 2/2 [00:01<00:00,  1.71it/s]"
     ]
    },
    {
     "name": "stdout",
     "output_type": "stream",
     "text": [
      "                   all         87       1138      0.878      0.826      0.916      0.652\n"
     ]
    },
    {
     "name": "stderr",
     "output_type": "stream",
     "text": [
      "\n"
     ]
    },
    {
     "name": "stdout",
     "output_type": "stream",
     "text": [
      "\n",
      "      Epoch    GPU_mem     box_om     cls_om     dfl_om     box_oo     cls_oo     dfl_oo  Instances       Size\n"
     ]
    },
    {
     "name": "stderr",
     "output_type": "stream",
     "text": [
      "    131/200      6.28G      1.032      0.715      1.321      1.075      0.749      1.323        318        640: 100%|██████████| 12/12 [00:08<00:00,  1.44it/s]\n",
      "                 Class     Images  Instances      Box(P          R      mAP50  mAP50-95): 100%|██████████| 2/2 [00:01<00:00,  1.57it/s]"
     ]
    },
    {
     "name": "stdout",
     "output_type": "stream",
     "text": [
      "                   all         87       1138      0.903      0.878      0.941      0.691\n"
     ]
    },
    {
     "name": "stderr",
     "output_type": "stream",
     "text": [
      "\n"
     ]
    },
    {
     "name": "stdout",
     "output_type": "stream",
     "text": [
      "\n",
      "      Epoch    GPU_mem     box_om     cls_om     dfl_om     box_oo     cls_oo     dfl_oo  Instances       Size\n"
     ]
    },
    {
     "name": "stderr",
     "output_type": "stream",
     "text": [
      "    132/200      6.48G       1.02     0.7231      1.315      1.064      0.762      1.315        253        640: 100%|██████████| 12/12 [00:06<00:00,  1.90it/s]\n",
      "                 Class     Images  Instances      Box(P          R      mAP50  mAP50-95): 100%|██████████| 2/2 [00:01<00:00,  1.12it/s]"
     ]
    },
    {
     "name": "stdout",
     "output_type": "stream",
     "text": [
      "                   all         87       1138       0.87      0.868      0.937       0.69\n"
     ]
    },
    {
     "name": "stderr",
     "output_type": "stream",
     "text": [
      "\n"
     ]
    },
    {
     "name": "stdout",
     "output_type": "stream",
     "text": [
      "\n",
      "      Epoch    GPU_mem     box_om     cls_om     dfl_om     box_oo     cls_oo     dfl_oo  Instances       Size\n"
     ]
    },
    {
     "name": "stderr",
     "output_type": "stream",
     "text": [
      "    133/200      6.73G      1.014     0.7058      1.303      1.053     0.7382      1.302        271        640: 100%|██████████| 12/12 [00:07<00:00,  1.52it/s]\n",
      "                 Class     Images  Instances      Box(P          R      mAP50  mAP50-95): 100%|██████████| 2/2 [00:01<00:00,  1.58it/s]"
     ]
    },
    {
     "name": "stdout",
     "output_type": "stream",
     "text": [
      "                   all         87       1138      0.824      0.882      0.921      0.671\n"
     ]
    },
    {
     "name": "stderr",
     "output_type": "stream",
     "text": [
      "\n"
     ]
    },
    {
     "name": "stdout",
     "output_type": "stream",
     "text": [
      "\n",
      "      Epoch    GPU_mem     box_om     cls_om     dfl_om     box_oo     cls_oo     dfl_oo  Instances       Size\n"
     ]
    },
    {
     "name": "stderr",
     "output_type": "stream",
     "text": [
      "    134/200      6.03G      1.036     0.7217      1.333       1.07     0.7546      1.326        292        640: 100%|██████████| 12/12 [00:06<00:00,  1.77it/s]\n",
      "                 Class     Images  Instances      Box(P          R      mAP50  mAP50-95): 100%|██████████| 2/2 [00:01<00:00,  1.11it/s]"
     ]
    },
    {
     "name": "stdout",
     "output_type": "stream",
     "text": [
      "                   all         87       1138      0.881      0.866      0.934      0.691\n"
     ]
    },
    {
     "name": "stderr",
     "output_type": "stream",
     "text": [
      "\n"
     ]
    },
    {
     "name": "stdout",
     "output_type": "stream",
     "text": [
      "\n",
      "      Epoch    GPU_mem     box_om     cls_om     dfl_om     box_oo     cls_oo     dfl_oo  Instances       Size\n"
     ]
    },
    {
     "name": "stderr",
     "output_type": "stream",
     "text": [
      "    135/200      6.25G      1.033     0.7396      1.322      1.071     0.7774      1.321        286        640: 100%|██████████| 12/12 [00:07<00:00,  1.65it/s]\n",
      "                 Class     Images  Instances      Box(P          R      mAP50  mAP50-95): 100%|██████████| 2/2 [00:01<00:00,  1.73it/s]"
     ]
    },
    {
     "name": "stdout",
     "output_type": "stream",
     "text": [
      "                   all         87       1138      0.893      0.864      0.936      0.688\n"
     ]
    },
    {
     "name": "stderr",
     "output_type": "stream",
     "text": [
      "\n"
     ]
    },
    {
     "name": "stdout",
     "output_type": "stream",
     "text": [
      "\n",
      "      Epoch    GPU_mem     box_om     cls_om     dfl_om     box_oo     cls_oo     dfl_oo  Instances       Size\n"
     ]
    },
    {
     "name": "stderr",
     "output_type": "stream",
     "text": [
      "    136/200      6.36G      1.015     0.7161      1.312      1.055     0.7456      1.308        249        640: 100%|██████████| 12/12 [00:06<00:00,  1.78it/s]\n",
      "                 Class     Images  Instances      Box(P          R      mAP50  mAP50-95): 100%|██████████| 2/2 [00:01<00:00,  1.07it/s]"
     ]
    },
    {
     "name": "stdout",
     "output_type": "stream",
     "text": [
      "                   all         87       1138      0.877       0.87      0.937      0.687\n"
     ]
    },
    {
     "name": "stderr",
     "output_type": "stream",
     "text": [
      "\n"
     ]
    },
    {
     "name": "stdout",
     "output_type": "stream",
     "text": [
      "\n",
      "      Epoch    GPU_mem     box_om     cls_om     dfl_om     box_oo     cls_oo     dfl_oo  Instances       Size\n"
     ]
    },
    {
     "name": "stderr",
     "output_type": "stream",
     "text": [
      "    137/200      6.03G      1.011     0.7148        1.3      1.057     0.7562      1.302        262        640: 100%|██████████| 12/12 [00:07<00:00,  1.66it/s]\n",
      "                 Class     Images  Instances      Box(P          R      mAP50  mAP50-95): 100%|██████████| 2/2 [00:01<00:00,  1.69it/s]"
     ]
    },
    {
     "name": "stdout",
     "output_type": "stream",
     "text": [
      "                   all         87       1138       0.87      0.849       0.93      0.682\n"
     ]
    },
    {
     "name": "stderr",
     "output_type": "stream",
     "text": [
      "\n"
     ]
    },
    {
     "name": "stdout",
     "output_type": "stream",
     "text": [
      "\n",
      "      Epoch    GPU_mem     box_om     cls_om     dfl_om     box_oo     cls_oo     dfl_oo  Instances       Size\n"
     ]
    },
    {
     "name": "stderr",
     "output_type": "stream",
     "text": [
      "    138/200      6.36G      1.019     0.7211      1.319      1.061     0.7584      1.317        297        640: 100%|██████████| 12/12 [00:06<00:00,  1.75it/s]\n",
      "                 Class     Images  Instances      Box(P          R      mAP50  mAP50-95): 100%|██████████| 2/2 [00:01<00:00,  1.09it/s]"
     ]
    },
    {
     "name": "stdout",
     "output_type": "stream",
     "text": [
      "                   all         87       1138      0.875        0.9       0.94      0.694\n"
     ]
    },
    {
     "name": "stderr",
     "output_type": "stream",
     "text": [
      "\n"
     ]
    },
    {
     "name": "stdout",
     "output_type": "stream",
     "text": [
      "\n",
      "      Epoch    GPU_mem     box_om     cls_om     dfl_om     box_oo     cls_oo     dfl_oo  Instances       Size\n"
     ]
    },
    {
     "name": "stderr",
     "output_type": "stream",
     "text": [
      "    139/200      6.79G      1.022     0.7008      1.313      1.059     0.7359      1.311        361        640: 100%|██████████| 12/12 [00:06<00:00,  1.81it/s]\n",
      "                 Class     Images  Instances      Box(P          R      mAP50  mAP50-95): 100%|██████████| 2/2 [00:01<00:00,  1.62it/s]"
     ]
    },
    {
     "name": "stdout",
     "output_type": "stream",
     "text": [
      "                   all         87       1138      0.844      0.881      0.925      0.683\n"
     ]
    },
    {
     "name": "stderr",
     "output_type": "stream",
     "text": [
      "\n"
     ]
    },
    {
     "name": "stdout",
     "output_type": "stream",
     "text": [
      "\n",
      "      Epoch    GPU_mem     box_om     cls_om     dfl_om     box_oo     cls_oo     dfl_oo  Instances       Size\n"
     ]
    },
    {
     "name": "stderr",
     "output_type": "stream",
     "text": [
      "    140/200      6.37G      1.007     0.7126      1.299      1.049     0.7443      1.294        312        640: 100%|██████████| 12/12 [00:07<00:00,  1.71it/s]\n",
      "                 Class     Images  Instances      Box(P          R      mAP50  mAP50-95): 100%|██████████| 2/2 [00:02<00:00,  1.10s/it]"
     ]
    },
    {
     "name": "stdout",
     "output_type": "stream",
     "text": [
      "                   all         87       1138        0.9      0.869      0.938      0.689\n"
     ]
    },
    {
     "name": "stderr",
     "output_type": "stream",
     "text": [
      "\n"
     ]
    },
    {
     "name": "stdout",
     "output_type": "stream",
     "text": [
      "\n",
      "      Epoch    GPU_mem     box_om     cls_om     dfl_om     box_oo     cls_oo     dfl_oo  Instances       Size\n"
     ]
    },
    {
     "name": "stderr",
     "output_type": "stream",
     "text": [
      "    141/200      6.32G       1.02     0.7148      1.304      1.065     0.7525        1.3        354        640: 100%|██████████| 12/12 [00:06<00:00,  1.93it/s]\n",
      "                 Class     Images  Instances      Box(P          R      mAP50  mAP50-95): 100%|██████████| 2/2 [00:01<00:00,  1.84it/s]"
     ]
    },
    {
     "name": "stdout",
     "output_type": "stream",
     "text": [
      "                   all         87       1138      0.876       0.89      0.938      0.694\n"
     ]
    },
    {
     "name": "stderr",
     "output_type": "stream",
     "text": [
      "\n"
     ]
    },
    {
     "name": "stdout",
     "output_type": "stream",
     "text": [
      "\n",
      "      Epoch    GPU_mem     box_om     cls_om     dfl_om     box_oo     cls_oo     dfl_oo  Instances       Size\n"
     ]
    },
    {
     "name": "stderr",
     "output_type": "stream",
     "text": [
      "    142/200      6.62G      1.008     0.7132      1.303      1.048     0.7524        1.3        303        640: 100%|██████████| 12/12 [00:08<00:00,  1.48it/s]\n",
      "                 Class     Images  Instances      Box(P          R      mAP50  mAP50-95): 100%|██████████| 2/2 [00:01<00:00,  1.00it/s]"
     ]
    },
    {
     "name": "stdout",
     "output_type": "stream",
     "text": [
      "                   all         87       1138      0.891      0.876      0.943      0.701\n"
     ]
    },
    {
     "name": "stderr",
     "output_type": "stream",
     "text": [
      "\n"
     ]
    },
    {
     "name": "stdout",
     "output_type": "stream",
     "text": [
      "\n",
      "      Epoch    GPU_mem     box_om     cls_om     dfl_om     box_oo     cls_oo     dfl_oo  Instances       Size\n"
     ]
    },
    {
     "name": "stderr",
     "output_type": "stream",
     "text": [
      "    143/200      6.64G      1.016     0.7012      1.307      1.057      0.728      1.303        304        640: 100%|██████████| 12/12 [00:06<00:00,  1.91it/s]\n",
      "                 Class     Images  Instances      Box(P          R      mAP50  mAP50-95): 100%|██████████| 2/2 [00:01<00:00,  1.90it/s]"
     ]
    },
    {
     "name": "stdout",
     "output_type": "stream",
     "text": [
      "                   all         87       1138      0.897      0.865      0.947      0.705\n"
     ]
    },
    {
     "name": "stderr",
     "output_type": "stream",
     "text": [
      "\n"
     ]
    },
    {
     "name": "stdout",
     "output_type": "stream",
     "text": [
      "\n",
      "      Epoch    GPU_mem     box_om     cls_om     dfl_om     box_oo     cls_oo     dfl_oo  Instances       Size\n"
     ]
    },
    {
     "name": "stderr",
     "output_type": "stream",
     "text": [
      "    144/200      6.34G      1.008     0.7072      1.304      1.044     0.7356      1.301        256        640: 100%|██████████| 12/12 [00:09<00:00,  1.31it/s]\n",
      "                 Class     Images  Instances      Box(P          R      mAP50  mAP50-95): 100%|██████████| 2/2 [00:01<00:00,  1.44it/s]"
     ]
    },
    {
     "name": "stdout",
     "output_type": "stream",
     "text": [
      "                   all         87       1138       0.86      0.888      0.929      0.689\n"
     ]
    },
    {
     "name": "stderr",
     "output_type": "stream",
     "text": [
      "\n"
     ]
    },
    {
     "name": "stdout",
     "output_type": "stream",
     "text": [
      "\n",
      "      Epoch    GPU_mem     box_om     cls_om     dfl_om     box_oo     cls_oo     dfl_oo  Instances       Size\n"
     ]
    },
    {
     "name": "stderr",
     "output_type": "stream",
     "text": [
      "    145/200      6.36G      1.012     0.7146      1.306       1.05     0.7464      1.303        278        640: 100%|██████████| 12/12 [00:06<00:00,  1.91it/s]\n",
      "                 Class     Images  Instances      Box(P          R      mAP50  mAP50-95): 100%|██████████| 2/2 [00:01<00:00,  1.88it/s]"
     ]
    },
    {
     "name": "stdout",
     "output_type": "stream",
     "text": [
      "                   all         87       1138      0.898      0.879      0.946      0.704\n"
     ]
    },
    {
     "name": "stderr",
     "output_type": "stream",
     "text": [
      "\n"
     ]
    },
    {
     "name": "stdout",
     "output_type": "stream",
     "text": [
      "\n",
      "      Epoch    GPU_mem     box_om     cls_om     dfl_om     box_oo     cls_oo     dfl_oo  Instances       Size\n"
     ]
    },
    {
     "name": "stderr",
     "output_type": "stream",
     "text": [
      "    146/200      6.28G      1.007     0.7008      1.296      1.042     0.7345      1.291        290        640: 100%|██████████| 12/12 [00:08<00:00,  1.43it/s]\n",
      "                 Class     Images  Instances      Box(P          R      mAP50  mAP50-95): 100%|██████████| 2/2 [00:01<00:00,  1.65it/s]"
     ]
    },
    {
     "name": "stdout",
     "output_type": "stream",
     "text": [
      "                   all         87       1138      0.878      0.861      0.939        0.7\n"
     ]
    },
    {
     "name": "stderr",
     "output_type": "stream",
     "text": [
      "\n"
     ]
    },
    {
     "name": "stdout",
     "output_type": "stream",
     "text": [
      "\n",
      "      Epoch    GPU_mem     box_om     cls_om     dfl_om     box_oo     cls_oo     dfl_oo  Instances       Size\n"
     ]
    },
    {
     "name": "stderr",
     "output_type": "stream",
     "text": [
      "    147/200      6.61G      1.003     0.7036      1.297      1.046     0.7396      1.295        308        640: 100%|██████████| 12/12 [00:06<00:00,  1.88it/s]\n",
      "                 Class     Images  Instances      Box(P          R      mAP50  mAP50-95): 100%|██████████| 2/2 [00:01<00:00,  1.28it/s]"
     ]
    },
    {
     "name": "stdout",
     "output_type": "stream",
     "text": [
      "                   all         87       1138      0.898      0.899      0.945      0.703\n"
     ]
    },
    {
     "name": "stderr",
     "output_type": "stream",
     "text": [
      "\n"
     ]
    },
    {
     "name": "stdout",
     "output_type": "stream",
     "text": [
      "\n",
      "      Epoch    GPU_mem     box_om     cls_om     dfl_om     box_oo     cls_oo     dfl_oo  Instances       Size\n"
     ]
    },
    {
     "name": "stderr",
     "output_type": "stream",
     "text": [
      "    148/200      6.42G      1.001     0.6872      1.281      1.043     0.7178      1.283        320        640: 100%|██████████| 12/12 [00:07<00:00,  1.64it/s]\n",
      "                 Class     Images  Instances      Box(P          R      mAP50  mAP50-95): 100%|██████████| 2/2 [00:01<00:00,  1.64it/s]"
     ]
    },
    {
     "name": "stdout",
     "output_type": "stream",
     "text": [
      "                   all         87       1138      0.889      0.886      0.939      0.702\n"
     ]
    },
    {
     "name": "stderr",
     "output_type": "stream",
     "text": [
      "\n"
     ]
    },
    {
     "name": "stdout",
     "output_type": "stream",
     "text": [
      "\n",
      "      Epoch    GPU_mem     box_om     cls_om     dfl_om     box_oo     cls_oo     dfl_oo  Instances       Size\n"
     ]
    },
    {
     "name": "stderr",
     "output_type": "stream",
     "text": [
      "    149/200      6.12G      1.002     0.6962      1.286      1.047     0.7269      1.287        343        640: 100%|██████████| 12/12 [00:06<00:00,  1.83it/s]\n",
      "                 Class     Images  Instances      Box(P          R      mAP50  mAP50-95): 100%|██████████| 2/2 [00:01<00:00,  1.02it/s]"
     ]
    },
    {
     "name": "stdout",
     "output_type": "stream",
     "text": [
      "                   all         87       1138      0.874       0.91      0.945      0.701\n"
     ]
    },
    {
     "name": "stderr",
     "output_type": "stream",
     "text": [
      "\n"
     ]
    },
    {
     "name": "stdout",
     "output_type": "stream",
     "text": [
      "\n",
      "      Epoch    GPU_mem     box_om     cls_om     dfl_om     box_oo     cls_oo     dfl_oo  Instances       Size\n"
     ]
    },
    {
     "name": "stderr",
     "output_type": "stream",
     "text": [
      "    150/200         6G      1.003     0.7065      1.304      1.041     0.7359      1.299        284        640: 100%|██████████| 12/12 [00:06<00:00,  1.77it/s]\n",
      "                 Class     Images  Instances      Box(P          R      mAP50  mAP50-95): 100%|██████████| 2/2 [00:01<00:00,  1.55it/s]"
     ]
    },
    {
     "name": "stdout",
     "output_type": "stream",
     "text": [
      "                   all         87       1138      0.871      0.873      0.935      0.701\n"
     ]
    },
    {
     "name": "stderr",
     "output_type": "stream",
     "text": [
      "\n"
     ]
    },
    {
     "name": "stdout",
     "output_type": "stream",
     "text": [
      "\n",
      "      Epoch    GPU_mem     box_om     cls_om     dfl_om     box_oo     cls_oo     dfl_oo  Instances       Size\n"
     ]
    },
    {
     "name": "stderr",
     "output_type": "stream",
     "text": [
      "    151/200      6.56G      1.011     0.7011      1.297      1.046     0.7382      1.294        326        640: 100%|██████████| 12/12 [00:06<00:00,  1.74it/s]\n",
      "                 Class     Images  Instances      Box(P          R      mAP50  mAP50-95): 100%|██████████| 2/2 [00:02<00:00,  1.05s/it]"
     ]
    },
    {
     "name": "stdout",
     "output_type": "stream",
     "text": [
      "                   all         87       1138      0.874      0.883       0.94      0.699\n"
     ]
    },
    {
     "name": "stderr",
     "output_type": "stream",
     "text": [
      "\n"
     ]
    },
    {
     "name": "stdout",
     "output_type": "stream",
     "text": [
      "\n",
      "      Epoch    GPU_mem     box_om     cls_om     dfl_om     box_oo     cls_oo     dfl_oo  Instances       Size\n"
     ]
    },
    {
     "name": "stderr",
     "output_type": "stream",
     "text": [
      "    152/200      6.57G     0.9934     0.6967      1.302      1.028     0.7327      1.301        239        640: 100%|██████████| 12/12 [00:06<00:00,  1.87it/s]\n",
      "                 Class     Images  Instances      Box(P          R      mAP50  mAP50-95): 100%|██████████| 2/2 [00:01<00:00,  1.87it/s]"
     ]
    },
    {
     "name": "stdout",
     "output_type": "stream",
     "text": [
      "                   all         87       1138      0.899      0.858      0.937        0.7\n"
     ]
    },
    {
     "name": "stderr",
     "output_type": "stream",
     "text": [
      "\n"
     ]
    },
    {
     "name": "stdout",
     "output_type": "stream",
     "text": [
      "\n",
      "      Epoch    GPU_mem     box_om     cls_om     dfl_om     box_oo     cls_oo     dfl_oo  Instances       Size\n"
     ]
    },
    {
     "name": "stderr",
     "output_type": "stream",
     "text": [
      "    153/200      6.35G     0.9968     0.6811      1.287      1.038     0.7082      1.285        371        640: 100%|██████████| 12/12 [00:07<00:00,  1.58it/s]\n",
      "                 Class     Images  Instances      Box(P          R      mAP50  mAP50-95): 100%|██████████| 2/2 [00:02<00:00,  1.07s/it]"
     ]
    },
    {
     "name": "stdout",
     "output_type": "stream",
     "text": [
      "                   all         87       1138      0.898      0.838      0.936      0.694\n"
     ]
    },
    {
     "name": "stderr",
     "output_type": "stream",
     "text": [
      "\n"
     ]
    },
    {
     "name": "stdout",
     "output_type": "stream",
     "text": [
      "\n",
      "      Epoch    GPU_mem     box_om     cls_om     dfl_om     box_oo     cls_oo     dfl_oo  Instances       Size\n"
     ]
    },
    {
     "name": "stderr",
     "output_type": "stream",
     "text": [
      "    154/200      6.04G      1.006      0.696      1.298      1.045     0.7304      1.298        205        640: 100%|██████████| 12/12 [00:06<00:00,  1.95it/s]\n",
      "                 Class     Images  Instances      Box(P          R      mAP50  mAP50-95): 100%|██████████| 2/2 [00:01<00:00,  1.55it/s]"
     ]
    },
    {
     "name": "stdout",
     "output_type": "stream",
     "text": [
      "                   all         87       1138       0.91      0.867      0.945      0.704\n"
     ]
    },
    {
     "name": "stderr",
     "output_type": "stream",
     "text": [
      "\n"
     ]
    },
    {
     "name": "stdout",
     "output_type": "stream",
     "text": [
      "\n",
      "      Epoch    GPU_mem     box_om     cls_om     dfl_om     box_oo     cls_oo     dfl_oo  Instances       Size\n"
     ]
    },
    {
     "name": "stderr",
     "output_type": "stream",
     "text": [
      "    155/200         6G      1.002     0.7043      1.297      1.043     0.7314      1.298        317        640: 100%|██████████| 12/12 [00:08<00:00,  1.44it/s]\n",
      "                 Class     Images  Instances      Box(P          R      mAP50  mAP50-95): 100%|██████████| 2/2 [00:01<00:00,  1.14it/s]"
     ]
    },
    {
     "name": "stdout",
     "output_type": "stream",
     "text": [
      "                   all         87       1138      0.915      0.852      0.949       0.71\n"
     ]
    },
    {
     "name": "stderr",
     "output_type": "stream",
     "text": [
      "\n"
     ]
    },
    {
     "name": "stdout",
     "output_type": "stream",
     "text": [
      "\n",
      "      Epoch    GPU_mem     box_om     cls_om     dfl_om     box_oo     cls_oo     dfl_oo  Instances       Size\n"
     ]
    },
    {
     "name": "stderr",
     "output_type": "stream",
     "text": [
      "    156/200      6.12G     0.9863     0.6853      1.292      1.022      0.708       1.29        319        640: 100%|██████████| 12/12 [00:06<00:00,  1.94it/s]\n",
      "                 Class     Images  Instances      Box(P          R      mAP50  mAP50-95): 100%|██████████| 2/2 [00:01<00:00,  1.71it/s]"
     ]
    },
    {
     "name": "stdout",
     "output_type": "stream",
     "text": [
      "                   all         87       1138      0.863      0.888      0.943      0.702\n"
     ]
    },
    {
     "name": "stderr",
     "output_type": "stream",
     "text": [
      "\n"
     ]
    },
    {
     "name": "stdout",
     "output_type": "stream",
     "text": [
      "\n",
      "      Epoch    GPU_mem     box_om     cls_om     dfl_om     box_oo     cls_oo     dfl_oo  Instances       Size\n"
     ]
    },
    {
     "name": "stderr",
     "output_type": "stream",
     "text": [
      "    157/200      6.28G     0.9856     0.6868      1.286      1.027     0.7202      1.287        269        640: 100%|██████████| 12/12 [00:08<00:00,  1.41it/s]\n",
      "                 Class     Images  Instances      Box(P          R      mAP50  mAP50-95): 100%|██████████| 2/2 [00:01<00:00,  1.62it/s]"
     ]
    },
    {
     "name": "stdout",
     "output_type": "stream",
     "text": [
      "                   all         87       1138      0.928      0.851      0.947      0.712\n"
     ]
    },
    {
     "name": "stderr",
     "output_type": "stream",
     "text": [
      "\n"
     ]
    },
    {
     "name": "stdout",
     "output_type": "stream",
     "text": [
      "\n",
      "      Epoch    GPU_mem     box_om     cls_om     dfl_om     box_oo     cls_oo     dfl_oo  Instances       Size\n"
     ]
    },
    {
     "name": "stderr",
     "output_type": "stream",
     "text": [
      "    158/200      6.38G     0.9793     0.6707      1.283      1.012      0.706       1.28        284        640: 100%|██████████| 12/12 [00:06<00:00,  1.97it/s]\n",
      "                 Class     Images  Instances      Box(P          R      mAP50  mAP50-95): 100%|██████████| 2/2 [00:01<00:00,  1.75it/s]"
     ]
    },
    {
     "name": "stdout",
     "output_type": "stream",
     "text": [
      "                   all         87       1138      0.902      0.861      0.939      0.696\n"
     ]
    },
    {
     "name": "stderr",
     "output_type": "stream",
     "text": [
      "\n"
     ]
    },
    {
     "name": "stdout",
     "output_type": "stream",
     "text": [
      "\n",
      "      Epoch    GPU_mem     box_om     cls_om     dfl_om     box_oo     cls_oo     dfl_oo  Instances       Size\n"
     ]
    },
    {
     "name": "stderr",
     "output_type": "stream",
     "text": [
      "    159/200      6.32G      1.018     0.7074      1.305      1.054     0.7388        1.3        335        640: 100%|██████████| 12/12 [00:08<00:00,  1.40it/s]\n",
      "                 Class     Images  Instances      Box(P          R      mAP50  mAP50-95): 100%|██████████| 2/2 [00:01<00:00,  1.79it/s]"
     ]
    },
    {
     "name": "stdout",
     "output_type": "stream",
     "text": [
      "                   all         87       1138      0.844      0.903      0.944      0.704\n"
     ]
    },
    {
     "name": "stderr",
     "output_type": "stream",
     "text": [
      "\n"
     ]
    },
    {
     "name": "stdout",
     "output_type": "stream",
     "text": [
      "\n",
      "      Epoch    GPU_mem     box_om     cls_om     dfl_om     box_oo     cls_oo     dfl_oo  Instances       Size\n"
     ]
    },
    {
     "name": "stderr",
     "output_type": "stream",
     "text": [
      "    160/200       6.4G     0.9839     0.6873      1.281       1.02     0.7082      1.279        293        640: 100%|██████████| 12/12 [00:06<00:00,  1.88it/s]\n",
      "                 Class     Images  Instances      Box(P          R      mAP50  mAP50-95): 100%|██████████| 2/2 [00:01<00:00,  1.08it/s]"
     ]
    },
    {
     "name": "stdout",
     "output_type": "stream",
     "text": [
      "                   all         87       1138      0.837      0.883      0.931      0.699\n"
     ]
    },
    {
     "name": "stderr",
     "output_type": "stream",
     "text": [
      "\n"
     ]
    },
    {
     "name": "stdout",
     "output_type": "stream",
     "text": [
      "\n",
      "      Epoch    GPU_mem     box_om     cls_om     dfl_om     box_oo     cls_oo     dfl_oo  Instances       Size\n"
     ]
    },
    {
     "name": "stderr",
     "output_type": "stream",
     "text": [
      "    161/200       6.9G     0.9862     0.6754      1.286      1.024     0.7005      1.285        316        640: 100%|██████████| 12/12 [00:08<00:00,  1.50it/s]\n",
      "                 Class     Images  Instances      Box(P          R      mAP50  mAP50-95): 100%|██████████| 2/2 [00:01<00:00,  1.74it/s]"
     ]
    },
    {
     "name": "stdout",
     "output_type": "stream",
     "text": [
      "                   all         87       1138      0.871      0.905      0.946      0.709\n"
     ]
    },
    {
     "name": "stderr",
     "output_type": "stream",
     "text": [
      "\n"
     ]
    },
    {
     "name": "stdout",
     "output_type": "stream",
     "text": [
      "\n",
      "      Epoch    GPU_mem     box_om     cls_om     dfl_om     box_oo     cls_oo     dfl_oo  Instances       Size\n"
     ]
    },
    {
     "name": "stderr",
     "output_type": "stream",
     "text": [
      "    162/200      6.52G     0.9862     0.6887      1.288      1.022     0.7109      1.288        199        640: 100%|██████████| 12/12 [00:06<00:00,  1.85it/s]\n",
      "                 Class     Images  Instances      Box(P          R      mAP50  mAP50-95): 100%|██████████| 2/2 [00:01<00:00,  1.08it/s]"
     ]
    },
    {
     "name": "stdout",
     "output_type": "stream",
     "text": [
      "                   all         87       1138      0.927      0.863       0.95      0.713\n"
     ]
    },
    {
     "name": "stderr",
     "output_type": "stream",
     "text": [
      "\n"
     ]
    },
    {
     "name": "stdout",
     "output_type": "stream",
     "text": [
      "\n",
      "      Epoch    GPU_mem     box_om     cls_om     dfl_om     box_oo     cls_oo     dfl_oo  Instances       Size\n"
     ]
    },
    {
     "name": "stderr",
     "output_type": "stream",
     "text": [
      "    163/200      6.11G     0.9615     0.6648      1.271     0.9948     0.6815      1.267        262        640: 100%|██████████| 12/12 [00:07<00:00,  1.64it/s]\n",
      "                 Class     Images  Instances      Box(P          R      mAP50  mAP50-95): 100%|██████████| 2/2 [00:01<00:00,  1.61it/s]"
     ]
    },
    {
     "name": "stdout",
     "output_type": "stream",
     "text": [
      "                   all         87       1138      0.901      0.896      0.951      0.715\n"
     ]
    },
    {
     "name": "stderr",
     "output_type": "stream",
     "text": [
      "\n"
     ]
    },
    {
     "name": "stdout",
     "output_type": "stream",
     "text": [
      "\n",
      "      Epoch    GPU_mem     box_om     cls_om     dfl_om     box_oo     cls_oo     dfl_oo  Instances       Size\n"
     ]
    },
    {
     "name": "stderr",
     "output_type": "stream",
     "text": [
      "    164/200      6.38G     0.9857     0.6782      1.277      1.028     0.7093      1.275        283        640: 100%|██████████| 12/12 [00:07<00:00,  1.69it/s]\n",
      "                 Class     Images  Instances      Box(P          R      mAP50  mAP50-95): 100%|██████████| 2/2 [00:02<00:00,  1.02s/it]"
     ]
    },
    {
     "name": "stdout",
     "output_type": "stream",
     "text": [
      "                   all         87       1138      0.882      0.877       0.94      0.704\n"
     ]
    },
    {
     "name": "stderr",
     "output_type": "stream",
     "text": [
      "\n"
     ]
    },
    {
     "name": "stdout",
     "output_type": "stream",
     "text": [
      "\n",
      "      Epoch    GPU_mem     box_om     cls_om     dfl_om     box_oo     cls_oo     dfl_oo  Instances       Size\n"
     ]
    },
    {
     "name": "stderr",
     "output_type": "stream",
     "text": [
      "    165/200      6.46G     0.9899     0.6905      1.288      1.033     0.7176      1.292        194        640: 100%|██████████| 12/12 [00:06<00:00,  1.85it/s]\n",
      "                 Class     Images  Instances      Box(P          R      mAP50  mAP50-95): 100%|██████████| 2/2 [00:01<00:00,  1.62it/s]"
     ]
    },
    {
     "name": "stdout",
     "output_type": "stream",
     "text": [
      "                   all         87       1138       0.88      0.895       0.95      0.712\n"
     ]
    },
    {
     "name": "stderr",
     "output_type": "stream",
     "text": [
      "\n"
     ]
    },
    {
     "name": "stdout",
     "output_type": "stream",
     "text": [
      "\n",
      "      Epoch    GPU_mem     box_om     cls_om     dfl_om     box_oo     cls_oo     dfl_oo  Instances       Size\n"
     ]
    },
    {
     "name": "stderr",
     "output_type": "stream",
     "text": [
      "    166/200      6.39G     0.9832     0.6774      1.272      1.022     0.7022       1.27        323        640: 100%|██████████| 12/12 [00:07<00:00,  1.62it/s]\n",
      "                 Class     Images  Instances      Box(P          R      mAP50  mAP50-95): 100%|██████████| 2/2 [00:02<00:00,  1.11s/it]"
     ]
    },
    {
     "name": "stdout",
     "output_type": "stream",
     "text": [
      "                   all         87       1138      0.885      0.887      0.947      0.717\n"
     ]
    },
    {
     "name": "stderr",
     "output_type": "stream",
     "text": [
      "\n"
     ]
    },
    {
     "name": "stdout",
     "output_type": "stream",
     "text": [
      "\n",
      "      Epoch    GPU_mem     box_om     cls_om     dfl_om     box_oo     cls_oo     dfl_oo  Instances       Size\n"
     ]
    },
    {
     "name": "stderr",
     "output_type": "stream",
     "text": [
      "    167/200       6.4G     0.9727      0.671      1.277      1.011        0.7      1.274        308        640: 100%|██████████| 12/12 [00:06<00:00,  1.91it/s]\n",
      "                 Class     Images  Instances      Box(P          R      mAP50  mAP50-95): 100%|██████████| 2/2 [00:01<00:00,  1.96it/s]"
     ]
    },
    {
     "name": "stdout",
     "output_type": "stream",
     "text": [
      "                   all         87       1138      0.906       0.89       0.95      0.716\n"
     ]
    },
    {
     "name": "stderr",
     "output_type": "stream",
     "text": [
      "\n"
     ]
    },
    {
     "name": "stdout",
     "output_type": "stream",
     "text": [
      "\n",
      "      Epoch    GPU_mem     box_om     cls_om     dfl_om     box_oo     cls_oo     dfl_oo  Instances       Size\n"
     ]
    },
    {
     "name": "stderr",
     "output_type": "stream",
     "text": [
      "    168/200      6.37G     0.9678     0.6715       1.28      1.007     0.6955      1.278        256        640: 100%|██████████| 12/12 [00:08<00:00,  1.40it/s]\n",
      "                 Class     Images  Instances      Box(P          R      mAP50  mAP50-95): 100%|██████████| 2/2 [00:01<00:00,  1.36it/s]"
     ]
    },
    {
     "name": "stdout",
     "output_type": "stream",
     "text": [
      "                   all         87       1138      0.872      0.908      0.946      0.711\n"
     ]
    },
    {
     "name": "stderr",
     "output_type": "stream",
     "text": [
      "\n"
     ]
    },
    {
     "name": "stdout",
     "output_type": "stream",
     "text": [
      "\n",
      "      Epoch    GPU_mem     box_om     cls_om     dfl_om     box_oo     cls_oo     dfl_oo  Instances       Size\n"
     ]
    },
    {
     "name": "stderr",
     "output_type": "stream",
     "text": [
      "    169/200       6.3G     0.9782      0.676      1.282      1.017     0.6947      1.277        300        640: 100%|██████████| 12/12 [00:06<00:00,  1.98it/s]\n",
      "                 Class     Images  Instances      Box(P          R      mAP50  mAP50-95): 100%|██████████| 2/2 [00:01<00:00,  1.65it/s]"
     ]
    },
    {
     "name": "stdout",
     "output_type": "stream",
     "text": [
      "                   all         87       1138      0.876      0.889       0.95      0.713\n"
     ]
    },
    {
     "name": "stderr",
     "output_type": "stream",
     "text": [
      "\n"
     ]
    },
    {
     "name": "stdout",
     "output_type": "stream",
     "text": [
      "\n",
      "      Epoch    GPU_mem     box_om     cls_om     dfl_om     box_oo     cls_oo     dfl_oo  Instances       Size\n"
     ]
    },
    {
     "name": "stderr",
     "output_type": "stream",
     "text": [
      "    170/200      6.77G     0.9757      0.674      1.273      1.015     0.7011      1.274        302        640: 100%|██████████| 12/12 [00:08<00:00,  1.35it/s]\n",
      "                 Class     Images  Instances      Box(P          R      mAP50  mAP50-95): 100%|██████████| 2/2 [00:01<00:00,  1.42it/s]"
     ]
    },
    {
     "name": "stdout",
     "output_type": "stream",
     "text": [
      "                   all         87       1138      0.885      0.868      0.945      0.718\n"
     ]
    },
    {
     "name": "stderr",
     "output_type": "stream",
     "text": [
      "\n"
     ]
    },
    {
     "name": "stdout",
     "output_type": "stream",
     "text": [
      "\n",
      "      Epoch    GPU_mem     box_om     cls_om     dfl_om     box_oo     cls_oo     dfl_oo  Instances       Size\n"
     ]
    },
    {
     "name": "stderr",
     "output_type": "stream",
     "text": [
      "    171/200      6.43G     0.9788     0.6765      1.285      1.019     0.7062      1.285        258        640: 100%|██████████| 12/12 [00:06<00:00,  1.93it/s]\n",
      "                 Class     Images  Instances      Box(P          R      mAP50  mAP50-95): 100%|██████████| 2/2 [00:01<00:00,  1.49it/s]"
     ]
    },
    {
     "name": "stdout",
     "output_type": "stream",
     "text": [
      "                   all         87       1138      0.888      0.898      0.951      0.721\n"
     ]
    },
    {
     "name": "stderr",
     "output_type": "stream",
     "text": [
      "\n"
     ]
    },
    {
     "name": "stdout",
     "output_type": "stream",
     "text": [
      "\n",
      "      Epoch    GPU_mem     box_om     cls_om     dfl_om     box_oo     cls_oo     dfl_oo  Instances       Size\n"
     ]
    },
    {
     "name": "stderr",
     "output_type": "stream",
     "text": [
      "    172/200      7.16G     0.9813     0.6802      1.284      1.023     0.6992      1.283        250        640: 100%|██████████| 12/12 [00:08<00:00,  1.43it/s]\n",
      "                 Class     Images  Instances      Box(P          R      mAP50  mAP50-95): 100%|██████████| 2/2 [00:01<00:00,  1.43it/s]"
     ]
    },
    {
     "name": "stdout",
     "output_type": "stream",
     "text": [
      "                   all         87       1138      0.875      0.916      0.949      0.714\n"
     ]
    },
    {
     "name": "stderr",
     "output_type": "stream",
     "text": [
      "\n"
     ]
    },
    {
     "name": "stdout",
     "output_type": "stream",
     "text": [
      "\n",
      "      Epoch    GPU_mem     box_om     cls_om     dfl_om     box_oo     cls_oo     dfl_oo  Instances       Size\n"
     ]
    },
    {
     "name": "stderr",
     "output_type": "stream",
     "text": [
      "    173/200      6.97G     0.9795     0.6663      1.274      1.018      0.703      1.276        289        640: 100%|██████████| 12/12 [00:06<00:00,  1.89it/s]\n",
      "                 Class     Images  Instances      Box(P          R      mAP50  mAP50-95): 100%|██████████| 2/2 [00:01<00:00,  1.09it/s]"
     ]
    },
    {
     "name": "stdout",
     "output_type": "stream",
     "text": [
      "                   all         87       1138      0.894      0.878      0.944      0.717\n"
     ]
    },
    {
     "name": "stderr",
     "output_type": "stream",
     "text": [
      "\n"
     ]
    },
    {
     "name": "stdout",
     "output_type": "stream",
     "text": [
      "\n",
      "      Epoch    GPU_mem     box_om     cls_om     dfl_om     box_oo     cls_oo     dfl_oo  Instances       Size\n"
     ]
    },
    {
     "name": "stderr",
     "output_type": "stream",
     "text": [
      "    174/200      5.98G     0.9652     0.6679       1.27     0.9985     0.6918      1.267        295        640: 100%|██████████| 12/12 [00:07<00:00,  1.57it/s]\n",
      "                 Class     Images  Instances      Box(P          R      mAP50  mAP50-95): 100%|██████████| 2/2 [00:01<00:00,  1.66it/s]"
     ]
    },
    {
     "name": "stdout",
     "output_type": "stream",
     "text": [
      "                   all         87       1138      0.916      0.866      0.951      0.719\n"
     ]
    },
    {
     "name": "stderr",
     "output_type": "stream",
     "text": [
      "\n"
     ]
    },
    {
     "name": "stdout",
     "output_type": "stream",
     "text": [
      "\n",
      "      Epoch    GPU_mem     box_om     cls_om     dfl_om     box_oo     cls_oo     dfl_oo  Instances       Size\n"
     ]
    },
    {
     "name": "stderr",
     "output_type": "stream",
     "text": [
      "    175/200      6.79G      0.964     0.6661      1.274      1.006     0.6818      1.275        308        640: 100%|██████████| 12/12 [00:06<00:00,  1.79it/s]\n",
      "                 Class     Images  Instances      Box(P          R      mAP50  mAP50-95): 100%|██████████| 2/2 [00:02<00:00,  1.00s/it]"
     ]
    },
    {
     "name": "stdout",
     "output_type": "stream",
     "text": [
      "                   all         87       1138      0.836      0.945      0.947      0.717\n"
     ]
    },
    {
     "name": "stderr",
     "output_type": "stream",
     "text": [
      "\n"
     ]
    },
    {
     "name": "stdout",
     "output_type": "stream",
     "text": [
      "\n",
      "      Epoch    GPU_mem     box_om     cls_om     dfl_om     box_oo     cls_oo     dfl_oo  Instances       Size\n"
     ]
    },
    {
     "name": "stderr",
     "output_type": "stream",
     "text": [
      "    176/200      6.94G     0.9823     0.6636      1.279       1.02     0.6919      1.277        341        640: 100%|██████████| 12/12 [00:06<00:00,  1.77it/s]\n",
      "                 Class     Images  Instances      Box(P          R      mAP50  mAP50-95): 100%|██████████| 2/2 [00:01<00:00,  1.63it/s]"
     ]
    },
    {
     "name": "stdout",
     "output_type": "stream",
     "text": [
      "                   all         87       1138       0.87      0.879      0.943      0.709\n"
     ]
    },
    {
     "name": "stderr",
     "output_type": "stream",
     "text": [
      "\n"
     ]
    },
    {
     "name": "stdout",
     "output_type": "stream",
     "text": [
      "\n",
      "      Epoch    GPU_mem     box_om     cls_om     dfl_om     box_oo     cls_oo     dfl_oo  Instances       Size\n"
     ]
    },
    {
     "name": "stderr",
     "output_type": "stream",
     "text": [
      "    177/200       6.6G     0.9647     0.6601      1.273      1.001     0.6934      1.271        293        640: 100%|██████████| 12/12 [00:07<00:00,  1.63it/s]\n",
      "                 Class     Images  Instances      Box(P          R      mAP50  mAP50-95): 100%|██████████| 2/2 [00:02<00:00,  1.04s/it]"
     ]
    },
    {
     "name": "stdout",
     "output_type": "stream",
     "text": [
      "                   all         87       1138      0.911      0.871       0.95      0.726\n"
     ]
    },
    {
     "name": "stderr",
     "output_type": "stream",
     "text": [
      "\n"
     ]
    },
    {
     "name": "stdout",
     "output_type": "stream",
     "text": [
      "\n",
      "      Epoch    GPU_mem     box_om     cls_om     dfl_om     box_oo     cls_oo     dfl_oo  Instances       Size\n"
     ]
    },
    {
     "name": "stderr",
     "output_type": "stream",
     "text": [
      "    178/200      6.47G     0.9801     0.6768       1.28      1.018     0.7121      1.279        325        640: 100%|██████████| 12/12 [00:06<00:00,  1.91it/s]\n",
      "                 Class     Images  Instances      Box(P          R      mAP50  mAP50-95): 100%|██████████| 2/2 [00:01<00:00,  1.91it/s]"
     ]
    },
    {
     "name": "stdout",
     "output_type": "stream",
     "text": [
      "                   all         87       1138      0.882      0.899      0.947      0.714\n"
     ]
    },
    {
     "name": "stderr",
     "output_type": "stream",
     "text": [
      "\n"
     ]
    },
    {
     "name": "stdout",
     "output_type": "stream",
     "text": [
      "\n",
      "      Epoch    GPU_mem     box_om     cls_om     dfl_om     box_oo     cls_oo     dfl_oo  Instances       Size\n"
     ]
    },
    {
     "name": "stderr",
     "output_type": "stream",
     "text": [
      "    179/200      6.91G     0.9572     0.6649      1.265     0.9943     0.6913      1.267        275        640: 100%|██████████| 12/12 [00:08<00:00,  1.45it/s]\n",
      "                 Class     Images  Instances      Box(P          R      mAP50  mAP50-95): 100%|██████████| 2/2 [00:01<00:00,  1.14it/s]"
     ]
    },
    {
     "name": "stdout",
     "output_type": "stream",
     "text": [
      "                   all         87       1138      0.902      0.886      0.948       0.72\n"
     ]
    },
    {
     "name": "stderr",
     "output_type": "stream",
     "text": [
      "\n"
     ]
    },
    {
     "name": "stdout",
     "output_type": "stream",
     "text": [
      "\n",
      "      Epoch    GPU_mem     box_om     cls_om     dfl_om     box_oo     cls_oo     dfl_oo  Instances       Size\n"
     ]
    },
    {
     "name": "stderr",
     "output_type": "stream",
     "text": [
      "    180/200      6.47G      0.975     0.6775      1.271      1.019     0.7041      1.274        322        640: 100%|██████████| 12/12 [00:06<00:00,  1.93it/s]\n",
      "                 Class     Images  Instances      Box(P          R      mAP50  mAP50-95): 100%|██████████| 2/2 [00:00<00:00,  2.01it/s]"
     ]
    },
    {
     "name": "stdout",
     "output_type": "stream",
     "text": [
      "                   all         87       1138      0.853      0.925      0.949      0.723\n"
     ]
    },
    {
     "name": "stderr",
     "output_type": "stream",
     "text": [
      "\n"
     ]
    },
    {
     "name": "stdout",
     "output_type": "stream",
     "text": [
      "\n",
      "      Epoch    GPU_mem     box_om     cls_om     dfl_om     box_oo     cls_oo     dfl_oo  Instances       Size\n"
     ]
    },
    {
     "name": "stderr",
     "output_type": "stream",
     "text": [
      "    181/200      6.49G     0.9695     0.6692      1.268      1.007     0.6919      1.265        272        640: 100%|██████████| 12/12 [00:08<00:00,  1.37it/s]\n",
      "                 Class     Images  Instances      Box(P          R      mAP50  mAP50-95): 100%|██████████| 2/2 [00:01<00:00,  1.29it/s]"
     ]
    },
    {
     "name": "stdout",
     "output_type": "stream",
     "text": [
      "                   all         87       1138      0.903      0.887      0.955      0.729\n"
     ]
    },
    {
     "name": "stderr",
     "output_type": "stream",
     "text": [
      "\n"
     ]
    },
    {
     "name": "stdout",
     "output_type": "stream",
     "text": [
      "\n",
      "      Epoch    GPU_mem     box_om     cls_om     dfl_om     box_oo     cls_oo     dfl_oo  Instances       Size\n"
     ]
    },
    {
     "name": "stderr",
     "output_type": "stream",
     "text": [
      "    182/200      6.74G     0.9614      0.666      1.266      1.003     0.6913      1.266        301        640: 100%|██████████| 12/12 [00:06<00:00,  1.96it/s]\n",
      "                 Class     Images  Instances      Box(P          R      mAP50  mAP50-95): 100%|██████████| 2/2 [00:01<00:00,  1.73it/s]"
     ]
    },
    {
     "name": "stdout",
     "output_type": "stream",
     "text": [
      "                   all         87       1138      0.881       0.89      0.943       0.71\n"
     ]
    },
    {
     "name": "stderr",
     "output_type": "stream",
     "text": [
      "\n"
     ]
    },
    {
     "name": "stdout",
     "output_type": "stream",
     "text": [
      "\n",
      "      Epoch    GPU_mem     box_om     cls_om     dfl_om     box_oo     cls_oo     dfl_oo  Instances       Size\n"
     ]
    },
    {
     "name": "stderr",
     "output_type": "stream",
     "text": [
      "    183/200      6.23G      0.972     0.6666      1.273       1.01     0.6853       1.27        341        640: 100%|██████████| 12/12 [00:09<00:00,  1.31it/s]\n",
      "                 Class     Images  Instances      Box(P          R      mAP50  mAP50-95): 100%|██████████| 2/2 [00:01<00:00,  1.46it/s]"
     ]
    },
    {
     "name": "stdout",
     "output_type": "stream",
     "text": [
      "                   all         87       1138      0.894      0.886      0.953      0.721\n"
     ]
    },
    {
     "name": "stderr",
     "output_type": "stream",
     "text": [
      "\n"
     ]
    },
    {
     "name": "stdout",
     "output_type": "stream",
     "text": [
      "\n",
      "      Epoch    GPU_mem     box_om     cls_om     dfl_om     box_oo     cls_oo     dfl_oo  Instances       Size\n"
     ]
    },
    {
     "name": "stderr",
     "output_type": "stream",
     "text": [
      "    184/200      6.03G     0.9528     0.6704      1.261     0.9912     0.6979      1.259        253        640: 100%|██████████| 12/12 [00:06<00:00,  1.90it/s]\n",
      "                 Class     Images  Instances      Box(P          R      mAP50  mAP50-95): 100%|██████████| 2/2 [00:01<00:00,  1.77it/s]"
     ]
    },
    {
     "name": "stdout",
     "output_type": "stream",
     "text": [
      "                   all         87       1138      0.886      0.893      0.951      0.727\n"
     ]
    },
    {
     "name": "stderr",
     "output_type": "stream",
     "text": [
      "\n"
     ]
    },
    {
     "name": "stdout",
     "output_type": "stream",
     "text": [
      "\n",
      "      Epoch    GPU_mem     box_om     cls_om     dfl_om     box_oo     cls_oo     dfl_oo  Instances       Size\n"
     ]
    },
    {
     "name": "stderr",
     "output_type": "stream",
     "text": [
      "    185/200      6.27G     0.9797      0.675      1.282      1.015     0.7032      1.277        416        640: 100%|██████████| 12/12 [00:08<00:00,  1.36it/s]\n",
      "                 Class     Images  Instances      Box(P          R      mAP50  mAP50-95): 100%|██████████| 2/2 [00:01<00:00,  1.72it/s]"
     ]
    },
    {
     "name": "stdout",
     "output_type": "stream",
     "text": [
      "                   all         87       1138      0.853      0.914      0.954      0.725\n"
     ]
    },
    {
     "name": "stderr",
     "output_type": "stream",
     "text": [
      "\n"
     ]
    },
    {
     "name": "stdout",
     "output_type": "stream",
     "text": [
      "\n",
      "      Epoch    GPU_mem     box_om     cls_om     dfl_om     box_oo     cls_oo     dfl_oo  Instances       Size\n"
     ]
    },
    {
     "name": "stderr",
     "output_type": "stream",
     "text": [
      "    186/200      6.72G     0.9806     0.6742      1.281       1.02     0.7041       1.28        241        640: 100%|██████████| 12/12 [00:06<00:00,  1.90it/s]\n",
      "                 Class     Images  Instances      Box(P          R      mAP50  mAP50-95): 100%|██████████| 2/2 [00:01<00:00,  1.10it/s]"
     ]
    },
    {
     "name": "stdout",
     "output_type": "stream",
     "text": [
      "                   all         87       1138      0.914      0.883      0.954       0.73\n"
     ]
    },
    {
     "name": "stderr",
     "output_type": "stream",
     "text": [
      "\n"
     ]
    },
    {
     "name": "stdout",
     "output_type": "stream",
     "text": [
      "\n",
      "      Epoch    GPU_mem     box_om     cls_om     dfl_om     box_oo     cls_oo     dfl_oo  Instances       Size\n"
     ]
    },
    {
     "name": "stderr",
     "output_type": "stream",
     "text": [
      "    187/200       6.8G     0.9593     0.6625      1.261     0.9968     0.6847       1.26        251        640: 100%|██████████| 12/12 [00:07<00:00,  1.58it/s]\n",
      "                 Class     Images  Instances      Box(P          R      mAP50  mAP50-95): 100%|██████████| 2/2 [00:01<00:00,  1.64it/s]"
     ]
    },
    {
     "name": "stdout",
     "output_type": "stream",
     "text": [
      "                   all         87       1138      0.904      0.891      0.953      0.729\n"
     ]
    },
    {
     "name": "stderr",
     "output_type": "stream",
     "text": [
      "\n"
     ]
    },
    {
     "name": "stdout",
     "output_type": "stream",
     "text": [
      "\n",
      "      Epoch    GPU_mem     box_om     cls_om     dfl_om     box_oo     cls_oo     dfl_oo  Instances       Size\n"
     ]
    },
    {
     "name": "stderr",
     "output_type": "stream",
     "text": [
      "    188/200      6.42G     0.9595     0.6544      1.262     0.9953     0.6798      1.261        335        640: 100%|██████████| 12/12 [00:06<00:00,  1.79it/s]\n",
      "                 Class     Images  Instances      Box(P          R      mAP50  mAP50-95): 100%|██████████| 2/2 [00:01<00:00,  1.04it/s]"
     ]
    },
    {
     "name": "stdout",
     "output_type": "stream",
     "text": [
      "                   all         87       1138      0.903      0.898      0.955      0.727\n"
     ]
    },
    {
     "name": "stderr",
     "output_type": "stream",
     "text": [
      "\n"
     ]
    },
    {
     "name": "stdout",
     "output_type": "stream",
     "text": [
      "\n",
      "      Epoch    GPU_mem     box_om     cls_om     dfl_om     box_oo     cls_oo     dfl_oo  Instances       Size\n"
     ]
    },
    {
     "name": "stderr",
     "output_type": "stream",
     "text": [
      "    189/200       6.3G     0.9594     0.6483      1.268      0.996     0.6676      1.266        280        640: 100%|██████████| 12/12 [00:06<00:00,  1.75it/s]\n",
      "                 Class     Images  Instances      Box(P          R      mAP50  mAP50-95): 100%|██████████| 2/2 [00:01<00:00,  1.60it/s]"
     ]
    },
    {
     "name": "stdout",
     "output_type": "stream",
     "text": [
      "                   all         87       1138      0.888      0.889      0.952      0.724\n"
     ]
    },
    {
     "name": "stderr",
     "output_type": "stream",
     "text": [
      "\n"
     ]
    },
    {
     "name": "stdout",
     "output_type": "stream",
     "text": [
      "\n",
      "      Epoch    GPU_mem     box_om     cls_om     dfl_om     box_oo     cls_oo     dfl_oo  Instances       Size\n"
     ]
    },
    {
     "name": "stderr",
     "output_type": "stream",
     "text": [
      "    190/200      6.56G     0.9371     0.6554      1.254     0.9779     0.6773      1.253        295        640: 100%|██████████| 12/12 [00:07<00:00,  1.70it/s]\n",
      "                 Class     Images  Instances      Box(P          R      mAP50  mAP50-95): 100%|██████████| 2/2 [00:01<00:00,  1.00it/s]"
     ]
    },
    {
     "name": "stdout",
     "output_type": "stream",
     "text": [
      "                   all         87       1138      0.879      0.906      0.952      0.729\n"
     ]
    },
    {
     "name": "stderr",
     "output_type": "stream",
     "text": [
      "\n"
     ]
    },
    {
     "name": "stdout",
     "output_type": "stream",
     "text": [
      "Closing dataloader mosaic\n",
      "\u001b[34m\u001b[1malbumentations: \u001b[0mBlur(p=0.01, blur_limit=(3, 7)), MedianBlur(p=0.01, blur_limit=(3, 7)), ToGray(p=0.01, num_output_channels=3, method='weighted_average'), CLAHE(p=0.01, clip_limit=(1.0, 4.0), tile_grid_size=(8, 8))\n"
     ]
    },
    {
     "name": "stderr",
     "output_type": "stream",
     "text": [
      "/usr/local/lib/python3.10/dist-packages/albumentations/core/composition.py:205: UserWarning: Got processor for bboxes, but no transform to process it.\n",
      "  self._set_keys()\n"
     ]
    },
    {
     "name": "stdout",
     "output_type": "stream",
     "text": [
      "\n",
      "      Epoch    GPU_mem     box_om     cls_om     dfl_om     box_oo     cls_oo     dfl_oo  Instances       Size\n"
     ]
    },
    {
     "name": "stderr",
     "output_type": "stream",
     "text": [
      "    191/200      5.92G     0.9508     0.6871      1.273     0.9802     0.6765      1.263        157        640: 100%|██████████| 12/12 [00:08<00:00,  1.39it/s]\n",
      "                 Class     Images  Instances      Box(P          R      mAP50  mAP50-95): 100%|██████████| 2/2 [00:01<00:00,  1.69it/s]"
     ]
    },
    {
     "name": "stdout",
     "output_type": "stream",
     "text": [
      "                   all         87       1138      0.917      0.882      0.955      0.723\n"
     ]
    },
    {
     "name": "stderr",
     "output_type": "stream",
     "text": [
      "\n"
     ]
    },
    {
     "name": "stdout",
     "output_type": "stream",
     "text": [
      "\n",
      "      Epoch    GPU_mem     box_om     cls_om     dfl_om     box_oo     cls_oo     dfl_oo  Instances       Size\n"
     ]
    },
    {
     "name": "stderr",
     "output_type": "stream",
     "text": [
      "    192/200      5.75G     0.9355     0.6435      1.243     0.9605     0.6323       1.24        153        640: 100%|██████████| 12/12 [00:08<00:00,  1.45it/s]\n",
      "                 Class     Images  Instances      Box(P          R      mAP50  mAP50-95): 100%|██████████| 2/2 [00:01<00:00,  1.29it/s]"
     ]
    },
    {
     "name": "stdout",
     "output_type": "stream",
     "text": [
      "                   all         87       1138        0.9      0.886      0.952       0.72\n"
     ]
    },
    {
     "name": "stderr",
     "output_type": "stream",
     "text": [
      "\n"
     ]
    },
    {
     "name": "stdout",
     "output_type": "stream",
     "text": [
      "\n",
      "      Epoch    GPU_mem     box_om     cls_om     dfl_om     box_oo     cls_oo     dfl_oo  Instances       Size\n"
     ]
    },
    {
     "name": "stderr",
     "output_type": "stream",
     "text": [
      "    193/200      5.75G     0.9169      0.621      1.235     0.9425     0.6159       1.23        170        640: 100%|██████████| 12/12 [00:05<00:00,  2.05it/s]\n",
      "                 Class     Images  Instances      Box(P          R      mAP50  mAP50-95): 100%|██████████| 2/2 [00:01<00:00,  1.83it/s]"
     ]
    },
    {
     "name": "stdout",
     "output_type": "stream",
     "text": [
      "                   all         87       1138      0.891      0.879      0.951       0.72\n"
     ]
    },
    {
     "name": "stderr",
     "output_type": "stream",
     "text": [
      "\n"
     ]
    },
    {
     "name": "stdout",
     "output_type": "stream",
     "text": [
      "\n",
      "      Epoch    GPU_mem     box_om     cls_om     dfl_om     box_oo     cls_oo     dfl_oo  Instances       Size\n"
     ]
    },
    {
     "name": "stderr",
     "output_type": "stream",
     "text": [
      "    194/200      5.74G     0.9144     0.6103      1.229     0.9372     0.5977      1.221        170        640: 100%|██████████| 12/12 [00:08<00:00,  1.45it/s]\n",
      "                 Class     Images  Instances      Box(P          R      mAP50  mAP50-95): 100%|██████████| 2/2 [00:01<00:00,  1.16it/s]"
     ]
    },
    {
     "name": "stdout",
     "output_type": "stream",
     "text": [
      "                   all         87       1138      0.911      0.869      0.954      0.724\n"
     ]
    },
    {
     "name": "stderr",
     "output_type": "stream",
     "text": [
      "\n"
     ]
    },
    {
     "name": "stdout",
     "output_type": "stream",
     "text": [
      "\n",
      "      Epoch    GPU_mem     box_om     cls_om     dfl_om     box_oo     cls_oo     dfl_oo  Instances       Size\n"
     ]
    },
    {
     "name": "stderr",
     "output_type": "stream",
     "text": [
      "    195/200      5.75G     0.9059     0.6077      1.222     0.9363     0.5885      1.215        169        640: 100%|██████████| 12/12 [00:05<00:00,  2.04it/s]\n",
      "                 Class     Images  Instances      Box(P          R      mAP50  mAP50-95): 100%|██████████| 2/2 [00:00<00:00,  2.04it/s]"
     ]
    },
    {
     "name": "stdout",
     "output_type": "stream",
     "text": [
      "                   all         87       1138      0.913      0.888      0.951      0.725\n"
     ]
    },
    {
     "name": "stderr",
     "output_type": "stream",
     "text": [
      "\n"
     ]
    },
    {
     "name": "stdout",
     "output_type": "stream",
     "text": [
      "\n",
      "      Epoch    GPU_mem     box_om     cls_om     dfl_om     box_oo     cls_oo     dfl_oo  Instances       Size\n"
     ]
    },
    {
     "name": "stderr",
     "output_type": "stream",
     "text": [
      "    196/200      5.72G     0.9131     0.6086       1.24     0.9376     0.5966      1.231        166        640: 100%|██████████| 12/12 [00:08<00:00,  1.49it/s]\n",
      "                 Class     Images  Instances      Box(P          R      mAP50  mAP50-95): 100%|██████████| 2/2 [00:02<00:00,  1.05s/it]"
     ]
    },
    {
     "name": "stdout",
     "output_type": "stream",
     "text": [
      "                   all         87       1138      0.909      0.887      0.954      0.728\n"
     ]
    },
    {
     "name": "stderr",
     "output_type": "stream",
     "text": [
      "\n"
     ]
    },
    {
     "name": "stdout",
     "output_type": "stream",
     "text": [
      "\n",
      "      Epoch    GPU_mem     box_om     cls_om     dfl_om     box_oo     cls_oo     dfl_oo  Instances       Size\n"
     ]
    },
    {
     "name": "stderr",
     "output_type": "stream",
     "text": [
      "    197/200      5.79G     0.9052      0.609      1.227     0.9262     0.6029       1.22        152        640: 100%|██████████| 12/12 [00:05<00:00,  2.05it/s]\n",
      "                 Class     Images  Instances      Box(P          R      mAP50  mAP50-95): 100%|██████████| 2/2 [00:00<00:00,  2.11it/s]\n"
     ]
    },
    {
     "name": "stdout",
     "output_type": "stream",
     "text": [
      "                   all         87       1138      0.913       0.88      0.956      0.729\n",
      "\n",
      "      Epoch    GPU_mem     box_om     cls_om     dfl_om     box_oo     cls_oo     dfl_oo  Instances       Size\n"
     ]
    },
    {
     "name": "stderr",
     "output_type": "stream",
     "text": [
      "    198/200       5.7G     0.8939     0.5989      1.217     0.9224     0.5774      1.212        167        640: 100%|██████████| 12/12 [00:07<00:00,  1.59it/s]\n",
      "                 Class     Images  Instances      Box(P          R      mAP50  mAP50-95): 100%|██████████| 2/2 [00:02<00:00,  1.07s/it]"
     ]
    },
    {
     "name": "stdout",
     "output_type": "stream",
     "text": [
      "                   all         87       1138      0.921      0.872      0.956      0.731\n"
     ]
    },
    {
     "name": "stderr",
     "output_type": "stream",
     "text": [
      "\n"
     ]
    },
    {
     "name": "stdout",
     "output_type": "stream",
     "text": [
      "\n",
      "      Epoch    GPU_mem     box_om     cls_om     dfl_om     box_oo     cls_oo     dfl_oo  Instances       Size\n"
     ]
    },
    {
     "name": "stderr",
     "output_type": "stream",
     "text": [
      "    199/200      5.67G     0.8968      0.596      1.222     0.9227      0.579       1.21        151        640: 100%|██████████| 12/12 [00:05<00:00,  2.06it/s]\n",
      "                 Class     Images  Instances      Box(P          R      mAP50  mAP50-95): 100%|██████████| 2/2 [00:01<00:00,  1.87it/s]"
     ]
    },
    {
     "name": "stdout",
     "output_type": "stream",
     "text": [
      "                   all         87       1138      0.896      0.908      0.957      0.732\n"
     ]
    },
    {
     "name": "stderr",
     "output_type": "stream",
     "text": [
      "\n"
     ]
    },
    {
     "name": "stdout",
     "output_type": "stream",
     "text": [
      "\n",
      "      Epoch    GPU_mem     box_om     cls_om     dfl_om     box_oo     cls_oo     dfl_oo  Instances       Size\n"
     ]
    },
    {
     "name": "stderr",
     "output_type": "stream",
     "text": [
      "    200/200      5.82G     0.9056     0.6085      1.226     0.9255     0.5871      1.214        144        640: 100%|██████████| 12/12 [00:08<00:00,  1.47it/s]\n",
      "                 Class     Images  Instances      Box(P          R      mAP50  mAP50-95): 100%|██████████| 2/2 [00:01<00:00,  1.20it/s]"
     ]
    },
    {
     "name": "stdout",
     "output_type": "stream",
     "text": [
      "                   all         87       1138      0.905      0.908      0.957      0.731\n"
     ]
    },
    {
     "name": "stderr",
     "output_type": "stream",
     "text": [
      "\n"
     ]
    },
    {
     "name": "stdout",
     "output_type": "stream",
     "text": [
      "\n",
      "200 epochs completed in 0.546 hours.\n",
      "Optimizer stripped from runs/detect/train/weights/last.pt, 5.8MB\n",
      "Optimizer stripped from runs/detect/train/weights/best.pt, 5.8MB\n",
      "\n",
      "Validating runs/detect/train/weights/best.pt...\n",
      "Ultralytics YOLOv8.1.34 🚀 Python-3.10.12 torch-2.5.1+cu121 CUDA:0 (Tesla T4, 15102MiB)\n",
      "YOLOv10n summary (fused): 285 layers, 2695586 parameters, 0 gradients, 8.2 GFLOPs\n"
     ]
    },
    {
     "name": "stderr",
     "output_type": "stream",
     "text": [
      "                 Class     Images  Instances      Box(P          R      mAP50  mAP50-95): 100%|██████████| 2/2 [00:01<00:00,  1.74it/s]\n"
     ]
    },
    {
     "name": "stdout",
     "output_type": "stream",
     "text": [
      "                   all         87       1138      0.896      0.906      0.957      0.731\n",
      "                   RBC         87        968      0.858      0.874      0.941      0.738\n",
      "                   WBC         87         87      0.959      0.966      0.992      0.887\n",
      "             Platelets         87         83      0.869      0.879      0.938      0.568\n",
      "Speed: 0.2ms preprocess, 3.6ms inference, 0.0ms loss, 0.0ms postprocess per image\n",
      "Results saved to \u001b[1mruns/detect/train\u001b[0m\n"
     ]
    },
    {
     "data": {
      "text/html": [
       "\n",
       "    <style>\n",
       "        .wandb-row {\n",
       "            display: flex;\n",
       "            flex-direction: row;\n",
       "            flex-wrap: wrap;\n",
       "            justify-content: flex-start;\n",
       "            width: 100%;\n",
       "        }\n",
       "        .wandb-col {\n",
       "            display: flex;\n",
       "            flex-direction: column;\n",
       "            flex-basis: 100%;\n",
       "            flex: 1;\n",
       "            padding: 10px;\n",
       "        }\n",
       "    </style>\n",
       "<div class=\"wandb-row\"><div class=\"wandb-col\"><h3>Run history:</h3><br/><table class=\"wandb\"><tr><td>lr/pg0</td><td>█████▇▇▇▇▇▆▆▆▆▆▅▅▅▅▅▄▄▃▃▃▃▃▃▃▃▃▂▂▂▂▂▂▁▁▁</td></tr><tr><td>lr/pg1</td><td>▄▅██▇▇▇▇▇▇▆▆▆▆▆▅▅▅▄▄▄▄▄▄▄▃▃▃▃▃▃▂▂▂▂▁▁▁▁▁</td></tr><tr><td>lr/pg2</td><td>▄▆▇██▇▇▇▇▆▆▆▆▅▅▅▅▅▄▄▄▄▄▄▄▃▃▃▃▃▃▂▂▂▁▁▁▁▁▁</td></tr><tr><td>metrics/mAP50(B)</td><td>▁▁▁▁▇▇▇▇▇▇▇▇▇███████████████████████████</td></tr><tr><td>metrics/mAP50-95(B)</td><td>▁▅▆▆▆▆▇▇▄▇▆▇▇▇▇▇▇▇▇▇▇▇▇█▇███████████████</td></tr><tr><td>metrics/precision(B)</td><td>▁▃▃▄▄▄▆▆▆▄▅▆▅▅▆▆▇▇▇▆▇▇▇▆▇▇▇▇▇▇▇▆▇█▆▇▆▇██</td></tr><tr><td>metrics/recall(B)</td><td>▁▁▁▁▁▆▆▇▇▇▆▇▇▇▇▇▇▇▇▇▇█▇███▇█▇███████████</td></tr><tr><td>model/GFLOPs</td><td>▁</td></tr><tr><td>model/parameters</td><td>▁</td></tr><tr><td>model/speed_PyTorch(ms)</td><td>▁</td></tr><tr><td>train/box_om</td><td>█▆▅▄▄▂▂▂▂▂▂▂▂▂▂▂▂▂▁▁▁▁▁▁▁▁▁▁▁▁▁▁▁▁▁▁▁▁▁▁</td></tr><tr><td>train/box_oo</td><td>█▇▄▃▃▂▂▂▂▂▂▂▂▂▂▂▂▂▂▂▂▂▂▂▁▁▁▁▁▁▁▁▁▁▁▁▁▁▁▁</td></tr><tr><td>train/cls_om</td><td>█▄▄▂▂▂▂▂▂▂▂▂▂▂▂▁▁▁▁▁▁▁▁▁▁▁▁▁▁▁▁▁▁▁▁▁▁▁▁▁</td></tr><tr><td>train/cls_oo</td><td>█▆▅▄▃▂▂▂▂▂▂▁▁▁▁▁▁▁▁▁▁▁▁▁▁▁▁▁▁▁▁▁▁▁▁▁▁▁▁▁</td></tr><tr><td>train/dfl_om</td><td>██▇▃▃▂▂▂▂▂▂▂▂▁▁▁▁▁▁▁▁▁▁▁▁▁▁▁▁▁▁▁▁▁▁▁▁▁▁▁</td></tr><tr><td>train/dfl_oo</td><td>█▇▂▂▂▂▂▂▂▂▂▂▁▁▁▁▁▁▁▁▁▁▁▁▁▁▁▁▁▁▁▁▁▁▁▁▁▁▁▁</td></tr><tr><td>val/box_om</td><td>█▇▇▃▃▂▂▂▂▂▂▂▂▂▂▂▂▂▂▂▂▂▁▁▂▂▁▁▂▂▁▁▁▁▁▁▁▁▁▁</td></tr><tr><td>val/box_oo</td><td>█▆▄▄▄▃▃▃▃▃▃▃▃▃▂▃▂▂▃▂▂▂▂▂▂▂▂▁▁▁▁▁▁▁▁▁▁▁▁▁</td></tr><tr><td>val/cls_om</td><td>█▆▅▄▅▄▄▄▃▃▄▃▃▃▃▃▃▃▃▃▂▂▂▂▂▂▂▂▂▂▂▂▂▁▂▁▁▁▁▁</td></tr><tr><td>val/cls_oo</td><td>██▃▃▃▂▂▂▂▂▂▂▁▁▁▁▁▁▁▁▁▁▁▁▁▁▁▁▁▁▁▁▁▁▁▁▁▁▁▁</td></tr><tr><td>val/dfl_om</td><td>█▅▂▂▂▂▂▂▂▂▂▁▁▁▁▁▁▁▁▁▁▁▁▁▁▁▁▁▁▁▁▁▁▁▁▁▁▁▁▁</td></tr><tr><td>val/dfl_oo</td><td>███▂▂▁▁▂▁▁▁▁▁▁▁▁▁▁▁▁▁▁▁▁▁▁▁▁▁▁▁▁▁▁▁▁▁▁▁▁</td></tr></table><br/></div><div class=\"wandb-col\"><h3>Run summary:</h3><br/><table class=\"wandb\"><tr><td>lr/pg0</td><td>3e-05</td></tr><tr><td>lr/pg1</td><td>3e-05</td></tr><tr><td>lr/pg2</td><td>3e-05</td></tr><tr><td>metrics/mAP50(B)</td><td>0.95669</td></tr><tr><td>metrics/mAP50-95(B)</td><td>0.73113</td></tr><tr><td>metrics/precision(B)</td><td>0.89554</td></tr><tr><td>metrics/recall(B)</td><td>0.90631</td></tr><tr><td>model/GFLOPs</td><td>8.398</td></tr><tr><td>model/parameters</td><td>2708210</td></tr><tr><td>model/speed_PyTorch(ms)</td><td>6.551</td></tr><tr><td>train/box_om</td><td>0.9056</td></tr><tr><td>train/box_oo</td><td>0.9255</td></tr><tr><td>train/cls_om</td><td>0.60848</td></tr><tr><td>train/cls_oo</td><td>0.58714</td></tr><tr><td>train/dfl_om</td><td>1.22615</td></tr><tr><td>train/dfl_oo</td><td>1.21427</td></tr><tr><td>val/box_om</td><td>0.85144</td></tr><tr><td>val/box_oo</td><td>0.86905</td></tr><tr><td>val/cls_om</td><td>0.51933</td></tr><tr><td>val/cls_oo</td><td>0.4715</td></tr><tr><td>val/dfl_om</td><td>1.14375</td></tr><tr><td>val/dfl_oo</td><td>1.09896</td></tr></table><br/></div></div>"
      ],
      "text/plain": [
       "<IPython.core.display.HTML object>"
      ]
     },
     "metadata": {},
     "output_type": "display_data"
    },
    {
     "data": {
      "text/html": [
       " View run <strong style=\"color:#cdcd00\">train</strong> at: <a href='https://wandb.ai/rohitslg-003-na/YOLOv8/runs/6owyj71x' target=\"_blank\">https://wandb.ai/rohitslg-003-na/YOLOv8/runs/6owyj71x</a><br/> View project at: <a href='https://wandb.ai/rohitslg-003-na/YOLOv8' target=\"_blank\">https://wandb.ai/rohitslg-003-na/YOLOv8</a><br/>Synced 5 W&B file(s), 0 media file(s), 10 artifact file(s) and 22 other file(s)"
      ],
      "text/plain": [
       "<IPython.core.display.HTML object>"
      ]
     },
     "metadata": {},
     "output_type": "display_data"
    },
    {
     "data": {
      "text/html": [
       "Find logs at: <code>./wandb/run-20241123_222326-6owyj71x/logs</code>"
      ],
      "text/plain": [
       "<IPython.core.display.HTML object>"
      ]
     },
     "metadata": {},
     "output_type": "display_data"
    },
    {
     "data": {
      "text/plain": [
       "ultralytics.utils.metrics.DetMetrics object with attributes:\n",
       "\n",
       "ap_class_index: array([0, 1, 2])\n",
       "box: ultralytics.utils.metrics.Metric object\n",
       "confusion_matrix: <ultralytics.utils.metrics.ConfusionMatrix object at 0x7fd9de2444c0>\n",
       "curves: ['Precision-Recall(B)', 'F1-Confidence(B)', 'Precision-Confidence(B)', 'Recall-Confidence(B)']\n",
       "curves_results: [[array([          0,    0.001001,    0.002002,    0.003003,    0.004004,    0.005005,    0.006006,    0.007007,    0.008008,    0.009009,     0.01001,    0.011011,    0.012012,    0.013013,    0.014014,    0.015015,    0.016016,    0.017017,    0.018018,    0.019019,     0.02002,    0.021021,    0.022022,    0.023023,\n",
       "          0.024024,    0.025025,    0.026026,    0.027027,    0.028028,    0.029029,     0.03003,    0.031031,    0.032032,    0.033033,    0.034034,    0.035035,    0.036036,    0.037037,    0.038038,    0.039039,     0.04004,    0.041041,    0.042042,    0.043043,    0.044044,    0.045045,    0.046046,    0.047047,\n",
       "          0.048048,    0.049049,     0.05005,    0.051051,    0.052052,    0.053053,    0.054054,    0.055055,    0.056056,    0.057057,    0.058058,    0.059059,     0.06006,    0.061061,    0.062062,    0.063063,    0.064064,    0.065065,    0.066066,    0.067067,    0.068068,    0.069069,     0.07007,    0.071071,\n",
       "          0.072072,    0.073073,    0.074074,    0.075075,    0.076076,    0.077077,    0.078078,    0.079079,     0.08008,    0.081081,    0.082082,    0.083083,    0.084084,    0.085085,    0.086086,    0.087087,    0.088088,    0.089089,     0.09009,    0.091091,    0.092092,    0.093093,    0.094094,    0.095095,\n",
       "          0.096096,    0.097097,    0.098098,    0.099099,      0.1001,      0.1011,      0.1021,      0.1031,      0.1041,     0.10511,     0.10611,     0.10711,     0.10811,     0.10911,     0.11011,     0.11111,     0.11211,     0.11311,     0.11411,     0.11512,     0.11612,     0.11712,     0.11812,     0.11912,\n",
       "           0.12012,     0.12112,     0.12212,     0.12312,     0.12412,     0.12513,     0.12613,     0.12713,     0.12813,     0.12913,     0.13013,     0.13113,     0.13213,     0.13313,     0.13413,     0.13514,     0.13614,     0.13714,     0.13814,     0.13914,     0.14014,     0.14114,     0.14214,     0.14314,\n",
       "           0.14414,     0.14515,     0.14615,     0.14715,     0.14815,     0.14915,     0.15015,     0.15115,     0.15215,     0.15315,     0.15415,     0.15516,     0.15616,     0.15716,     0.15816,     0.15916,     0.16016,     0.16116,     0.16216,     0.16316,     0.16416,     0.16517,     0.16617,     0.16717,\n",
       "           0.16817,     0.16917,     0.17017,     0.17117,     0.17217,     0.17317,     0.17417,     0.17518,     0.17618,     0.17718,     0.17818,     0.17918,     0.18018,     0.18118,     0.18218,     0.18318,     0.18418,     0.18519,     0.18619,     0.18719,     0.18819,     0.18919,     0.19019,     0.19119,\n",
       "           0.19219,     0.19319,     0.19419,      0.1952,      0.1962,      0.1972,      0.1982,      0.1992,      0.2002,      0.2012,      0.2022,      0.2032,      0.2042,     0.20521,     0.20621,     0.20721,     0.20821,     0.20921,     0.21021,     0.21121,     0.21221,     0.21321,     0.21421,     0.21522,\n",
       "           0.21622,     0.21722,     0.21822,     0.21922,     0.22022,     0.22122,     0.22222,     0.22322,     0.22422,     0.22523,     0.22623,     0.22723,     0.22823,     0.22923,     0.23023,     0.23123,     0.23223,     0.23323,     0.23423,     0.23524,     0.23624,     0.23724,     0.23824,     0.23924,\n",
       "           0.24024,     0.24124,     0.24224,     0.24324,     0.24424,     0.24525,     0.24625,     0.24725,     0.24825,     0.24925,     0.25025,     0.25125,     0.25225,     0.25325,     0.25425,     0.25526,     0.25626,     0.25726,     0.25826,     0.25926,     0.26026,     0.26126,     0.26226,     0.26326,\n",
       "           0.26426,     0.26527,     0.26627,     0.26727,     0.26827,     0.26927,     0.27027,     0.27127,     0.27227,     0.27327,     0.27427,     0.27528,     0.27628,     0.27728,     0.27828,     0.27928,     0.28028,     0.28128,     0.28228,     0.28328,     0.28428,     0.28529,     0.28629,     0.28729,\n",
       "           0.28829,     0.28929,     0.29029,     0.29129,     0.29229,     0.29329,     0.29429,      0.2953,      0.2963,      0.2973,      0.2983,      0.2993,      0.3003,      0.3013,      0.3023,      0.3033,      0.3043,     0.30531,     0.30631,     0.30731,     0.30831,     0.30931,     0.31031,     0.31131,\n",
       "           0.31231,     0.31331,     0.31431,     0.31532,     0.31632,     0.31732,     0.31832,     0.31932,     0.32032,     0.32132,     0.32232,     0.32332,     0.32432,     0.32533,     0.32633,     0.32733,     0.32833,     0.32933,     0.33033,     0.33133,     0.33233,     0.33333,     0.33433,     0.33534,\n",
       "           0.33634,     0.33734,     0.33834,     0.33934,     0.34034,     0.34134,     0.34234,     0.34334,     0.34434,     0.34535,     0.34635,     0.34735,     0.34835,     0.34935,     0.35035,     0.35135,     0.35235,     0.35335,     0.35435,     0.35536,     0.35636,     0.35736,     0.35836,     0.35936,\n",
       "           0.36036,     0.36136,     0.36236,     0.36336,     0.36436,     0.36537,     0.36637,     0.36737,     0.36837,     0.36937,     0.37037,     0.37137,     0.37237,     0.37337,     0.37437,     0.37538,     0.37638,     0.37738,     0.37838,     0.37938,     0.38038,     0.38138,     0.38238,     0.38338,\n",
       "           0.38438,     0.38539,     0.38639,     0.38739,     0.38839,     0.38939,     0.39039,     0.39139,     0.39239,     0.39339,     0.39439,      0.3954,      0.3964,      0.3974,      0.3984,      0.3994,      0.4004,      0.4014,      0.4024,      0.4034,      0.4044,     0.40541,     0.40641,     0.40741,\n",
       "           0.40841,     0.40941,     0.41041,     0.41141,     0.41241,     0.41341,     0.41441,     0.41542,     0.41642,     0.41742,     0.41842,     0.41942,     0.42042,     0.42142,     0.42242,     0.42342,     0.42442,     0.42543,     0.42643,     0.42743,     0.42843,     0.42943,     0.43043,     0.43143,\n",
       "           0.43243,     0.43343,     0.43443,     0.43544,     0.43644,     0.43744,     0.43844,     0.43944,     0.44044,     0.44144,     0.44244,     0.44344,     0.44444,     0.44545,     0.44645,     0.44745,     0.44845,     0.44945,     0.45045,     0.45145,     0.45245,     0.45345,     0.45445,     0.45546,\n",
       "           0.45646,     0.45746,     0.45846,     0.45946,     0.46046,     0.46146,     0.46246,     0.46346,     0.46446,     0.46547,     0.46647,     0.46747,     0.46847,     0.46947,     0.47047,     0.47147,     0.47247,     0.47347,     0.47447,     0.47548,     0.47648,     0.47748,     0.47848,     0.47948,\n",
       "           0.48048,     0.48148,     0.48248,     0.48348,     0.48448,     0.48549,     0.48649,     0.48749,     0.48849,     0.48949,     0.49049,     0.49149,     0.49249,     0.49349,     0.49449,      0.4955,      0.4965,      0.4975,      0.4985,      0.4995,      0.5005,      0.5015,      0.5025,      0.5035,\n",
       "            0.5045,     0.50551,     0.50651,     0.50751,     0.50851,     0.50951,     0.51051,     0.51151,     0.51251,     0.51351,     0.51451,     0.51552,     0.51652,     0.51752,     0.51852,     0.51952,     0.52052,     0.52152,     0.52252,     0.52352,     0.52452,     0.52553,     0.52653,     0.52753,\n",
       "           0.52853,     0.52953,     0.53053,     0.53153,     0.53253,     0.53353,     0.53453,     0.53554,     0.53654,     0.53754,     0.53854,     0.53954,     0.54054,     0.54154,     0.54254,     0.54354,     0.54454,     0.54555,     0.54655,     0.54755,     0.54855,     0.54955,     0.55055,     0.55155,\n",
       "           0.55255,     0.55355,     0.55455,     0.55556,     0.55656,     0.55756,     0.55856,     0.55956,     0.56056,     0.56156,     0.56256,     0.56356,     0.56456,     0.56557,     0.56657,     0.56757,     0.56857,     0.56957,     0.57057,     0.57157,     0.57257,     0.57357,     0.57457,     0.57558,\n",
       "           0.57658,     0.57758,     0.57858,     0.57958,     0.58058,     0.58158,     0.58258,     0.58358,     0.58458,     0.58559,     0.58659,     0.58759,     0.58859,     0.58959,     0.59059,     0.59159,     0.59259,     0.59359,     0.59459,      0.5956,      0.5966,      0.5976,      0.5986,      0.5996,\n",
       "            0.6006,      0.6016,      0.6026,      0.6036,      0.6046,     0.60561,     0.60661,     0.60761,     0.60861,     0.60961,     0.61061,     0.61161,     0.61261,     0.61361,     0.61461,     0.61562,     0.61662,     0.61762,     0.61862,     0.61962,     0.62062,     0.62162,     0.62262,     0.62362,\n",
       "           0.62462,     0.62563,     0.62663,     0.62763,     0.62863,     0.62963,     0.63063,     0.63163,     0.63263,     0.63363,     0.63463,     0.63564,     0.63664,     0.63764,     0.63864,     0.63964,     0.64064,     0.64164,     0.64264,     0.64364,     0.64464,     0.64565,     0.64665,     0.64765,\n",
       "           0.64865,     0.64965,     0.65065,     0.65165,     0.65265,     0.65365,     0.65465,     0.65566,     0.65666,     0.65766,     0.65866,     0.65966,     0.66066,     0.66166,     0.66266,     0.66366,     0.66466,     0.66567,     0.66667,     0.66767,     0.66867,     0.66967,     0.67067,     0.67167,\n",
       "           0.67267,     0.67367,     0.67467,     0.67568,     0.67668,     0.67768,     0.67868,     0.67968,     0.68068,     0.68168,     0.68268,     0.68368,     0.68468,     0.68569,     0.68669,     0.68769,     0.68869,     0.68969,     0.69069,     0.69169,     0.69269,     0.69369,     0.69469,      0.6957,\n",
       "            0.6967,      0.6977,      0.6987,      0.6997,      0.7007,      0.7017,      0.7027,      0.7037,      0.7047,     0.70571,     0.70671,     0.70771,     0.70871,     0.70971,     0.71071,     0.71171,     0.71271,     0.71371,     0.71471,     0.71572,     0.71672,     0.71772,     0.71872,     0.71972,\n",
       "           0.72072,     0.72172,     0.72272,     0.72372,     0.72472,     0.72573,     0.72673,     0.72773,     0.72873,     0.72973,     0.73073,     0.73173,     0.73273,     0.73373,     0.73473,     0.73574,     0.73674,     0.73774,     0.73874,     0.73974,     0.74074,     0.74174,     0.74274,     0.74374,\n",
       "           0.74474,     0.74575,     0.74675,     0.74775,     0.74875,     0.74975,     0.75075,     0.75175,     0.75275,     0.75375,     0.75475,     0.75576,     0.75676,     0.75776,     0.75876,     0.75976,     0.76076,     0.76176,     0.76276,     0.76376,     0.76476,     0.76577,     0.76677,     0.76777,\n",
       "           0.76877,     0.76977,     0.77077,     0.77177,     0.77277,     0.77377,     0.77477,     0.77578,     0.77678,     0.77778,     0.77878,     0.77978,     0.78078,     0.78178,     0.78278,     0.78378,     0.78478,     0.78579,     0.78679,     0.78779,     0.78879,     0.78979,     0.79079,     0.79179,\n",
       "           0.79279,     0.79379,     0.79479,      0.7958,      0.7968,      0.7978,      0.7988,      0.7998,      0.8008,      0.8018,      0.8028,      0.8038,      0.8048,     0.80581,     0.80681,     0.80781,     0.80881,     0.80981,     0.81081,     0.81181,     0.81281,     0.81381,     0.81481,     0.81582,\n",
       "           0.81682,     0.81782,     0.81882,     0.81982,     0.82082,     0.82182,     0.82282,     0.82382,     0.82482,     0.82583,     0.82683,     0.82783,     0.82883,     0.82983,     0.83083,     0.83183,     0.83283,     0.83383,     0.83483,     0.83584,     0.83684,     0.83784,     0.83884,     0.83984,\n",
       "           0.84084,     0.84184,     0.84284,     0.84384,     0.84484,     0.84585,     0.84685,     0.84785,     0.84885,     0.84985,     0.85085,     0.85185,     0.85285,     0.85385,     0.85485,     0.85586,     0.85686,     0.85786,     0.85886,     0.85986,     0.86086,     0.86186,     0.86286,     0.86386,\n",
       "           0.86486,     0.86587,     0.86687,     0.86787,     0.86887,     0.86987,     0.87087,     0.87187,     0.87287,     0.87387,     0.87487,     0.87588,     0.87688,     0.87788,     0.87888,     0.87988,     0.88088,     0.88188,     0.88288,     0.88388,     0.88488,     0.88589,     0.88689,     0.88789,\n",
       "           0.88889,     0.88989,     0.89089,     0.89189,     0.89289,     0.89389,     0.89489,      0.8959,      0.8969,      0.8979,      0.8989,      0.8999,      0.9009,      0.9019,      0.9029,      0.9039,      0.9049,     0.90591,     0.90691,     0.90791,     0.90891,     0.90991,     0.91091,     0.91191,\n",
       "           0.91291,     0.91391,     0.91491,     0.91592,     0.91692,     0.91792,     0.91892,     0.91992,     0.92092,     0.92192,     0.92292,     0.92392,     0.92492,     0.92593,     0.92693,     0.92793,     0.92893,     0.92993,     0.93093,     0.93193,     0.93293,     0.93393,     0.93493,     0.93594,\n",
       "           0.93694,     0.93794,     0.93894,     0.93994,     0.94094,     0.94194,     0.94294,     0.94394,     0.94494,     0.94595,     0.94695,     0.94795,     0.94895,     0.94995,     0.95095,     0.95195,     0.95295,     0.95395,     0.95495,     0.95596,     0.95696,     0.95796,     0.95896,     0.95996,\n",
       "           0.96096,     0.96196,     0.96296,     0.96396,     0.96496,     0.96597,     0.96697,     0.96797,     0.96897,     0.96997,     0.97097,     0.97197,     0.97297,     0.97397,     0.97497,     0.97598,     0.97698,     0.97798,     0.97898,     0.97998,     0.98098,     0.98198,     0.98298,     0.98398,\n",
       "           0.98498,     0.98599,     0.98699,     0.98799,     0.98899,     0.98999,     0.99099,     0.99199,     0.99299,     0.99399,     0.99499,       0.996,       0.997,       0.998,       0.999,           1]), array([[          1,           1,           1, ...,    0.027205,    0.013602,           0],\n",
       "       [          1,           1,           1, ...,     0.88776,     0.88776,           0],\n",
       "       [          1,           1,           1, ...,   0.0065008,   0.0032504,           0]]), 'Recall', 'Precision'], [array([          0,    0.001001,    0.002002,    0.003003,    0.004004,    0.005005,    0.006006,    0.007007,    0.008008,    0.009009,     0.01001,    0.011011,    0.012012,    0.013013,    0.014014,    0.015015,    0.016016,    0.017017,    0.018018,    0.019019,     0.02002,    0.021021,    0.022022,    0.023023,\n",
       "          0.024024,    0.025025,    0.026026,    0.027027,    0.028028,    0.029029,     0.03003,    0.031031,    0.032032,    0.033033,    0.034034,    0.035035,    0.036036,    0.037037,    0.038038,    0.039039,     0.04004,    0.041041,    0.042042,    0.043043,    0.044044,    0.045045,    0.046046,    0.047047,\n",
       "          0.048048,    0.049049,     0.05005,    0.051051,    0.052052,    0.053053,    0.054054,    0.055055,    0.056056,    0.057057,    0.058058,    0.059059,     0.06006,    0.061061,    0.062062,    0.063063,    0.064064,    0.065065,    0.066066,    0.067067,    0.068068,    0.069069,     0.07007,    0.071071,\n",
       "          0.072072,    0.073073,    0.074074,    0.075075,    0.076076,    0.077077,    0.078078,    0.079079,     0.08008,    0.081081,    0.082082,    0.083083,    0.084084,    0.085085,    0.086086,    0.087087,    0.088088,    0.089089,     0.09009,    0.091091,    0.092092,    0.093093,    0.094094,    0.095095,\n",
       "          0.096096,    0.097097,    0.098098,    0.099099,      0.1001,      0.1011,      0.1021,      0.1031,      0.1041,     0.10511,     0.10611,     0.10711,     0.10811,     0.10911,     0.11011,     0.11111,     0.11211,     0.11311,     0.11411,     0.11512,     0.11612,     0.11712,     0.11812,     0.11912,\n",
       "           0.12012,     0.12112,     0.12212,     0.12312,     0.12412,     0.12513,     0.12613,     0.12713,     0.12813,     0.12913,     0.13013,     0.13113,     0.13213,     0.13313,     0.13413,     0.13514,     0.13614,     0.13714,     0.13814,     0.13914,     0.14014,     0.14114,     0.14214,     0.14314,\n",
       "           0.14414,     0.14515,     0.14615,     0.14715,     0.14815,     0.14915,     0.15015,     0.15115,     0.15215,     0.15315,     0.15415,     0.15516,     0.15616,     0.15716,     0.15816,     0.15916,     0.16016,     0.16116,     0.16216,     0.16316,     0.16416,     0.16517,     0.16617,     0.16717,\n",
       "           0.16817,     0.16917,     0.17017,     0.17117,     0.17217,     0.17317,     0.17417,     0.17518,     0.17618,     0.17718,     0.17818,     0.17918,     0.18018,     0.18118,     0.18218,     0.18318,     0.18418,     0.18519,     0.18619,     0.18719,     0.18819,     0.18919,     0.19019,     0.19119,\n",
       "           0.19219,     0.19319,     0.19419,      0.1952,      0.1962,      0.1972,      0.1982,      0.1992,      0.2002,      0.2012,      0.2022,      0.2032,      0.2042,     0.20521,     0.20621,     0.20721,     0.20821,     0.20921,     0.21021,     0.21121,     0.21221,     0.21321,     0.21421,     0.21522,\n",
       "           0.21622,     0.21722,     0.21822,     0.21922,     0.22022,     0.22122,     0.22222,     0.22322,     0.22422,     0.22523,     0.22623,     0.22723,     0.22823,     0.22923,     0.23023,     0.23123,     0.23223,     0.23323,     0.23423,     0.23524,     0.23624,     0.23724,     0.23824,     0.23924,\n",
       "           0.24024,     0.24124,     0.24224,     0.24324,     0.24424,     0.24525,     0.24625,     0.24725,     0.24825,     0.24925,     0.25025,     0.25125,     0.25225,     0.25325,     0.25425,     0.25526,     0.25626,     0.25726,     0.25826,     0.25926,     0.26026,     0.26126,     0.26226,     0.26326,\n",
       "           0.26426,     0.26527,     0.26627,     0.26727,     0.26827,     0.26927,     0.27027,     0.27127,     0.27227,     0.27327,     0.27427,     0.27528,     0.27628,     0.27728,     0.27828,     0.27928,     0.28028,     0.28128,     0.28228,     0.28328,     0.28428,     0.28529,     0.28629,     0.28729,\n",
       "           0.28829,     0.28929,     0.29029,     0.29129,     0.29229,     0.29329,     0.29429,      0.2953,      0.2963,      0.2973,      0.2983,      0.2993,      0.3003,      0.3013,      0.3023,      0.3033,      0.3043,     0.30531,     0.30631,     0.30731,     0.30831,     0.30931,     0.31031,     0.31131,\n",
       "           0.31231,     0.31331,     0.31431,     0.31532,     0.31632,     0.31732,     0.31832,     0.31932,     0.32032,     0.32132,     0.32232,     0.32332,     0.32432,     0.32533,     0.32633,     0.32733,     0.32833,     0.32933,     0.33033,     0.33133,     0.33233,     0.33333,     0.33433,     0.33534,\n",
       "           0.33634,     0.33734,     0.33834,     0.33934,     0.34034,     0.34134,     0.34234,     0.34334,     0.34434,     0.34535,     0.34635,     0.34735,     0.34835,     0.34935,     0.35035,     0.35135,     0.35235,     0.35335,     0.35435,     0.35536,     0.35636,     0.35736,     0.35836,     0.35936,\n",
       "           0.36036,     0.36136,     0.36236,     0.36336,     0.36436,     0.36537,     0.36637,     0.36737,     0.36837,     0.36937,     0.37037,     0.37137,     0.37237,     0.37337,     0.37437,     0.37538,     0.37638,     0.37738,     0.37838,     0.37938,     0.38038,     0.38138,     0.38238,     0.38338,\n",
       "           0.38438,     0.38539,     0.38639,     0.38739,     0.38839,     0.38939,     0.39039,     0.39139,     0.39239,     0.39339,     0.39439,      0.3954,      0.3964,      0.3974,      0.3984,      0.3994,      0.4004,      0.4014,      0.4024,      0.4034,      0.4044,     0.40541,     0.40641,     0.40741,\n",
       "           0.40841,     0.40941,     0.41041,     0.41141,     0.41241,     0.41341,     0.41441,     0.41542,     0.41642,     0.41742,     0.41842,     0.41942,     0.42042,     0.42142,     0.42242,     0.42342,     0.42442,     0.42543,     0.42643,     0.42743,     0.42843,     0.42943,     0.43043,     0.43143,\n",
       "           0.43243,     0.43343,     0.43443,     0.43544,     0.43644,     0.43744,     0.43844,     0.43944,     0.44044,     0.44144,     0.44244,     0.44344,     0.44444,     0.44545,     0.44645,     0.44745,     0.44845,     0.44945,     0.45045,     0.45145,     0.45245,     0.45345,     0.45445,     0.45546,\n",
       "           0.45646,     0.45746,     0.45846,     0.45946,     0.46046,     0.46146,     0.46246,     0.46346,     0.46446,     0.46547,     0.46647,     0.46747,     0.46847,     0.46947,     0.47047,     0.47147,     0.47247,     0.47347,     0.47447,     0.47548,     0.47648,     0.47748,     0.47848,     0.47948,\n",
       "           0.48048,     0.48148,     0.48248,     0.48348,     0.48448,     0.48549,     0.48649,     0.48749,     0.48849,     0.48949,     0.49049,     0.49149,     0.49249,     0.49349,     0.49449,      0.4955,      0.4965,      0.4975,      0.4985,      0.4995,      0.5005,      0.5015,      0.5025,      0.5035,\n",
       "            0.5045,     0.50551,     0.50651,     0.50751,     0.50851,     0.50951,     0.51051,     0.51151,     0.51251,     0.51351,     0.51451,     0.51552,     0.51652,     0.51752,     0.51852,     0.51952,     0.52052,     0.52152,     0.52252,     0.52352,     0.52452,     0.52553,     0.52653,     0.52753,\n",
       "           0.52853,     0.52953,     0.53053,     0.53153,     0.53253,     0.53353,     0.53453,     0.53554,     0.53654,     0.53754,     0.53854,     0.53954,     0.54054,     0.54154,     0.54254,     0.54354,     0.54454,     0.54555,     0.54655,     0.54755,     0.54855,     0.54955,     0.55055,     0.55155,\n",
       "           0.55255,     0.55355,     0.55455,     0.55556,     0.55656,     0.55756,     0.55856,     0.55956,     0.56056,     0.56156,     0.56256,     0.56356,     0.56456,     0.56557,     0.56657,     0.56757,     0.56857,     0.56957,     0.57057,     0.57157,     0.57257,     0.57357,     0.57457,     0.57558,\n",
       "           0.57658,     0.57758,     0.57858,     0.57958,     0.58058,     0.58158,     0.58258,     0.58358,     0.58458,     0.58559,     0.58659,     0.58759,     0.58859,     0.58959,     0.59059,     0.59159,     0.59259,     0.59359,     0.59459,      0.5956,      0.5966,      0.5976,      0.5986,      0.5996,\n",
       "            0.6006,      0.6016,      0.6026,      0.6036,      0.6046,     0.60561,     0.60661,     0.60761,     0.60861,     0.60961,     0.61061,     0.61161,     0.61261,     0.61361,     0.61461,     0.61562,     0.61662,     0.61762,     0.61862,     0.61962,     0.62062,     0.62162,     0.62262,     0.62362,\n",
       "           0.62462,     0.62563,     0.62663,     0.62763,     0.62863,     0.62963,     0.63063,     0.63163,     0.63263,     0.63363,     0.63463,     0.63564,     0.63664,     0.63764,     0.63864,     0.63964,     0.64064,     0.64164,     0.64264,     0.64364,     0.64464,     0.64565,     0.64665,     0.64765,\n",
       "           0.64865,     0.64965,     0.65065,     0.65165,     0.65265,     0.65365,     0.65465,     0.65566,     0.65666,     0.65766,     0.65866,     0.65966,     0.66066,     0.66166,     0.66266,     0.66366,     0.66466,     0.66567,     0.66667,     0.66767,     0.66867,     0.66967,     0.67067,     0.67167,\n",
       "           0.67267,     0.67367,     0.67467,     0.67568,     0.67668,     0.67768,     0.67868,     0.67968,     0.68068,     0.68168,     0.68268,     0.68368,     0.68468,     0.68569,     0.68669,     0.68769,     0.68869,     0.68969,     0.69069,     0.69169,     0.69269,     0.69369,     0.69469,      0.6957,\n",
       "            0.6967,      0.6977,      0.6987,      0.6997,      0.7007,      0.7017,      0.7027,      0.7037,      0.7047,     0.70571,     0.70671,     0.70771,     0.70871,     0.70971,     0.71071,     0.71171,     0.71271,     0.71371,     0.71471,     0.71572,     0.71672,     0.71772,     0.71872,     0.71972,\n",
       "           0.72072,     0.72172,     0.72272,     0.72372,     0.72472,     0.72573,     0.72673,     0.72773,     0.72873,     0.72973,     0.73073,     0.73173,     0.73273,     0.73373,     0.73473,     0.73574,     0.73674,     0.73774,     0.73874,     0.73974,     0.74074,     0.74174,     0.74274,     0.74374,\n",
       "           0.74474,     0.74575,     0.74675,     0.74775,     0.74875,     0.74975,     0.75075,     0.75175,     0.75275,     0.75375,     0.75475,     0.75576,     0.75676,     0.75776,     0.75876,     0.75976,     0.76076,     0.76176,     0.76276,     0.76376,     0.76476,     0.76577,     0.76677,     0.76777,\n",
       "           0.76877,     0.76977,     0.77077,     0.77177,     0.77277,     0.77377,     0.77477,     0.77578,     0.77678,     0.77778,     0.77878,     0.77978,     0.78078,     0.78178,     0.78278,     0.78378,     0.78478,     0.78579,     0.78679,     0.78779,     0.78879,     0.78979,     0.79079,     0.79179,\n",
       "           0.79279,     0.79379,     0.79479,      0.7958,      0.7968,      0.7978,      0.7988,      0.7998,      0.8008,      0.8018,      0.8028,      0.8038,      0.8048,     0.80581,     0.80681,     0.80781,     0.80881,     0.80981,     0.81081,     0.81181,     0.81281,     0.81381,     0.81481,     0.81582,\n",
       "           0.81682,     0.81782,     0.81882,     0.81982,     0.82082,     0.82182,     0.82282,     0.82382,     0.82482,     0.82583,     0.82683,     0.82783,     0.82883,     0.82983,     0.83083,     0.83183,     0.83283,     0.83383,     0.83483,     0.83584,     0.83684,     0.83784,     0.83884,     0.83984,\n",
       "           0.84084,     0.84184,     0.84284,     0.84384,     0.84484,     0.84585,     0.84685,     0.84785,     0.84885,     0.84985,     0.85085,     0.85185,     0.85285,     0.85385,     0.85485,     0.85586,     0.85686,     0.85786,     0.85886,     0.85986,     0.86086,     0.86186,     0.86286,     0.86386,\n",
       "           0.86486,     0.86587,     0.86687,     0.86787,     0.86887,     0.86987,     0.87087,     0.87187,     0.87287,     0.87387,     0.87487,     0.87588,     0.87688,     0.87788,     0.87888,     0.87988,     0.88088,     0.88188,     0.88288,     0.88388,     0.88488,     0.88589,     0.88689,     0.88789,\n",
       "           0.88889,     0.88989,     0.89089,     0.89189,     0.89289,     0.89389,     0.89489,      0.8959,      0.8969,      0.8979,      0.8989,      0.8999,      0.9009,      0.9019,      0.9029,      0.9039,      0.9049,     0.90591,     0.90691,     0.90791,     0.90891,     0.90991,     0.91091,     0.91191,\n",
       "           0.91291,     0.91391,     0.91491,     0.91592,     0.91692,     0.91792,     0.91892,     0.91992,     0.92092,     0.92192,     0.92292,     0.92392,     0.92492,     0.92593,     0.92693,     0.92793,     0.92893,     0.92993,     0.93093,     0.93193,     0.93293,     0.93393,     0.93493,     0.93594,\n",
       "           0.93694,     0.93794,     0.93894,     0.93994,     0.94094,     0.94194,     0.94294,     0.94394,     0.94494,     0.94595,     0.94695,     0.94795,     0.94895,     0.94995,     0.95095,     0.95195,     0.95295,     0.95395,     0.95495,     0.95596,     0.95696,     0.95796,     0.95896,     0.95996,\n",
       "           0.96096,     0.96196,     0.96296,     0.96396,     0.96496,     0.96597,     0.96697,     0.96797,     0.96897,     0.96997,     0.97097,     0.97197,     0.97297,     0.97397,     0.97497,     0.97598,     0.97698,     0.97798,     0.97898,     0.97998,     0.98098,     0.98198,     0.98298,     0.98398,\n",
       "           0.98498,     0.98599,     0.98699,     0.98799,     0.98899,     0.98999,     0.99099,     0.99199,     0.99299,     0.99399,     0.99499,       0.996,       0.997,       0.998,       0.999,           1]), array([[   0.080814,     0.24737,     0.37333, ...,           0,           0,           0],\n",
       "       [    0.14783,     0.54808,     0.73309, ...,           0,           0,           0],\n",
       "       [   0.075264,     0.29835,     0.38851, ...,           0,           0,           0]]), 'Confidence', 'F1'], [array([          0,    0.001001,    0.002002,    0.003003,    0.004004,    0.005005,    0.006006,    0.007007,    0.008008,    0.009009,     0.01001,    0.011011,    0.012012,    0.013013,    0.014014,    0.015015,    0.016016,    0.017017,    0.018018,    0.019019,     0.02002,    0.021021,    0.022022,    0.023023,\n",
       "          0.024024,    0.025025,    0.026026,    0.027027,    0.028028,    0.029029,     0.03003,    0.031031,    0.032032,    0.033033,    0.034034,    0.035035,    0.036036,    0.037037,    0.038038,    0.039039,     0.04004,    0.041041,    0.042042,    0.043043,    0.044044,    0.045045,    0.046046,    0.047047,\n",
       "          0.048048,    0.049049,     0.05005,    0.051051,    0.052052,    0.053053,    0.054054,    0.055055,    0.056056,    0.057057,    0.058058,    0.059059,     0.06006,    0.061061,    0.062062,    0.063063,    0.064064,    0.065065,    0.066066,    0.067067,    0.068068,    0.069069,     0.07007,    0.071071,\n",
       "          0.072072,    0.073073,    0.074074,    0.075075,    0.076076,    0.077077,    0.078078,    0.079079,     0.08008,    0.081081,    0.082082,    0.083083,    0.084084,    0.085085,    0.086086,    0.087087,    0.088088,    0.089089,     0.09009,    0.091091,    0.092092,    0.093093,    0.094094,    0.095095,\n",
       "          0.096096,    0.097097,    0.098098,    0.099099,      0.1001,      0.1011,      0.1021,      0.1031,      0.1041,     0.10511,     0.10611,     0.10711,     0.10811,     0.10911,     0.11011,     0.11111,     0.11211,     0.11311,     0.11411,     0.11512,     0.11612,     0.11712,     0.11812,     0.11912,\n",
       "           0.12012,     0.12112,     0.12212,     0.12312,     0.12412,     0.12513,     0.12613,     0.12713,     0.12813,     0.12913,     0.13013,     0.13113,     0.13213,     0.13313,     0.13413,     0.13514,     0.13614,     0.13714,     0.13814,     0.13914,     0.14014,     0.14114,     0.14214,     0.14314,\n",
       "           0.14414,     0.14515,     0.14615,     0.14715,     0.14815,     0.14915,     0.15015,     0.15115,     0.15215,     0.15315,     0.15415,     0.15516,     0.15616,     0.15716,     0.15816,     0.15916,     0.16016,     0.16116,     0.16216,     0.16316,     0.16416,     0.16517,     0.16617,     0.16717,\n",
       "           0.16817,     0.16917,     0.17017,     0.17117,     0.17217,     0.17317,     0.17417,     0.17518,     0.17618,     0.17718,     0.17818,     0.17918,     0.18018,     0.18118,     0.18218,     0.18318,     0.18418,     0.18519,     0.18619,     0.18719,     0.18819,     0.18919,     0.19019,     0.19119,\n",
       "           0.19219,     0.19319,     0.19419,      0.1952,      0.1962,      0.1972,      0.1982,      0.1992,      0.2002,      0.2012,      0.2022,      0.2032,      0.2042,     0.20521,     0.20621,     0.20721,     0.20821,     0.20921,     0.21021,     0.21121,     0.21221,     0.21321,     0.21421,     0.21522,\n",
       "           0.21622,     0.21722,     0.21822,     0.21922,     0.22022,     0.22122,     0.22222,     0.22322,     0.22422,     0.22523,     0.22623,     0.22723,     0.22823,     0.22923,     0.23023,     0.23123,     0.23223,     0.23323,     0.23423,     0.23524,     0.23624,     0.23724,     0.23824,     0.23924,\n",
       "           0.24024,     0.24124,     0.24224,     0.24324,     0.24424,     0.24525,     0.24625,     0.24725,     0.24825,     0.24925,     0.25025,     0.25125,     0.25225,     0.25325,     0.25425,     0.25526,     0.25626,     0.25726,     0.25826,     0.25926,     0.26026,     0.26126,     0.26226,     0.26326,\n",
       "           0.26426,     0.26527,     0.26627,     0.26727,     0.26827,     0.26927,     0.27027,     0.27127,     0.27227,     0.27327,     0.27427,     0.27528,     0.27628,     0.27728,     0.27828,     0.27928,     0.28028,     0.28128,     0.28228,     0.28328,     0.28428,     0.28529,     0.28629,     0.28729,\n",
       "           0.28829,     0.28929,     0.29029,     0.29129,     0.29229,     0.29329,     0.29429,      0.2953,      0.2963,      0.2973,      0.2983,      0.2993,      0.3003,      0.3013,      0.3023,      0.3033,      0.3043,     0.30531,     0.30631,     0.30731,     0.30831,     0.30931,     0.31031,     0.31131,\n",
       "           0.31231,     0.31331,     0.31431,     0.31532,     0.31632,     0.31732,     0.31832,     0.31932,     0.32032,     0.32132,     0.32232,     0.32332,     0.32432,     0.32533,     0.32633,     0.32733,     0.32833,     0.32933,     0.33033,     0.33133,     0.33233,     0.33333,     0.33433,     0.33534,\n",
       "           0.33634,     0.33734,     0.33834,     0.33934,     0.34034,     0.34134,     0.34234,     0.34334,     0.34434,     0.34535,     0.34635,     0.34735,     0.34835,     0.34935,     0.35035,     0.35135,     0.35235,     0.35335,     0.35435,     0.35536,     0.35636,     0.35736,     0.35836,     0.35936,\n",
       "           0.36036,     0.36136,     0.36236,     0.36336,     0.36436,     0.36537,     0.36637,     0.36737,     0.36837,     0.36937,     0.37037,     0.37137,     0.37237,     0.37337,     0.37437,     0.37538,     0.37638,     0.37738,     0.37838,     0.37938,     0.38038,     0.38138,     0.38238,     0.38338,\n",
       "           0.38438,     0.38539,     0.38639,     0.38739,     0.38839,     0.38939,     0.39039,     0.39139,     0.39239,     0.39339,     0.39439,      0.3954,      0.3964,      0.3974,      0.3984,      0.3994,      0.4004,      0.4014,      0.4024,      0.4034,      0.4044,     0.40541,     0.40641,     0.40741,\n",
       "           0.40841,     0.40941,     0.41041,     0.41141,     0.41241,     0.41341,     0.41441,     0.41542,     0.41642,     0.41742,     0.41842,     0.41942,     0.42042,     0.42142,     0.42242,     0.42342,     0.42442,     0.42543,     0.42643,     0.42743,     0.42843,     0.42943,     0.43043,     0.43143,\n",
       "           0.43243,     0.43343,     0.43443,     0.43544,     0.43644,     0.43744,     0.43844,     0.43944,     0.44044,     0.44144,     0.44244,     0.44344,     0.44444,     0.44545,     0.44645,     0.44745,     0.44845,     0.44945,     0.45045,     0.45145,     0.45245,     0.45345,     0.45445,     0.45546,\n",
       "           0.45646,     0.45746,     0.45846,     0.45946,     0.46046,     0.46146,     0.46246,     0.46346,     0.46446,     0.46547,     0.46647,     0.46747,     0.46847,     0.46947,     0.47047,     0.47147,     0.47247,     0.47347,     0.47447,     0.47548,     0.47648,     0.47748,     0.47848,     0.47948,\n",
       "           0.48048,     0.48148,     0.48248,     0.48348,     0.48448,     0.48549,     0.48649,     0.48749,     0.48849,     0.48949,     0.49049,     0.49149,     0.49249,     0.49349,     0.49449,      0.4955,      0.4965,      0.4975,      0.4985,      0.4995,      0.5005,      0.5015,      0.5025,      0.5035,\n",
       "            0.5045,     0.50551,     0.50651,     0.50751,     0.50851,     0.50951,     0.51051,     0.51151,     0.51251,     0.51351,     0.51451,     0.51552,     0.51652,     0.51752,     0.51852,     0.51952,     0.52052,     0.52152,     0.52252,     0.52352,     0.52452,     0.52553,     0.52653,     0.52753,\n",
       "           0.52853,     0.52953,     0.53053,     0.53153,     0.53253,     0.53353,     0.53453,     0.53554,     0.53654,     0.53754,     0.53854,     0.53954,     0.54054,     0.54154,     0.54254,     0.54354,     0.54454,     0.54555,     0.54655,     0.54755,     0.54855,     0.54955,     0.55055,     0.55155,\n",
       "           0.55255,     0.55355,     0.55455,     0.55556,     0.55656,     0.55756,     0.55856,     0.55956,     0.56056,     0.56156,     0.56256,     0.56356,     0.56456,     0.56557,     0.56657,     0.56757,     0.56857,     0.56957,     0.57057,     0.57157,     0.57257,     0.57357,     0.57457,     0.57558,\n",
       "           0.57658,     0.57758,     0.57858,     0.57958,     0.58058,     0.58158,     0.58258,     0.58358,     0.58458,     0.58559,     0.58659,     0.58759,     0.58859,     0.58959,     0.59059,     0.59159,     0.59259,     0.59359,     0.59459,      0.5956,      0.5966,      0.5976,      0.5986,      0.5996,\n",
       "            0.6006,      0.6016,      0.6026,      0.6036,      0.6046,     0.60561,     0.60661,     0.60761,     0.60861,     0.60961,     0.61061,     0.61161,     0.61261,     0.61361,     0.61461,     0.61562,     0.61662,     0.61762,     0.61862,     0.61962,     0.62062,     0.62162,     0.62262,     0.62362,\n",
       "           0.62462,     0.62563,     0.62663,     0.62763,     0.62863,     0.62963,     0.63063,     0.63163,     0.63263,     0.63363,     0.63463,     0.63564,     0.63664,     0.63764,     0.63864,     0.63964,     0.64064,     0.64164,     0.64264,     0.64364,     0.64464,     0.64565,     0.64665,     0.64765,\n",
       "           0.64865,     0.64965,     0.65065,     0.65165,     0.65265,     0.65365,     0.65465,     0.65566,     0.65666,     0.65766,     0.65866,     0.65966,     0.66066,     0.66166,     0.66266,     0.66366,     0.66466,     0.66567,     0.66667,     0.66767,     0.66867,     0.66967,     0.67067,     0.67167,\n",
       "           0.67267,     0.67367,     0.67467,     0.67568,     0.67668,     0.67768,     0.67868,     0.67968,     0.68068,     0.68168,     0.68268,     0.68368,     0.68468,     0.68569,     0.68669,     0.68769,     0.68869,     0.68969,     0.69069,     0.69169,     0.69269,     0.69369,     0.69469,      0.6957,\n",
       "            0.6967,      0.6977,      0.6987,      0.6997,      0.7007,      0.7017,      0.7027,      0.7037,      0.7047,     0.70571,     0.70671,     0.70771,     0.70871,     0.70971,     0.71071,     0.71171,     0.71271,     0.71371,     0.71471,     0.71572,     0.71672,     0.71772,     0.71872,     0.71972,\n",
       "           0.72072,     0.72172,     0.72272,     0.72372,     0.72472,     0.72573,     0.72673,     0.72773,     0.72873,     0.72973,     0.73073,     0.73173,     0.73273,     0.73373,     0.73473,     0.73574,     0.73674,     0.73774,     0.73874,     0.73974,     0.74074,     0.74174,     0.74274,     0.74374,\n",
       "           0.74474,     0.74575,     0.74675,     0.74775,     0.74875,     0.74975,     0.75075,     0.75175,     0.75275,     0.75375,     0.75475,     0.75576,     0.75676,     0.75776,     0.75876,     0.75976,     0.76076,     0.76176,     0.76276,     0.76376,     0.76476,     0.76577,     0.76677,     0.76777,\n",
       "           0.76877,     0.76977,     0.77077,     0.77177,     0.77277,     0.77377,     0.77477,     0.77578,     0.77678,     0.77778,     0.77878,     0.77978,     0.78078,     0.78178,     0.78278,     0.78378,     0.78478,     0.78579,     0.78679,     0.78779,     0.78879,     0.78979,     0.79079,     0.79179,\n",
       "           0.79279,     0.79379,     0.79479,      0.7958,      0.7968,      0.7978,      0.7988,      0.7998,      0.8008,      0.8018,      0.8028,      0.8038,      0.8048,     0.80581,     0.80681,     0.80781,     0.80881,     0.80981,     0.81081,     0.81181,     0.81281,     0.81381,     0.81481,     0.81582,\n",
       "           0.81682,     0.81782,     0.81882,     0.81982,     0.82082,     0.82182,     0.82282,     0.82382,     0.82482,     0.82583,     0.82683,     0.82783,     0.82883,     0.82983,     0.83083,     0.83183,     0.83283,     0.83383,     0.83483,     0.83584,     0.83684,     0.83784,     0.83884,     0.83984,\n",
       "           0.84084,     0.84184,     0.84284,     0.84384,     0.84484,     0.84585,     0.84685,     0.84785,     0.84885,     0.84985,     0.85085,     0.85185,     0.85285,     0.85385,     0.85485,     0.85586,     0.85686,     0.85786,     0.85886,     0.85986,     0.86086,     0.86186,     0.86286,     0.86386,\n",
       "           0.86486,     0.86587,     0.86687,     0.86787,     0.86887,     0.86987,     0.87087,     0.87187,     0.87287,     0.87387,     0.87487,     0.87588,     0.87688,     0.87788,     0.87888,     0.87988,     0.88088,     0.88188,     0.88288,     0.88388,     0.88488,     0.88589,     0.88689,     0.88789,\n",
       "           0.88889,     0.88989,     0.89089,     0.89189,     0.89289,     0.89389,     0.89489,      0.8959,      0.8969,      0.8979,      0.8989,      0.8999,      0.9009,      0.9019,      0.9029,      0.9039,      0.9049,     0.90591,     0.90691,     0.90791,     0.90891,     0.90991,     0.91091,     0.91191,\n",
       "           0.91291,     0.91391,     0.91491,     0.91592,     0.91692,     0.91792,     0.91892,     0.91992,     0.92092,     0.92192,     0.92292,     0.92392,     0.92492,     0.92593,     0.92693,     0.92793,     0.92893,     0.92993,     0.93093,     0.93193,     0.93293,     0.93393,     0.93493,     0.93594,\n",
       "           0.93694,     0.93794,     0.93894,     0.93994,     0.94094,     0.94194,     0.94294,     0.94394,     0.94494,     0.94595,     0.94695,     0.94795,     0.94895,     0.94995,     0.95095,     0.95195,     0.95295,     0.95395,     0.95495,     0.95596,     0.95696,     0.95796,     0.95896,     0.95996,\n",
       "           0.96096,     0.96196,     0.96296,     0.96396,     0.96496,     0.96597,     0.96697,     0.96797,     0.96897,     0.96997,     0.97097,     0.97197,     0.97297,     0.97397,     0.97497,     0.97598,     0.97698,     0.97798,     0.97898,     0.97998,     0.98098,     0.98198,     0.98298,     0.98398,\n",
       "           0.98498,     0.98599,     0.98699,     0.98799,     0.98899,     0.98999,     0.99099,     0.99199,     0.99299,     0.99399,     0.99499,       0.996,       0.997,       0.998,       0.999,           1]), array([[   0.042114,     0.14123,     0.22972, ...,           1,           1,           1],\n",
       "       [   0.079817,     0.37749,     0.57864, ...,           1,           1,           1],\n",
       "       [   0.039122,      0.1757,      0.2418, ...,           1,           1,           1]]), 'Confidence', 'Precision'], [array([          0,    0.001001,    0.002002,    0.003003,    0.004004,    0.005005,    0.006006,    0.007007,    0.008008,    0.009009,     0.01001,    0.011011,    0.012012,    0.013013,    0.014014,    0.015015,    0.016016,    0.017017,    0.018018,    0.019019,     0.02002,    0.021021,    0.022022,    0.023023,\n",
       "          0.024024,    0.025025,    0.026026,    0.027027,    0.028028,    0.029029,     0.03003,    0.031031,    0.032032,    0.033033,    0.034034,    0.035035,    0.036036,    0.037037,    0.038038,    0.039039,     0.04004,    0.041041,    0.042042,    0.043043,    0.044044,    0.045045,    0.046046,    0.047047,\n",
       "          0.048048,    0.049049,     0.05005,    0.051051,    0.052052,    0.053053,    0.054054,    0.055055,    0.056056,    0.057057,    0.058058,    0.059059,     0.06006,    0.061061,    0.062062,    0.063063,    0.064064,    0.065065,    0.066066,    0.067067,    0.068068,    0.069069,     0.07007,    0.071071,\n",
       "          0.072072,    0.073073,    0.074074,    0.075075,    0.076076,    0.077077,    0.078078,    0.079079,     0.08008,    0.081081,    0.082082,    0.083083,    0.084084,    0.085085,    0.086086,    0.087087,    0.088088,    0.089089,     0.09009,    0.091091,    0.092092,    0.093093,    0.094094,    0.095095,\n",
       "          0.096096,    0.097097,    0.098098,    0.099099,      0.1001,      0.1011,      0.1021,      0.1031,      0.1041,     0.10511,     0.10611,     0.10711,     0.10811,     0.10911,     0.11011,     0.11111,     0.11211,     0.11311,     0.11411,     0.11512,     0.11612,     0.11712,     0.11812,     0.11912,\n",
       "           0.12012,     0.12112,     0.12212,     0.12312,     0.12412,     0.12513,     0.12613,     0.12713,     0.12813,     0.12913,     0.13013,     0.13113,     0.13213,     0.13313,     0.13413,     0.13514,     0.13614,     0.13714,     0.13814,     0.13914,     0.14014,     0.14114,     0.14214,     0.14314,\n",
       "           0.14414,     0.14515,     0.14615,     0.14715,     0.14815,     0.14915,     0.15015,     0.15115,     0.15215,     0.15315,     0.15415,     0.15516,     0.15616,     0.15716,     0.15816,     0.15916,     0.16016,     0.16116,     0.16216,     0.16316,     0.16416,     0.16517,     0.16617,     0.16717,\n",
       "           0.16817,     0.16917,     0.17017,     0.17117,     0.17217,     0.17317,     0.17417,     0.17518,     0.17618,     0.17718,     0.17818,     0.17918,     0.18018,     0.18118,     0.18218,     0.18318,     0.18418,     0.18519,     0.18619,     0.18719,     0.18819,     0.18919,     0.19019,     0.19119,\n",
       "           0.19219,     0.19319,     0.19419,      0.1952,      0.1962,      0.1972,      0.1982,      0.1992,      0.2002,      0.2012,      0.2022,      0.2032,      0.2042,     0.20521,     0.20621,     0.20721,     0.20821,     0.20921,     0.21021,     0.21121,     0.21221,     0.21321,     0.21421,     0.21522,\n",
       "           0.21622,     0.21722,     0.21822,     0.21922,     0.22022,     0.22122,     0.22222,     0.22322,     0.22422,     0.22523,     0.22623,     0.22723,     0.22823,     0.22923,     0.23023,     0.23123,     0.23223,     0.23323,     0.23423,     0.23524,     0.23624,     0.23724,     0.23824,     0.23924,\n",
       "           0.24024,     0.24124,     0.24224,     0.24324,     0.24424,     0.24525,     0.24625,     0.24725,     0.24825,     0.24925,     0.25025,     0.25125,     0.25225,     0.25325,     0.25425,     0.25526,     0.25626,     0.25726,     0.25826,     0.25926,     0.26026,     0.26126,     0.26226,     0.26326,\n",
       "           0.26426,     0.26527,     0.26627,     0.26727,     0.26827,     0.26927,     0.27027,     0.27127,     0.27227,     0.27327,     0.27427,     0.27528,     0.27628,     0.27728,     0.27828,     0.27928,     0.28028,     0.28128,     0.28228,     0.28328,     0.28428,     0.28529,     0.28629,     0.28729,\n",
       "           0.28829,     0.28929,     0.29029,     0.29129,     0.29229,     0.29329,     0.29429,      0.2953,      0.2963,      0.2973,      0.2983,      0.2993,      0.3003,      0.3013,      0.3023,      0.3033,      0.3043,     0.30531,     0.30631,     0.30731,     0.30831,     0.30931,     0.31031,     0.31131,\n",
       "           0.31231,     0.31331,     0.31431,     0.31532,     0.31632,     0.31732,     0.31832,     0.31932,     0.32032,     0.32132,     0.32232,     0.32332,     0.32432,     0.32533,     0.32633,     0.32733,     0.32833,     0.32933,     0.33033,     0.33133,     0.33233,     0.33333,     0.33433,     0.33534,\n",
       "           0.33634,     0.33734,     0.33834,     0.33934,     0.34034,     0.34134,     0.34234,     0.34334,     0.34434,     0.34535,     0.34635,     0.34735,     0.34835,     0.34935,     0.35035,     0.35135,     0.35235,     0.35335,     0.35435,     0.35536,     0.35636,     0.35736,     0.35836,     0.35936,\n",
       "           0.36036,     0.36136,     0.36236,     0.36336,     0.36436,     0.36537,     0.36637,     0.36737,     0.36837,     0.36937,     0.37037,     0.37137,     0.37237,     0.37337,     0.37437,     0.37538,     0.37638,     0.37738,     0.37838,     0.37938,     0.38038,     0.38138,     0.38238,     0.38338,\n",
       "           0.38438,     0.38539,     0.38639,     0.38739,     0.38839,     0.38939,     0.39039,     0.39139,     0.39239,     0.39339,     0.39439,      0.3954,      0.3964,      0.3974,      0.3984,      0.3994,      0.4004,      0.4014,      0.4024,      0.4034,      0.4044,     0.40541,     0.40641,     0.40741,\n",
       "           0.40841,     0.40941,     0.41041,     0.41141,     0.41241,     0.41341,     0.41441,     0.41542,     0.41642,     0.41742,     0.41842,     0.41942,     0.42042,     0.42142,     0.42242,     0.42342,     0.42442,     0.42543,     0.42643,     0.42743,     0.42843,     0.42943,     0.43043,     0.43143,\n",
       "           0.43243,     0.43343,     0.43443,     0.43544,     0.43644,     0.43744,     0.43844,     0.43944,     0.44044,     0.44144,     0.44244,     0.44344,     0.44444,     0.44545,     0.44645,     0.44745,     0.44845,     0.44945,     0.45045,     0.45145,     0.45245,     0.45345,     0.45445,     0.45546,\n",
       "           0.45646,     0.45746,     0.45846,     0.45946,     0.46046,     0.46146,     0.46246,     0.46346,     0.46446,     0.46547,     0.46647,     0.46747,     0.46847,     0.46947,     0.47047,     0.47147,     0.47247,     0.47347,     0.47447,     0.47548,     0.47648,     0.47748,     0.47848,     0.47948,\n",
       "           0.48048,     0.48148,     0.48248,     0.48348,     0.48448,     0.48549,     0.48649,     0.48749,     0.48849,     0.48949,     0.49049,     0.49149,     0.49249,     0.49349,     0.49449,      0.4955,      0.4965,      0.4975,      0.4985,      0.4995,      0.5005,      0.5015,      0.5025,      0.5035,\n",
       "            0.5045,     0.50551,     0.50651,     0.50751,     0.50851,     0.50951,     0.51051,     0.51151,     0.51251,     0.51351,     0.51451,     0.51552,     0.51652,     0.51752,     0.51852,     0.51952,     0.52052,     0.52152,     0.52252,     0.52352,     0.52452,     0.52553,     0.52653,     0.52753,\n",
       "           0.52853,     0.52953,     0.53053,     0.53153,     0.53253,     0.53353,     0.53453,     0.53554,     0.53654,     0.53754,     0.53854,     0.53954,     0.54054,     0.54154,     0.54254,     0.54354,     0.54454,     0.54555,     0.54655,     0.54755,     0.54855,     0.54955,     0.55055,     0.55155,\n",
       "           0.55255,     0.55355,     0.55455,     0.55556,     0.55656,     0.55756,     0.55856,     0.55956,     0.56056,     0.56156,     0.56256,     0.56356,     0.56456,     0.56557,     0.56657,     0.56757,     0.56857,     0.56957,     0.57057,     0.57157,     0.57257,     0.57357,     0.57457,     0.57558,\n",
       "           0.57658,     0.57758,     0.57858,     0.57958,     0.58058,     0.58158,     0.58258,     0.58358,     0.58458,     0.58559,     0.58659,     0.58759,     0.58859,     0.58959,     0.59059,     0.59159,     0.59259,     0.59359,     0.59459,      0.5956,      0.5966,      0.5976,      0.5986,      0.5996,\n",
       "            0.6006,      0.6016,      0.6026,      0.6036,      0.6046,     0.60561,     0.60661,     0.60761,     0.60861,     0.60961,     0.61061,     0.61161,     0.61261,     0.61361,     0.61461,     0.61562,     0.61662,     0.61762,     0.61862,     0.61962,     0.62062,     0.62162,     0.62262,     0.62362,\n",
       "           0.62462,     0.62563,     0.62663,     0.62763,     0.62863,     0.62963,     0.63063,     0.63163,     0.63263,     0.63363,     0.63463,     0.63564,     0.63664,     0.63764,     0.63864,     0.63964,     0.64064,     0.64164,     0.64264,     0.64364,     0.64464,     0.64565,     0.64665,     0.64765,\n",
       "           0.64865,     0.64965,     0.65065,     0.65165,     0.65265,     0.65365,     0.65465,     0.65566,     0.65666,     0.65766,     0.65866,     0.65966,     0.66066,     0.66166,     0.66266,     0.66366,     0.66466,     0.66567,     0.66667,     0.66767,     0.66867,     0.66967,     0.67067,     0.67167,\n",
       "           0.67267,     0.67367,     0.67467,     0.67568,     0.67668,     0.67768,     0.67868,     0.67968,     0.68068,     0.68168,     0.68268,     0.68368,     0.68468,     0.68569,     0.68669,     0.68769,     0.68869,     0.68969,     0.69069,     0.69169,     0.69269,     0.69369,     0.69469,      0.6957,\n",
       "            0.6967,      0.6977,      0.6987,      0.6997,      0.7007,      0.7017,      0.7027,      0.7037,      0.7047,     0.70571,     0.70671,     0.70771,     0.70871,     0.70971,     0.71071,     0.71171,     0.71271,     0.71371,     0.71471,     0.71572,     0.71672,     0.71772,     0.71872,     0.71972,\n",
       "           0.72072,     0.72172,     0.72272,     0.72372,     0.72472,     0.72573,     0.72673,     0.72773,     0.72873,     0.72973,     0.73073,     0.73173,     0.73273,     0.73373,     0.73473,     0.73574,     0.73674,     0.73774,     0.73874,     0.73974,     0.74074,     0.74174,     0.74274,     0.74374,\n",
       "           0.74474,     0.74575,     0.74675,     0.74775,     0.74875,     0.74975,     0.75075,     0.75175,     0.75275,     0.75375,     0.75475,     0.75576,     0.75676,     0.75776,     0.75876,     0.75976,     0.76076,     0.76176,     0.76276,     0.76376,     0.76476,     0.76577,     0.76677,     0.76777,\n",
       "           0.76877,     0.76977,     0.77077,     0.77177,     0.77277,     0.77377,     0.77477,     0.77578,     0.77678,     0.77778,     0.77878,     0.77978,     0.78078,     0.78178,     0.78278,     0.78378,     0.78478,     0.78579,     0.78679,     0.78779,     0.78879,     0.78979,     0.79079,     0.79179,\n",
       "           0.79279,     0.79379,     0.79479,      0.7958,      0.7968,      0.7978,      0.7988,      0.7998,      0.8008,      0.8018,      0.8028,      0.8038,      0.8048,     0.80581,     0.80681,     0.80781,     0.80881,     0.80981,     0.81081,     0.81181,     0.81281,     0.81381,     0.81481,     0.81582,\n",
       "           0.81682,     0.81782,     0.81882,     0.81982,     0.82082,     0.82182,     0.82282,     0.82382,     0.82482,     0.82583,     0.82683,     0.82783,     0.82883,     0.82983,     0.83083,     0.83183,     0.83283,     0.83383,     0.83483,     0.83584,     0.83684,     0.83784,     0.83884,     0.83984,\n",
       "           0.84084,     0.84184,     0.84284,     0.84384,     0.84484,     0.84585,     0.84685,     0.84785,     0.84885,     0.84985,     0.85085,     0.85185,     0.85285,     0.85385,     0.85485,     0.85586,     0.85686,     0.85786,     0.85886,     0.85986,     0.86086,     0.86186,     0.86286,     0.86386,\n",
       "           0.86486,     0.86587,     0.86687,     0.86787,     0.86887,     0.86987,     0.87087,     0.87187,     0.87287,     0.87387,     0.87487,     0.87588,     0.87688,     0.87788,     0.87888,     0.87988,     0.88088,     0.88188,     0.88288,     0.88388,     0.88488,     0.88589,     0.88689,     0.88789,\n",
       "           0.88889,     0.88989,     0.89089,     0.89189,     0.89289,     0.89389,     0.89489,      0.8959,      0.8969,      0.8979,      0.8989,      0.8999,      0.9009,      0.9019,      0.9029,      0.9039,      0.9049,     0.90591,     0.90691,     0.90791,     0.90891,     0.90991,     0.91091,     0.91191,\n",
       "           0.91291,     0.91391,     0.91491,     0.91592,     0.91692,     0.91792,     0.91892,     0.91992,     0.92092,     0.92192,     0.92292,     0.92392,     0.92492,     0.92593,     0.92693,     0.92793,     0.92893,     0.92993,     0.93093,     0.93193,     0.93293,     0.93393,     0.93493,     0.93594,\n",
       "           0.93694,     0.93794,     0.93894,     0.93994,     0.94094,     0.94194,     0.94294,     0.94394,     0.94494,     0.94595,     0.94695,     0.94795,     0.94895,     0.94995,     0.95095,     0.95195,     0.95295,     0.95395,     0.95495,     0.95596,     0.95696,     0.95796,     0.95896,     0.95996,\n",
       "           0.96096,     0.96196,     0.96296,     0.96396,     0.96496,     0.96597,     0.96697,     0.96797,     0.96897,     0.96997,     0.97097,     0.97197,     0.97297,     0.97397,     0.97497,     0.97598,     0.97698,     0.97798,     0.97898,     0.97998,     0.98098,     0.98198,     0.98298,     0.98398,\n",
       "           0.98498,     0.98599,     0.98699,     0.98799,     0.98899,     0.98999,     0.99099,     0.99199,     0.99299,     0.99399,     0.99499,       0.996,       0.997,       0.998,       0.999,           1]), array([[     0.9969,     0.99587,     0.99587, ...,           0,           0,           0],\n",
       "       [          1,           1,           1, ...,           0,           0,           0],\n",
       "       [    0.98795,     0.98795,     0.98795, ...,           0,           0,           0]]), 'Confidence', 'Recall']]\n",
       "fitness: 0.7536816386561584\n",
       "keys: ['metrics/precision(B)', 'metrics/recall(B)', 'metrics/mAP50(B)', 'metrics/mAP50-95(B)']\n",
       "maps: array([    0.73808,     0.88745,     0.56784])\n",
       "names: {0: 'RBC', 1: 'WBC', 2: 'Platelets'}\n",
       "plot: True\n",
       "results_dict: {'metrics/precision(B)': 0.8955418801194271, 'metrics/recall(B)': 0.9063137017945714, 'metrics/mAP50(B)': 0.9566901851314226, 'metrics/mAP50-95(B)': 0.7311251334922402, 'fitness': 0.7536816386561584}\n",
       "save_dir: PosixPath('runs/detect/train')\n",
       "speed: {'preprocess': 0.1770134629874394, 'inference': 3.6353900514799973, 'loss': 0.0003836620813128592, 'postprocess': 0.02356781356636135}\n",
       "task: 'detect'"
      ]
     },
     "execution_count": 3,
     "metadata": {},
     "output_type": "execute_result"
    }
   ],
   "source": [
    "import os\n",
    "from ultralytics import YOLOv10\n",
    "\n",
    "config_path = '/content/config.yaml'\n",
    "\n",
    "model = YOLOv10.from_pretrained(\"jameslahm/yolov10n\")\n",
    "\n",
    "model.train(data = config_path, epochs = 200, batch = 32)"
   ]
  },
  {
   "cell_type": "code",
   "execution_count": null,
   "metadata": {
    "colab": {
     "base_uri": "https://localhost:8080/",
     "height": 517
    },
    "collapsed": true,
    "id": "xTgD5ww4nk54",
    "outputId": "7240c7d9-156a-468a-d1f8-46a50ba603fa"
   },
   "outputs": [
    {
     "name": "stdout",
     "output_type": "stream",
     "text": [
      "  adding: content/runs/ (stored 0%)\n",
      "  adding: content/runs/detect/ (stored 0%)\n",
      "  adding: content/runs/detect/train/ (stored 0%)\n",
      "  adding: content/runs/detect/train/results.png (deflated 9%)\n",
      "  adding: content/runs/detect/train/train_batch2280.jpg (deflated 11%)\n",
      "  adding: content/runs/detect/train/train_batch2282.jpg (deflated 11%)\n",
      "  adding: content/runs/detect/train/confusion_matrix.png (deflated 33%)\n",
      "  adding: content/runs/detect/train/R_curve.png (deflated 11%)\n",
      "  adding: content/runs/detect/train/P_curve.png (deflated 12%)\n",
      "  adding: content/runs/detect/train/val_batch1_labels.jpg (deflated 7%)\n",
      "  adding: content/runs/detect/train/train_batch2281.jpg (deflated 10%)\n",
      "  adding: content/runs/detect/train/F1_curve.png (deflated 9%)\n",
      "  adding: content/runs/detect/train/weights/ (stored 0%)\n",
      "  adding: content/runs/detect/train/weights/last.pt (deflated 11%)\n",
      "  adding: content/runs/detect/train/weights/best.pt (deflated 11%)\n",
      "  adding: content/runs/detect/train/labels_correlogram.jpg (deflated 35%)\n",
      "  adding: content/runs/detect/train/val_batch0_labels.jpg (deflated 7%)\n",
      "  adding: content/runs/detect/train/confusion_matrix_normalized.png (deflated 30%)\n",
      "  adding: content/runs/detect/train/train_batch1.jpg (deflated 4%)\n",
      "  adding: content/runs/detect/train/val_batch1_pred.jpg (deflated 5%)\n",
      "  adding: content/runs/detect/train/events.out.tfevents.1732400594.e248f1671504.272.0 (deflated 84%)\n",
      "  adding: content/runs/detect/train/train_batch2.jpg (deflated 4%)\n",
      "  adding: content/runs/detect/train/val_batch0_pred.jpg (deflated 5%)\n",
      "  adding: content/runs/detect/train/args.yaml (deflated 53%)\n",
      "  adding: content/runs/detect/train/train_batch0.jpg (deflated 4%)\n",
      "  adding: content/runs/detect/train/PR_curve.png (deflated 15%)\n",
      "  adding: content/runs/detect/train/results.csv (deflated 85%)\n",
      "  adding: content/runs/detect/train/labels.jpg (deflated 25%)\n"
     ]
    },
    {
     "data": {
      "application/javascript": "\n    async function download(id, filename, size) {\n      if (!google.colab.kernel.accessAllowed) {\n        return;\n      }\n      const div = document.createElement('div');\n      const label = document.createElement('label');\n      label.textContent = `Downloading \"${filename}\": `;\n      div.appendChild(label);\n      const progress = document.createElement('progress');\n      progress.max = size;\n      div.appendChild(progress);\n      document.body.appendChild(div);\n\n      const buffers = [];\n      let downloaded = 0;\n\n      const channel = await google.colab.kernel.comms.open(id);\n      // Send a message to notify the kernel that we're ready.\n      channel.send({})\n\n      for await (const message of channel.messages) {\n        // Send a message to notify the kernel that we're ready.\n        channel.send({})\n        if (message.buffers) {\n          for (const buffer of message.buffers) {\n            buffers.push(buffer);\n            downloaded += buffer.byteLength;\n            progress.value = downloaded;\n          }\n        }\n      }\n      const blob = new Blob(buffers, {type: 'application/binary'});\n      const a = document.createElement('a');\n      a.href = window.URL.createObjectURL(blob);\n      a.download = filename;\n      div.appendChild(a);\n      a.click();\n      div.remove();\n    }\n  ",
      "text/plain": [
       "<IPython.core.display.Javascript object>"
      ]
     },
     "metadata": {},
     "output_type": "display_data"
    },
    {
     "data": {
      "application/javascript": "download(\"download_2e00eb61-14dd-4464-be09-55f7f452e136\", \"runs.zip\", 16598887)",
      "text/plain": [
       "<IPython.core.display.Javascript object>"
      ]
     },
     "metadata": {},
     "output_type": "display_data"
    }
   ],
   "source": [
    "from google.colab import files\n",
    "import locale\n",
    "\n",
    "locale.getpreferredencoding = lambda: \"UTF-8\"\n",
    "\n",
    "!zip -r /content/runs.zip /content/runs\n",
    "files.download('/content/runs.zip')"
   ]
  }
 ],
 "metadata": {
  "accelerator": "GPU",
  "colab": {
   "gpuType": "T4",
   "name": "Welcome To Colab",
   "provenance": []
  },
  "kernelspec": {
   "display_name": "yolo10-venv",
   "language": "python",
   "name": "python3"
  },
  "language_info": {
   "name": "python",
   "version": "3.12.3"
  },
  "widgets": {
   "application/vnd.jupyter.widget-state+json": {
    "1459676f1822441db7c312c7e04945f6": {
     "model_module": "@jupyter-widgets/controls",
     "model_module_version": "1.5.0",
     "model_name": "DescriptionStyleModel",
     "state": {
      "_model_module": "@jupyter-widgets/controls",
      "_model_module_version": "1.5.0",
      "_model_name": "DescriptionStyleModel",
      "_view_count": null,
      "_view_module": "@jupyter-widgets/base",
      "_view_module_version": "1.2.0",
      "_view_name": "StyleView",
      "description_width": ""
     }
    },
    "1fb93a60f2a44b51b9273cf3ae1ce505": {
     "model_module": "@jupyter-widgets/base",
     "model_module_version": "1.2.0",
     "model_name": "LayoutModel",
     "state": {
      "_model_module": "@jupyter-widgets/base",
      "_model_module_version": "1.2.0",
      "_model_name": "LayoutModel",
      "_view_count": null,
      "_view_module": "@jupyter-widgets/base",
      "_view_module_version": "1.2.0",
      "_view_name": "LayoutView",
      "align_content": null,
      "align_items": null,
      "align_self": null,
      "border": null,
      "bottom": null,
      "display": null,
      "flex": null,
      "flex_flow": null,
      "grid_area": null,
      "grid_auto_columns": null,
      "grid_auto_flow": null,
      "grid_auto_rows": null,
      "grid_column": null,
      "grid_gap": null,
      "grid_row": null,
      "grid_template_areas": null,
      "grid_template_columns": null,
      "grid_template_rows": null,
      "height": null,
      "justify_content": null,
      "justify_items": null,
      "left": null,
      "margin": null,
      "max_height": null,
      "max_width": null,
      "min_height": null,
      "min_width": null,
      "object_fit": null,
      "object_position": null,
      "order": null,
      "overflow": null,
      "overflow_x": null,
      "overflow_y": null,
      "padding": null,
      "right": null,
      "top": null,
      "visibility": null,
      "width": null
     }
    },
    "2ca41abf3da64173922d4daf075519ea": {
     "model_module": "@jupyter-widgets/controls",
     "model_module_version": "1.5.0",
     "model_name": "FloatProgressModel",
     "state": {
      "_dom_classes": [],
      "_model_module": "@jupyter-widgets/controls",
      "_model_module_version": "1.5.0",
      "_model_name": "FloatProgressModel",
      "_view_count": null,
      "_view_module": "@jupyter-widgets/controls",
      "_view_module_version": "1.5.0",
      "_view_name": "ProgressView",
      "bar_style": "success",
      "description": "",
      "description_tooltip": null,
      "layout": "IPY_MODEL_565ee8d7501b48449adc8c72464a3445",
      "max": 11245792,
      "min": 0,
      "orientation": "horizontal",
      "style": "IPY_MODEL_e1002d6a0d8f4413b7b3ac4545563447",
      "value": 11245792
     }
    },
    "2f0c450f5fa04d8cbcc0cbd9918427d8": {
     "model_module": "@jupyter-widgets/controls",
     "model_module_version": "1.5.0",
     "model_name": "HTMLModel",
     "state": {
      "_dom_classes": [],
      "_model_module": "@jupyter-widgets/controls",
      "_model_module_version": "1.5.0",
      "_model_name": "HTMLModel",
      "_view_count": null,
      "_view_module": "@jupyter-widgets/controls",
      "_view_module_version": "1.5.0",
      "_view_name": "HTMLView",
      "description": "",
      "description_tooltip": null,
      "layout": "IPY_MODEL_1fb93a60f2a44b51b9273cf3ae1ce505",
      "placeholder": "​",
      "style": "IPY_MODEL_88ef155425c242e9a237071bc0fc6cd2",
      "value": " 1.72k/1.72k [00:00&lt;00:00, 125kB/s]"
     }
    },
    "329604cf2b074ad798b0d15ff32c7b17": {
     "model_module": "@jupyter-widgets/base",
     "model_module_version": "1.2.0",
     "model_name": "LayoutModel",
     "state": {
      "_model_module": "@jupyter-widgets/base",
      "_model_module_version": "1.2.0",
      "_model_name": "LayoutModel",
      "_view_count": null,
      "_view_module": "@jupyter-widgets/base",
      "_view_module_version": "1.2.0",
      "_view_name": "LayoutView",
      "align_content": null,
      "align_items": null,
      "align_self": null,
      "border": null,
      "bottom": null,
      "display": null,
      "flex": null,
      "flex_flow": null,
      "grid_area": null,
      "grid_auto_columns": null,
      "grid_auto_flow": null,
      "grid_auto_rows": null,
      "grid_column": null,
      "grid_gap": null,
      "grid_row": null,
      "grid_template_areas": null,
      "grid_template_columns": null,
      "grid_template_rows": null,
      "height": null,
      "justify_content": null,
      "justify_items": null,
      "left": null,
      "margin": null,
      "max_height": null,
      "max_width": null,
      "min_height": null,
      "min_width": null,
      "object_fit": null,
      "object_position": null,
      "order": null,
      "overflow": null,
      "overflow_x": null,
      "overflow_y": null,
      "padding": null,
      "right": null,
      "top": null,
      "visibility": null,
      "width": null
     }
    },
    "338be5d6ca1844aea211f7e6804ef752": {
     "model_module": "@jupyter-widgets/controls",
     "model_module_version": "1.5.0",
     "model_name": "HTMLModel",
     "state": {
      "_dom_classes": [],
      "_model_module": "@jupyter-widgets/controls",
      "_model_module_version": "1.5.0",
      "_model_name": "HTMLModel",
      "_view_count": null,
      "_view_module": "@jupyter-widgets/controls",
      "_view_module_version": "1.5.0",
      "_view_name": "HTMLView",
      "description": "",
      "description_tooltip": null,
      "layout": "IPY_MODEL_4d9fd1f74ded4619ae53860e60f188b6",
      "placeholder": "​",
      "style": "IPY_MODEL_1459676f1822441db7c312c7e04945f6",
      "value": " 11.2M/11.2M [00:00&lt;00:00, 29.1MB/s]"
     }
    },
    "398a09fc9a4a4c12b7ec3840fde4eaea": {
     "model_module": "@jupyter-widgets/controls",
     "model_module_version": "1.5.0",
     "model_name": "HTMLModel",
     "state": {
      "_dom_classes": [],
      "_model_module": "@jupyter-widgets/controls",
      "_model_module_version": "1.5.0",
      "_model_name": "HTMLModel",
      "_view_count": null,
      "_view_module": "@jupyter-widgets/controls",
      "_view_module_version": "1.5.0",
      "_view_name": "HTMLView",
      "description": "",
      "description_tooltip": null,
      "layout": "IPY_MODEL_c030406213eb47ae9423082631f06fd2",
      "placeholder": "​",
      "style": "IPY_MODEL_f686223073b54c1795ff0d4de9cb2964",
      "value": "config.json: 100%"
     }
    },
    "4d9fd1f74ded4619ae53860e60f188b6": {
     "model_module": "@jupyter-widgets/base",
     "model_module_version": "1.2.0",
     "model_name": "LayoutModel",
     "state": {
      "_model_module": "@jupyter-widgets/base",
      "_model_module_version": "1.2.0",
      "_model_name": "LayoutModel",
      "_view_count": null,
      "_view_module": "@jupyter-widgets/base",
      "_view_module_version": "1.2.0",
      "_view_name": "LayoutView",
      "align_content": null,
      "align_items": null,
      "align_self": null,
      "border": null,
      "bottom": null,
      "display": null,
      "flex": null,
      "flex_flow": null,
      "grid_area": null,
      "grid_auto_columns": null,
      "grid_auto_flow": null,
      "grid_auto_rows": null,
      "grid_column": null,
      "grid_gap": null,
      "grid_row": null,
      "grid_template_areas": null,
      "grid_template_columns": null,
      "grid_template_rows": null,
      "height": null,
      "justify_content": null,
      "justify_items": null,
      "left": null,
      "margin": null,
      "max_height": null,
      "max_width": null,
      "min_height": null,
      "min_width": null,
      "object_fit": null,
      "object_position": null,
      "order": null,
      "overflow": null,
      "overflow_x": null,
      "overflow_y": null,
      "padding": null,
      "right": null,
      "top": null,
      "visibility": null,
      "width": null
     }
    },
    "565ee8d7501b48449adc8c72464a3445": {
     "model_module": "@jupyter-widgets/base",
     "model_module_version": "1.2.0",
     "model_name": "LayoutModel",
     "state": {
      "_model_module": "@jupyter-widgets/base",
      "_model_module_version": "1.2.0",
      "_model_name": "LayoutModel",
      "_view_count": null,
      "_view_module": "@jupyter-widgets/base",
      "_view_module_version": "1.2.0",
      "_view_name": "LayoutView",
      "align_content": null,
      "align_items": null,
      "align_self": null,
      "border": null,
      "bottom": null,
      "display": null,
      "flex": null,
      "flex_flow": null,
      "grid_area": null,
      "grid_auto_columns": null,
      "grid_auto_flow": null,
      "grid_auto_rows": null,
      "grid_column": null,
      "grid_gap": null,
      "grid_row": null,
      "grid_template_areas": null,
      "grid_template_columns": null,
      "grid_template_rows": null,
      "height": null,
      "justify_content": null,
      "justify_items": null,
      "left": null,
      "margin": null,
      "max_height": null,
      "max_width": null,
      "min_height": null,
      "min_width": null,
      "object_fit": null,
      "object_position": null,
      "order": null,
      "overflow": null,
      "overflow_x": null,
      "overflow_y": null,
      "padding": null,
      "right": null,
      "top": null,
      "visibility": null,
      "width": null
     }
    },
    "5be239ba692b4a2ba6788852738a3fe6": {
     "model_module": "@jupyter-widgets/controls",
     "model_module_version": "1.5.0",
     "model_name": "DescriptionStyleModel",
     "state": {
      "_model_module": "@jupyter-widgets/controls",
      "_model_module_version": "1.5.0",
      "_model_name": "DescriptionStyleModel",
      "_view_count": null,
      "_view_module": "@jupyter-widgets/base",
      "_view_module_version": "1.2.0",
      "_view_name": "StyleView",
      "description_width": ""
     }
    },
    "658c0b98b327402aa2273c2338f83b1f": {
     "model_module": "@jupyter-widgets/controls",
     "model_module_version": "1.5.0",
     "model_name": "ProgressStyleModel",
     "state": {
      "_model_module": "@jupyter-widgets/controls",
      "_model_module_version": "1.5.0",
      "_model_name": "ProgressStyleModel",
      "_view_count": null,
      "_view_module": "@jupyter-widgets/base",
      "_view_module_version": "1.2.0",
      "_view_name": "StyleView",
      "bar_color": null,
      "description_width": ""
     }
    },
    "6622e3e0a20244b79824ed821137e4b4": {
     "model_module": "@jupyter-widgets/controls",
     "model_module_version": "1.5.0",
     "model_name": "HBoxModel",
     "state": {
      "_dom_classes": [],
      "_model_module": "@jupyter-widgets/controls",
      "_model_module_version": "1.5.0",
      "_model_name": "HBoxModel",
      "_view_count": null,
      "_view_module": "@jupyter-widgets/controls",
      "_view_module_version": "1.5.0",
      "_view_name": "HBoxView",
      "box_style": "",
      "children": [
       "IPY_MODEL_db0eb7236dc34d65b26d0f0d0dfca622",
       "IPY_MODEL_2ca41abf3da64173922d4daf075519ea",
       "IPY_MODEL_338be5d6ca1844aea211f7e6804ef752"
      ],
      "layout": "IPY_MODEL_c10dc0cff23541728ef1d417d4f90598"
     }
    },
    "88ef155425c242e9a237071bc0fc6cd2": {
     "model_module": "@jupyter-widgets/controls",
     "model_module_version": "1.5.0",
     "model_name": "DescriptionStyleModel",
     "state": {
      "_model_module": "@jupyter-widgets/controls",
      "_model_module_version": "1.5.0",
      "_model_name": "DescriptionStyleModel",
      "_view_count": null,
      "_view_module": "@jupyter-widgets/base",
      "_view_module_version": "1.2.0",
      "_view_name": "StyleView",
      "description_width": ""
     }
    },
    "aba031ba8b614cdaacc24a7f51ec9861": {
     "model_module": "@jupyter-widgets/controls",
     "model_module_version": "1.5.0",
     "model_name": "HBoxModel",
     "state": {
      "_dom_classes": [],
      "_model_module": "@jupyter-widgets/controls",
      "_model_module_version": "1.5.0",
      "_model_name": "HBoxModel",
      "_view_count": null,
      "_view_module": "@jupyter-widgets/controls",
      "_view_module_version": "1.5.0",
      "_view_name": "HBoxView",
      "box_style": "",
      "children": [
       "IPY_MODEL_398a09fc9a4a4c12b7ec3840fde4eaea",
       "IPY_MODEL_d8e4567fb8d1487abb220461d02fa675",
       "IPY_MODEL_2f0c450f5fa04d8cbcc0cbd9918427d8"
      ],
      "layout": "IPY_MODEL_bd105457b8ca4ad0bf344c0c124a0ad7"
     }
    },
    "bd105457b8ca4ad0bf344c0c124a0ad7": {
     "model_module": "@jupyter-widgets/base",
     "model_module_version": "1.2.0",
     "model_name": "LayoutModel",
     "state": {
      "_model_module": "@jupyter-widgets/base",
      "_model_module_version": "1.2.0",
      "_model_name": "LayoutModel",
      "_view_count": null,
      "_view_module": "@jupyter-widgets/base",
      "_view_module_version": "1.2.0",
      "_view_name": "LayoutView",
      "align_content": null,
      "align_items": null,
      "align_self": null,
      "border": null,
      "bottom": null,
      "display": null,
      "flex": null,
      "flex_flow": null,
      "grid_area": null,
      "grid_auto_columns": null,
      "grid_auto_flow": null,
      "grid_auto_rows": null,
      "grid_column": null,
      "grid_gap": null,
      "grid_row": null,
      "grid_template_areas": null,
      "grid_template_columns": null,
      "grid_template_rows": null,
      "height": null,
      "justify_content": null,
      "justify_items": null,
      "left": null,
      "margin": null,
      "max_height": null,
      "max_width": null,
      "min_height": null,
      "min_width": null,
      "object_fit": null,
      "object_position": null,
      "order": null,
      "overflow": null,
      "overflow_x": null,
      "overflow_y": null,
      "padding": null,
      "right": null,
      "top": null,
      "visibility": null,
      "width": null
     }
    },
    "c030406213eb47ae9423082631f06fd2": {
     "model_module": "@jupyter-widgets/base",
     "model_module_version": "1.2.0",
     "model_name": "LayoutModel",
     "state": {
      "_model_module": "@jupyter-widgets/base",
      "_model_module_version": "1.2.0",
      "_model_name": "LayoutModel",
      "_view_count": null,
      "_view_module": "@jupyter-widgets/base",
      "_view_module_version": "1.2.0",
      "_view_name": "LayoutView",
      "align_content": null,
      "align_items": null,
      "align_self": null,
      "border": null,
      "bottom": null,
      "display": null,
      "flex": null,
      "flex_flow": null,
      "grid_area": null,
      "grid_auto_columns": null,
      "grid_auto_flow": null,
      "grid_auto_rows": null,
      "grid_column": null,
      "grid_gap": null,
      "grid_row": null,
      "grid_template_areas": null,
      "grid_template_columns": null,
      "grid_template_rows": null,
      "height": null,
      "justify_content": null,
      "justify_items": null,
      "left": null,
      "margin": null,
      "max_height": null,
      "max_width": null,
      "min_height": null,
      "min_width": null,
      "object_fit": null,
      "object_position": null,
      "order": null,
      "overflow": null,
      "overflow_x": null,
      "overflow_y": null,
      "padding": null,
      "right": null,
      "top": null,
      "visibility": null,
      "width": null
     }
    },
    "c10dc0cff23541728ef1d417d4f90598": {
     "model_module": "@jupyter-widgets/base",
     "model_module_version": "1.2.0",
     "model_name": "LayoutModel",
     "state": {
      "_model_module": "@jupyter-widgets/base",
      "_model_module_version": "1.2.0",
      "_model_name": "LayoutModel",
      "_view_count": null,
      "_view_module": "@jupyter-widgets/base",
      "_view_module_version": "1.2.0",
      "_view_name": "LayoutView",
      "align_content": null,
      "align_items": null,
      "align_self": null,
      "border": null,
      "bottom": null,
      "display": null,
      "flex": null,
      "flex_flow": null,
      "grid_area": null,
      "grid_auto_columns": null,
      "grid_auto_flow": null,
      "grid_auto_rows": null,
      "grid_column": null,
      "grid_gap": null,
      "grid_row": null,
      "grid_template_areas": null,
      "grid_template_columns": null,
      "grid_template_rows": null,
      "height": null,
      "justify_content": null,
      "justify_items": null,
      "left": null,
      "margin": null,
      "max_height": null,
      "max_width": null,
      "min_height": null,
      "min_width": null,
      "object_fit": null,
      "object_position": null,
      "order": null,
      "overflow": null,
      "overflow_x": null,
      "overflow_y": null,
      "padding": null,
      "right": null,
      "top": null,
      "visibility": null,
      "width": null
     }
    },
    "cd1503c7d57b4770866bc15dc9d5f732": {
     "model_module": "@jupyter-widgets/base",
     "model_module_version": "1.2.0",
     "model_name": "LayoutModel",
     "state": {
      "_model_module": "@jupyter-widgets/base",
      "_model_module_version": "1.2.0",
      "_model_name": "LayoutModel",
      "_view_count": null,
      "_view_module": "@jupyter-widgets/base",
      "_view_module_version": "1.2.0",
      "_view_name": "LayoutView",
      "align_content": null,
      "align_items": null,
      "align_self": null,
      "border": null,
      "bottom": null,
      "display": null,
      "flex": null,
      "flex_flow": null,
      "grid_area": null,
      "grid_auto_columns": null,
      "grid_auto_flow": null,
      "grid_auto_rows": null,
      "grid_column": null,
      "grid_gap": null,
      "grid_row": null,
      "grid_template_areas": null,
      "grid_template_columns": null,
      "grid_template_rows": null,
      "height": null,
      "justify_content": null,
      "justify_items": null,
      "left": null,
      "margin": null,
      "max_height": null,
      "max_width": null,
      "min_height": null,
      "min_width": null,
      "object_fit": null,
      "object_position": null,
      "order": null,
      "overflow": null,
      "overflow_x": null,
      "overflow_y": null,
      "padding": null,
      "right": null,
      "top": null,
      "visibility": null,
      "width": null
     }
    },
    "d8e4567fb8d1487abb220461d02fa675": {
     "model_module": "@jupyter-widgets/controls",
     "model_module_version": "1.5.0",
     "model_name": "FloatProgressModel",
     "state": {
      "_dom_classes": [],
      "_model_module": "@jupyter-widgets/controls",
      "_model_module_version": "1.5.0",
      "_model_name": "FloatProgressModel",
      "_view_count": null,
      "_view_module": "@jupyter-widgets/controls",
      "_view_module_version": "1.5.0",
      "_view_name": "ProgressView",
      "bar_style": "success",
      "description": "",
      "description_tooltip": null,
      "layout": "IPY_MODEL_cd1503c7d57b4770866bc15dc9d5f732",
      "max": 1718,
      "min": 0,
      "orientation": "horizontal",
      "style": "IPY_MODEL_658c0b98b327402aa2273c2338f83b1f",
      "value": 1718
     }
    },
    "db0eb7236dc34d65b26d0f0d0dfca622": {
     "model_module": "@jupyter-widgets/controls",
     "model_module_version": "1.5.0",
     "model_name": "HTMLModel",
     "state": {
      "_dom_classes": [],
      "_model_module": "@jupyter-widgets/controls",
      "_model_module_version": "1.5.0",
      "_model_name": "HTMLModel",
      "_view_count": null,
      "_view_module": "@jupyter-widgets/controls",
      "_view_module_version": "1.5.0",
      "_view_name": "HTMLView",
      "description": "",
      "description_tooltip": null,
      "layout": "IPY_MODEL_329604cf2b074ad798b0d15ff32c7b17",
      "placeholder": "​",
      "style": "IPY_MODEL_5be239ba692b4a2ba6788852738a3fe6",
      "value": "model.safetensors: 100%"
     }
    },
    "e1002d6a0d8f4413b7b3ac4545563447": {
     "model_module": "@jupyter-widgets/controls",
     "model_module_version": "1.5.0",
     "model_name": "ProgressStyleModel",
     "state": {
      "_model_module": "@jupyter-widgets/controls",
      "_model_module_version": "1.5.0",
      "_model_name": "ProgressStyleModel",
      "_view_count": null,
      "_view_module": "@jupyter-widgets/base",
      "_view_module_version": "1.2.0",
      "_view_name": "StyleView",
      "bar_color": null,
      "description_width": ""
     }
    },
    "f686223073b54c1795ff0d4de9cb2964": {
     "model_module": "@jupyter-widgets/controls",
     "model_module_version": "1.5.0",
     "model_name": "DescriptionStyleModel",
     "state": {
      "_model_module": "@jupyter-widgets/controls",
      "_model_module_version": "1.5.0",
      "_model_name": "DescriptionStyleModel",
      "_view_count": null,
      "_view_module": "@jupyter-widgets/base",
      "_view_module_version": "1.2.0",
      "_view_name": "StyleView",
      "description_width": ""
     }
    }
   }
  }
 },
 "nbformat": 4,
 "nbformat_minor": 0
}
